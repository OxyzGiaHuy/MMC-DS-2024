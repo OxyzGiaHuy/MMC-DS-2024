{
 "cells": [
  {
   "cell_type": "markdown",
   "metadata": {},
   "source": [
    "### EXERCISE 1"
   ]
  },
  {
   "cell_type": "markdown",
   "metadata": {},
   "source": [
    "**Question 1: Convert cm to inch and foot**"
   ]
  },
  {
   "cell_type": "code",
   "execution_count": 2,
   "metadata": {},
   "outputs": [
    {
     "name": "stdout",
     "output_type": "stream",
     "text": [
      "Doi sang inch: 0.79 inch\n",
      "Doi sang foot: 0.07 foot\n"
     ]
    }
   ],
   "source": [
    "cm = int(input(\"Nhap vao so thuc x: \"))\n",
    "inch = cm / 2.54\n",
    "foot = inch / 12\n",
    "print(f\"Doi sang inch: {round(inch, 2)} inch\")\n",
    "print(f\"Doi sang foot: {round(foot, 2)} foot\")"
   ]
  },
  {
   "cell_type": "markdown",
   "metadata": {},
   "source": [
    "__Question 2: Time__"
   ]
  },
  {
   "cell_type": "code",
   "execution_count": 5,
   "metadata": {},
   "outputs": [
    {
     "name": "stdout",
     "output_type": "stream",
     "text": [
      "12 : 43 : 29\n"
     ]
    }
   ],
   "source": [
    "seconds = int(input(\"Nhap vao so giay (0-68399): \"))\n",
    "second = seconds % 60\n",
    "minute = (seconds // 60) % 60\n",
    "hour = seconds // 3600\n",
    "print(hour, \":\", minute, \":\", second)"
   ]
  },
  {
   "cell_type": "markdown",
   "metadata": {},
   "source": [
    "__Question 3: Find max and min__"
   ]
  },
  {
   "cell_type": "code",
   "execution_count": 8,
   "metadata": {},
   "outputs": [
    {
     "name": "stdout",
     "output_type": "stream",
     "text": [
      "Max =  288\n",
      "Min =  2\n"
     ]
    }
   ],
   "source": [
    "numbers = [int(num) for num in input(\"Nhap vao cac so nguyen (dung lai khi enter): \").split()]\n",
    "max = 0\n",
    "min = 999999\n",
    "for num in numbers:\n",
    "    if num < min:\n",
    "        min = num\n",
    "    if num > max:\n",
    "        max = num\n",
    "\n",
    "print(\"Max = \", max)\n",
    "print(\"Min = \", min)"
   ]
  },
  {
   "cell_type": "markdown",
   "metadata": {},
   "source": [
    "__Question 4: Which is larger?__"
   ]
  },
  {
   "cell_type": "code",
   "execution_count": 12,
   "metadata": {},
   "outputs": [
    {
     "name": "stdout",
     "output_type": "stream",
     "text": [
      "So thu hai lon hon so thu nhat.\n"
     ]
    }
   ],
   "source": [
    "a = int(input(\"Nhap vao a: \"))\n",
    "b = int(input(\"Nhap vao b: \"))\n",
    "if a - b > 0:\n",
    "    print(\"So thu nhat lon hon so thu hai.\")\n",
    "if b - a > 0:\n",
    "    print(\"So thu hai lon hon so thu nhat.\")\n"
   ]
  },
  {
   "cell_type": "markdown",
   "metadata": {},
   "source": [
    "__Question 5: Does a divide b?__"
   ]
  },
  {
   "cell_type": "code",
   "execution_count": 13,
   "metadata": {},
   "outputs": [
    {
     "name": "stdout",
     "output_type": "stream",
     "text": [
      "a chia het cho b.\n"
     ]
    }
   ],
   "source": [
    "a = int(input(\"Nhap vao a: \"))\n",
    "b = int(input(\"Nhap vao b: \"))\n",
    "if a % b == 0:\n",
    "    print(\"a chia het cho b.\")\n",
    "else:\n",
    "    print(\"a khong chia het cho b.\")"
   ]
  },
  {
   "cell_type": "markdown",
   "metadata": {},
   "source": [
    "__Question 6: Ranking__"
   ]
  },
  {
   "cell_type": "code",
   "execution_count": 15,
   "metadata": {},
   "outputs": [
    {
     "name": "stdout",
     "output_type": "stream",
     "text": [
      "9.425\n",
      "Xuat sac\n"
     ]
    }
   ],
   "source": [
    "math = float(input(\"Nhap vao diem toan: \"))\n",
    "physic = float(input(\"Nhap vao diem ly: \"))\n",
    "chemistry = float(input(\"Nhap vao diem hoa: \"))\n",
    "average = (2*math + physic + chemistry)/4\n",
    "print(average)\n",
    "\n",
    "def xepLoai(average):\n",
    "    if average >= 9.0:\n",
    "        print(\"Xuat sac\")\n",
    "    elif average >= 8.0:\n",
    "        print(\"Gioi\")\n",
    "    elif average >= 7.0:\n",
    "        print(\"Kha\")\n",
    "    elif average >= 6.0:\n",
    "        print(\"Trung binh kha\")\n",
    "    elif average >= 5.0:\n",
    "        print(\"Trung binh\")\n",
    "    else:\n",
    "        print(\"Kem\")\n",
    "\n",
    "xepLoai(average)"
   ]
  },
  {
   "cell_type": "markdown",
   "metadata": {},
   "source": [
    "### EXERCISE 2"
   ]
  },
  {
   "cell_type": "markdown",
   "metadata": {},
   "source": [
    "__Question 1: Sum of digits__"
   ]
  },
  {
   "cell_type": "code",
   "execution_count": 19,
   "metadata": {},
   "outputs": [
    {
     "name": "stdout",
     "output_type": "stream",
     "text": [
      "32\n"
     ]
    }
   ],
   "source": [
    "number = int(input(\"Nhap vao so nguyen: \"))\n",
    "sum = 0\n",
    "while number > 0:\n",
    "    sum += number % 10\n",
    "    number = int(number/10)\n",
    "\n",
    "print(sum)"
   ]
  },
  {
   "cell_type": "markdown",
   "metadata": {},
   "source": [
    "__Question 2: Prime factorization__"
   ]
  },
  {
   "cell_type": "code",
   "execution_count": 39,
   "metadata": {},
   "outputs": [
    {
     "name": "stdout",
     "output_type": "stream",
     "text": [
      "57 = 3 x 19"
     ]
    }
   ],
   "source": [
    "def factorize(n):\n",
    "    listPrime = []\n",
    "    for i in range(2, int(n/2) + 1):\n",
    "        while n % i == 0:\n",
    "            listPrime.append(i)\n",
    "            n /= i\n",
    "    # when n is prime\n",
    "    if n > 1: listPrime.append(n)\n",
    "    return listPrime\n",
    "\n",
    "number = int(input(\"Nhap so can phan tich: \"))\n",
    "print(number, end = \" = \")\n",
    "listPrime = factorize(number)\n",
    "if len(listPrime) == 1:\n",
    "    print(number)\n",
    "else:\n",
    "    print(listPrime[0], end = \"\")\n",
    "    for i in range(1, len(listPrime)):\n",
    "        print(\" x\", listPrime[i], end = \"\")"
   ]
  },
  {
   "cell_type": "markdown",
   "metadata": {},
   "source": [
    "__Question 3: Primes that are < n__"
   ]
  },
  {
   "cell_type": "code",
   "execution_count": 46,
   "metadata": {},
   "outputs": [
    {
     "name": "stdout",
     "output_type": "stream",
     "text": [
      "2 3 "
     ]
    }
   ],
   "source": [
    "def isPrime(n):\n",
    "    if (n <= 1): return False\n",
    "    if (n == 2 or n == 3): return True\n",
    "    for i in range(2, int(n ** 0.5) + 1):\n",
    "        if n % i == 0: return False\n",
    "    return True\n",
    "\n",
    "n = int(input(\"Nhap vao so nguyen n: \"))\n",
    "for i in range(0, n):\n",
    "    if isPrime(i):\n",
    "        print(i, end = \" \")"
   ]
  },
  {
   "cell_type": "markdown",
   "metadata": {},
   "source": [
    "__Question 4: First n primes__"
   ]
  },
  {
   "cell_type": "code",
   "execution_count": 50,
   "metadata": {},
   "outputs": [
    {
     "name": "stdout",
     "output_type": "stream",
     "text": [
      "2 3 5 7 11 13 17 19 23 29 "
     ]
    }
   ],
   "source": [
    "# using function isPrime in above cell\n",
    "n = int(input(\"Nhap vao so nguyen n: \"))\n",
    "count = 1\n",
    "i = 3\n",
    "print(2, end = \" \")\n",
    "while (count < n):\n",
    "    if (isPrime(i)):\n",
    "        print(i, end = \" \")\n",
    "        count += 1\n",
    "    i += 2\n"
   ]
  },
  {
   "cell_type": "markdown",
   "metadata": {},
   "source": [
    "__Question 5: GCD and LCM__"
   ]
  },
  {
   "cell_type": "code",
   "execution_count": 58,
   "metadata": {},
   "outputs": [
    {
     "name": "stdout",
     "output_type": "stream",
     "text": [
      "GCD(a, b) =  8\n",
      "LCM(a, b) =  48\n"
     ]
    }
   ],
   "source": [
    "def GCD(a, b):\n",
    "    if b == 0: return a\n",
    "    return GCD(b, abs(a - b))\n",
    "\n",
    "def LCM(a, b):\n",
    "    return int(a / GCD(a,b) * b)\n",
    "\n",
    "a = int(input(\"Nhap vao a: \"))\n",
    "b = int(input(\"Nhap vao b: \"))\n",
    "print(\"GCD(a, b) = \", GCD(a,b))\n",
    "print(\"LCM(a, b) = \", LCM(a,b))"
   ]
  },
  {
   "cell_type": "markdown",
   "metadata": {},
   "source": [
    "__Question 6: Fibonacci__"
   ]
  },
  {
   "cell_type": "code",
   "execution_count": 68,
   "metadata": {},
   "outputs": [
    {
     "name": "stdout",
     "output_type": "stream",
     "text": [
      "So fibonacci thu n: 6765\n"
     ]
    }
   ],
   "source": [
    "def Fibo(n):\n",
    "    if n == 0: return 1\n",
    "    if n == 1: return 1\n",
    "    f0, f1 = 1, 1\n",
    "    for i in range(1, n):\n",
    "        fn = f0 + f1\n",
    "        f0 = f1\n",
    "        f1 = fn\n",
    "    return fn\n",
    "\n",
    "n = int(input(\"Nhap vao so nguyen n: \"))\n",
    "print(\"So fibonacci thu n:\", Fibo(n))"
   ]
  },
  {
   "cell_type": "markdown",
   "metadata": {},
   "source": [
    "__Question 7: \"Prime Fibonacci\"s < n__"
   ]
  },
  {
   "cell_type": "code",
   "execution_count": 73,
   "metadata": {},
   "outputs": [
    {
     "name": "stdout",
     "output_type": "stream",
     "text": [
      "2 3 5 13 89 233 1597 28657 514229 "
     ]
    }
   ],
   "source": [
    "def isPrime(n):\n",
    "    if (n <= 1): return False\n",
    "    if (n == 2 or n == 3): return True\n",
    "    for i in range(2, int(n ** 0.5) + 1):\n",
    "        if n % i == 0: return False\n",
    "    return True\n",
    "\n",
    "def Fibo(n):\n",
    "    if n == 0: return 1\n",
    "    if n == 1: return 1\n",
    "    f0, f1 = 1, 1\n",
    "    for i in range(1, n):\n",
    "        fn = f0 + f1\n",
    "        f0 = f1\n",
    "        f1 = fn\n",
    "    return fn\n",
    "\n",
    "n = int(input(\"Nhap vao so nguyen n: \"))\n",
    "i = 0\n",
    "while Fibo(i) < n:\n",
    "    if isPrime(Fibo(i)):\n",
    "        print(Fibo(i), end = \" \")\n",
    "    i += 1"
   ]
  },
  {
   "cell_type": "markdown",
   "metadata": {},
   "source": [
    "__Question 8: Sum of digit, and prime factorization__"
   ]
  },
  {
   "cell_type": "code",
   "execution_count": 81,
   "metadata": {},
   "outputs": [
    {
     "name": "stdout",
     "output_type": "stream",
     "text": [
      "Sum of digits of n is 18\n",
      "189 = 3 x 3 x 3 x 7"
     ]
    }
   ],
   "source": [
    "n = int(input(\"Nhap vao so nguyen duong n: \"))\n",
    "\n",
    "n1 = n\n",
    "sum = 0\n",
    "while n1 > 0:\n",
    "    sum += n1 % 10\n",
    "    n1 = int(n1/10)\n",
    "print(\"Sum of digits of n is\", sum)\n",
    "\n",
    "def factorize(n):\n",
    "    listPrime = []\n",
    "    for i in range(2, int(n/2) + 1):\n",
    "        while n % i == 0:\n",
    "            listPrime.append(i)\n",
    "            n /= i\n",
    "    # when n is prime\n",
    "    if n > 1: listPrime.append(n)\n",
    "    return listPrime\n",
    "\n",
    "print(n, end = \" = \")\n",
    "listPrime = factorize(n)\n",
    "if len(listPrime) == 1:\n",
    "    print(number)\n",
    "else:\n",
    "    print(listPrime[0], end = \"\")\n",
    "    for i in range(1, len(listPrime)):\n",
    "        print(\" x\", listPrime[i], end = \"\")"
   ]
  },
  {
   "cell_type": "markdown",
   "metadata": {},
   "source": [
    "__Question 9: Divisors__"
   ]
  },
  {
   "cell_type": "code",
   "execution_count": 90,
   "metadata": {},
   "outputs": [
    {
     "name": "stdout",
     "output_type": "stream",
     "text": [
      "1 5 29 145 \n",
      "n has 4 divisors\n",
      "5 29 "
     ]
    }
   ],
   "source": [
    "n = int(input(\"Nhap vao so nguyen duong n: \"))\n",
    "\n",
    "count = 0\n",
    "for i in range(1, n + 1):\n",
    "    if n % i == 0:\n",
    "        print(i, end = \" \")\n",
    "        count += 1\n",
    "\n",
    "print(\"\\nn has\", count, \"divisors\")\n",
    "\n",
    "def isPrime(n):\n",
    "    if (n <= 1): return False\n",
    "    if (n == 2 or n == 3): return True\n",
    "    for i in range(2, int(n ** 0.5) + 1):\n",
    "        if n % i == 0: return False\n",
    "    return True\n",
    "for i in range(1, n + 1):\n",
    "    if n % i == 0 and isPrime(i):\n",
    "        print(i, end = \" \")"
   ]
  },
  {
   "cell_type": "markdown",
   "metadata": {},
   "source": [
    "__Question 10: Normalize String__"
   ]
  },
  {
   "cell_type": "code",
   "execution_count": 102,
   "metadata": {},
   "outputs": [
    {
     "name": "stdout",
     "output_type": "stream",
     "text": [
      "Xau ki tu sau khi chuan hoa: Hello Thai Gia Huuuuy\n"
     ]
    }
   ],
   "source": [
    "def normalize(str):\n",
    "    str = str.title().split()\n",
    "    str = \" \".join(str)\n",
    "    return str\n",
    "\n",
    "\n",
    "str = input(\"Nhap vao 1 xau ki tu: \")\n",
    "print(\"Xau ki tu sau khi chuan hoa:\", normalize(str))"
   ]
  },
  {
   "cell_type": "markdown",
   "metadata": {},
   "source": [
    "__Question 11: Find longest substring__"
   ]
  },
  {
   "cell_type": "code",
   "execution_count": 108,
   "metadata": {},
   "outputs": [
    {
     "name": "stdout",
     "output_type": "stream",
     "text": [
      "Longest substring: giahuy at position 1\n"
     ]
    }
   ],
   "source": [
    "str = input(\"Nhap vao 1 xau ki tu: \")\n",
    "\n",
    "def findLongestSubString(str):\n",
    "    str = str.split()\n",
    "    listLen = [len(word) for word in str]\n",
    "    maxLength = 0\n",
    "    for length in listLen:\n",
    "        if length > maxLength:\n",
    "            maxLength = length\n",
    "    for i in range(0, len(str)):\n",
    "        if len(str[i]) == maxLength:\n",
    "            return i, str[i]\n",
    "    \n",
    "pos, substring = findLongestSubString(str)\n",
    "print(\"Longest substring:\", substring, \"at position\",pos)\n"
   ]
  },
  {
   "cell_type": "markdown",
   "metadata": {},
   "source": [
    "### EXERCISE 3"
   ]
  },
  {
   "cell_type": "markdown",
   "metadata": {},
   "source": [
    "__Question 1:__"
   ]
  },
  {
   "cell_type": "code",
   "execution_count": 124,
   "metadata": {},
   "outputs": [
    {
     "name": "stdout",
     "output_type": "stream",
     "text": [
      "* \n",
      "\n",
      "* * \n",
      "\n",
      "* * * \n",
      "\n",
      "---------------\n",
      "* * * \n",
      "\n",
      "* * \n",
      "\n",
      "* \n",
      "\n",
      "---------------\n",
      "* * * \n",
      "\n",
      "  * * \n",
      "\n",
      "    * \n",
      "\n",
      "---------------\n",
      "*       \n",
      "\n",
      "* *     \n",
      "\n",
      "* * *   \n",
      "\n"
     ]
    }
   ],
   "source": [
    "def triangle_a(n):\n",
    "    for i in range(1, n + 1):\n",
    "        for j in range(1, i + 1):\n",
    "            print(\"*\", end = \" \")\n",
    "        print(\"\\n\")\n",
    "\n",
    "def triangle_b(n):\n",
    "    for i in range(1, n + 1):\n",
    "        for j in range(n - i + 1, 0, -1):\n",
    "            print(\"*\", end = \" \")\n",
    "        print(\"\\n\")\n",
    "\n",
    "def triangle_c(n):\n",
    "    for i in range(1, n + 1):\n",
    "        for j in range(0, i - 1):\n",
    "            print(\" \", end = \" \")\n",
    "        for j in range(0, n - i + 1):\n",
    "            print(\"*\", end = \" \")\n",
    "        print(\"\\n\")\n",
    "\n",
    "def triangle_d(n):\n",
    "    for i in range(1, n + 1):\n",
    "        for j in range(0, i):\n",
    "            print(\"*\", end = \" \")\n",
    "        for j in range(0, n - i + 1):\n",
    "            print(\" \", end = \" \")\n",
    "        print(\"\\n\")\n",
    "\n",
    "n = int(input(\"Nhap vao so nguyen duong n: \"))\n",
    "triangle_a(n)\n",
    "print(\"---------------\")\n",
    "triangle_b(n)\n",
    "print(\"---------------\")\n",
    "triangle_c(n)\n",
    "print(\"---------------\")\n",
    "triangle_d(n)"
   ]
  },
  {
   "cell_type": "markdown",
   "metadata": {},
   "source": [
    "__Question 2: n!__"
   ]
  },
  {
   "cell_type": "code",
   "execution_count": 110,
   "metadata": {},
   "outputs": [
    {
     "name": "stdout",
     "output_type": "stream",
     "text": [
      "120\n"
     ]
    }
   ],
   "source": [
    "def factorial(n):\n",
    "    if (n == 0): return 1\n",
    "    return n * factorial(n-1)\n",
    "\n",
    "n = int(input(\"Nhap vao so nguyen duong n: \"))\n",
    "print(factorial(n))\n"
   ]
  }
 ],
 "metadata": {
  "kernelspec": {
   "display_name": "base",
   "language": "python",
   "name": "python3"
  },
  "language_info": {
   "codemirror_mode": {
    "name": "ipython",
    "version": 3
   },
   "file_extension": ".py",
   "mimetype": "text/x-python",
   "name": "python",
   "nbconvert_exporter": "python",
   "pygments_lexer": "ipython3",
   "version": "3.11.5"
  }
 },
 "nbformat": 4,
 "nbformat_minor": 2
}
