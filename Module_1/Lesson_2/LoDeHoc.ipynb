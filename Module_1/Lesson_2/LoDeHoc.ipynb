{
  "cells": [
    {
      "cell_type": "code",
      "execution_count": 1,
      "id": "3e4c2df9-64cb-4ef1-9941-40513d8d1292",
      "metadata": {
        "id": "3e4c2df9-64cb-4ef1-9941-40513d8d1292"
      },
      "outputs": [],
      "source": [
        "import random\n",
        "# ham xoa screen\n",
        "from IPython.display import clear_output"
      ]
    },
    {
      "cell_type": "code",
      "execution_count": 2,
      "id": "5762173c-1827-4817-aec1-32cbf526961c",
      "metadata": {
        "id": "5762173c-1827-4817-aec1-32cbf526961c"
      },
      "outputs": [],
      "source": [
        "# Khởi tạo biến toàn cục\n",
        "tong_tien = 1000000"
      ]
    },
    {
      "cell_type": "code",
      "execution_count": 3,
      "id": "e98be3c4-c8a5-45a7-a44a-87147befb9ab",
      "metadata": {
        "id": "e98be3c4-c8a5-45a7-a44a-87147befb9ab"
      },
      "outputs": [],
      "source": [
        "def quay_so():\n",
        "    # QUAY GIẢI NHẤT\n",
        "    GIAI_NHAT = random.randint(10,99)\n",
        "    # QUAY GIẢI NHÌ\n",
        "    GIAI_NHI = random.randint(10,99)\n",
        "    # QUAY GIẢI BA\n",
        "    GIAI_BA = random.randint(10,99)\n",
        "    # QUAY GIẢI TƯ\n",
        "    GIAI_TU = random.randint(10,99)\n",
        "    # QUAY GIẢI NĂM\n",
        "    GIAI_NAM = random.randint(10,99)\n",
        "    # QUAY GIẢI SÁU\n",
        "    GIAI_SAU = random.randint(10,99)\n",
        "    # QUAY GIẢI BẢY\n",
        "    GIAI_BAY = random.randint(10,99)\n",
        "    return GIAI_NHAT, GIAI_NHI, GIAI_BA, GIAI_TU, GIAI_NAM, GIAI_SAU, GIAI_BAY"
      ]
    },
    {
      "cell_type": "code",
      "execution_count": 4,
      "id": "ff437216-d2a8-4ad7-9bdf-304371be5dd3",
      "metadata": {
        "id": "ff437216-d2a8-4ad7-9bdf-304371be5dd3"
      },
      "outputs": [],
      "source": [
        "def in_danh_sach_giai(danh_sach_giai):\n",
        "    print('-' * 20)\n",
        "    print(\"---DANH SÁCH GIẢI---\")\n",
        "    giai = 1\n",
        "    for so in danh_sach_giai:\n",
        "        print(f\"Giai {giai}: {so}\")\n",
        "        giai += 1\n",
        "    print('-' * 20)"
      ]
    },
    {
      "cell_type": "code",
      "execution_count": 5,
      "id": "5d452d9a-2846-4ea0-a30c-4e9341f8785b",
      "metadata": {
        "id": "5d452d9a-2846-4ea0-a30c-4e9341f8785b"
      },
      "outputs": [],
      "source": [
        "def nhap_so_lo():\n",
        "    while True:\n",
        "        so_lo = input(\"Nhập số lô mà bạn muốn cược (10-99): \")\n",
        "        if so_lo.isdigit() and 10 <= int(so_lo) <= 99:\n",
        "            return int(so_lo)\n",
        "        else:\n",
        "            print(\"Nhập sai định dạng, vui lòng nhập lại!\")"
      ]
    },
    {
      "cell_type": "code",
      "execution_count": 6,
      "id": "c1ba69f5-094d-455e-b5a0-ca82f3a49848",
      "metadata": {
        "id": "c1ba69f5-094d-455e-b5a0-ca82f3a49848"
      },
      "outputs": [],
      "source": [
        "def nhap_tien_cuoc():\n",
        "    while True:\n",
        "        tien_cuoc = input(\"Nhập tiền cược mà bạn muốn cược (tiền cược <= tổng tiền bạn có): \")\n",
        "        if tien_cuoc.isdigit() and int(tien_cuoc) <= tong_tien:\n",
        "            return int(tien_cuoc)\n",
        "        else:\n",
        "            print(\"Nhập sai định dạng hoặc quá tổng tiền. Nhập lại\")"
      ]
    },
    {
      "cell_type": "code",
      "execution_count": 7,
      "id": "4adb89f5-d291-4012-9f39-d1f63d098f71",
      "metadata": {
        "id": "4adb89f5-d291-4012-9f39-d1f63d098f71"
      },
      "outputs": [],
      "source": [
        "def game_quay_so(so_lo, tien_cuoc):\n",
        "    global tong_tien\n",
        "\n",
        "    danh_sach_giai = quay_so()\n",
        "    dem_so_lo = 0\n",
        "    print(f\"Số lô bạn chơi là: {so_lo}\")\n",
        "    in_danh_sach_giai(danh_sach_giai)\n",
        "    for giai in danh_sach_giai:\n",
        "        if so_lo == giai:\n",
        "            dem_so_lo += 1\n",
        "    if dem_so_lo > 0:\n",
        "        tong_tien += (tien_cuoc * dem_so_lo) * 70\n",
        "        print(f\"Bạn đã trúng {dem_so_lo} nháy!\")\n",
        "        print(f\"Số tiền bạn trúng là {(tien_cuoc * dem_so_lo) * 70}\")\n",
        "        print(f\"Tổng tiền bạn có là {tong_tien}\")\n",
        "    else:\n",
        "        print(\"Bạn đã thua lô!\")\n",
        "        tong_tien -= tien_cuoc\n",
        "        print(f\"Tổng tiền bạn còn là {tong_tien}\")"
      ]
    },
    {
      "cell_type": "code",
      "execution_count": 8,
      "id": "3791627e-99eb-45c9-a504-75c07857a60c",
      "metadata": {
        "id": "3791627e-99eb-45c9-a504-75c07857a60c"
      },
      "outputs": [],
      "source": [
        "def nap_tien():\n",
        "    global tong_tien\n",
        "    while True:\n",
        "        tien_nap = int(input(\"Nhập số tiền mà bạn muốn nạp: \"))\n",
        "        tong_tien += tien_nap\n",
        "        print(f\"Tổng tiền sau khi bạn nạp là {tong_tien}\")\n",
        "        nap_tiep = int(input(\"Bạn có muốn nạp tiếp không? (0: không, 1: có)\"))\n",
        "        if nap_tiep == 0:\n",
        "            break\n",
        "        else:\n",
        "            continue"
      ]
    },
    {
      "cell_type": "code",
      "execution_count": 9,
      "id": "1f8cfba8-1313-4e3d-b860-7abe07ba8928",
      "metadata": {
        "id": "1f8cfba8-1313-4e3d-b860-7abe07ba8928"
      },
      "outputs": [],
      "source": [
        "def menu():\n",
        "    print(\"GAME LÔ ĐỀ HỌC\")\n",
        "    print(\"1. Chơi lô\")\n",
        "    print(\"2. Nạp tiền\")\n",
        "    print(\"3. Thoát game\")"
      ]
    },
    {
      "cell_type": "code",
      "execution_count": 10,
      "id": "b1e61753-6408-4524-9c61-944bd8c187bc",
      "metadata": {
        "id": "b1e61753-6408-4524-9c61-944bd8c187bc"
      },
      "outputs": [],
      "source": [
        "def main():\n",
        "    menu()\n",
        "    while True:\n",
        "        lua_chon = int(input(\"Bạn chọn: \"))\n",
        "        match lua_chon:\n",
        "            case 1:\n",
        "                clear_output(wait=True)\n",
        "                while True:\n",
        "                    tien_cuoc = nhap_tien_cuoc()\n",
        "                    so_lo = nhap_so_lo()\n",
        "                    game_quay_so(so_lo, tien_cuoc)\n",
        "                    if tong_tien == 0:\n",
        "                        print(\"Bạn đã phá sản. Vui lòng kiếm việc đàng hoàng mà sinh sống!\")\n",
        "                        break\n",
        "                    choi_tiep = int(input(\"Bạn có muốn chơi tiếp không? (0: không, 1: có)\"))\n",
        "                    if choi_tiep == 0:\n",
        "                        break\n",
        "                clear_output(wait=True)\n",
        "                main()\n",
        "                break\n",
        "            case 2:\n",
        "                clear_output()\n",
        "                nap_tien()\n",
        "                clear_output(wait=True)\n",
        "                main()\n",
        "                break\n",
        "            case 3:\n",
        "                print(\"Chào bạn, hẹn gặp lại!\")\n",
        "                break\n",
        "            case _:\n",
        "                print(\"Nhập sai lựa chọn, vui lòng nhập lại !\")"
      ]
    },
    {
      "cell_type": "code",
      "execution_count": 12,
      "id": "230961ee-1cdb-4afc-9df4-51cd69e918cf",
      "metadata": {
        "id": "230961ee-1cdb-4afc-9df4-51cd69e918cf"
      },
      "outputs": [
        {
          "name": "stdout",
          "output_type": "stream",
          "text": [
            "GAME LÔ ĐỀ HỌC\n",
            "1. Chơi lô\n",
            "2. Nạp tiền\n",
            "3. Thoát game\n",
            "Chào bạn, hẹn gặp lại!\n"
          ]
        }
      ],
      "source": [
        "main()"
      ]
    }
  ],
  "metadata": {
    "colab": {
      "provenance": []
    },
    "kernelspec": {
      "display_name": "Python 3 (ipykernel)",
      "language": "python",
      "name": "python3"
    },
    "language_info": {
      "codemirror_mode": {
        "name": "ipython",
        "version": 3
      },
      "file_extension": ".py",
      "mimetype": "text/x-python",
      "name": "python",
      "nbconvert_exporter": "python",
      "pygments_lexer": "ipython3",
      "version": "3.11.5"
    }
  },
  "nbformat": 4,
  "nbformat_minor": 5
}
