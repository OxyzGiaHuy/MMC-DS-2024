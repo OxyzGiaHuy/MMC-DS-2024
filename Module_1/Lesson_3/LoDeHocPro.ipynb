{
 "cells": [
  {
   "cell_type": "code",
   "execution_count": 1,
   "id": "3e4c2df9-64cb-4ef1-9941-40513d8d1292",
   "metadata": {
    "id": "3e4c2df9-64cb-4ef1-9941-40513d8d1292"
   },
   "outputs": [],
   "source": [
    "import random\n",
    "# ham xoa screen\n",
    "from IPython.display import clear_output"
   ]
  },
  {
   "cell_type": "code",
   "execution_count": 2,
   "id": "5762173c-1827-4817-aec1-32cbf526961c",
   "metadata": {
    "id": "5762173c-1827-4817-aec1-32cbf526961c"
   },
   "outputs": [],
   "source": [
    "# Khởi tạo biến toàn cục\n",
    "tong_tien = 1000000\n",
    "dang_nhap_status = False"
   ]
  },
  {
   "cell_type": "code",
   "execution_count": 3,
   "id": "e98be3c4-c8a5-45a7-a44a-87147befb9ab",
   "metadata": {
    "id": "e98be3c4-c8a5-45a7-a44a-87147befb9ab"
   },
   "outputs": [],
   "source": [
    "def quay_so():\n",
    "    danh_sach_giai = {}\n",
    "\n",
    "    ten_giai = [\"GIẢI NHẤT\", \"GIẢI NHÌ\", \"GIẢI BA\", \"GIẢI TƯ\", \"GIẢI NĂM\", \"GIẢI SÁU\", \"GIẢI BẢY\"]\n",
    "\n",
    "    for giai in ten_giai:\n",
    "        so_trung = \"\"\n",
    "        for i in range(5):\n",
    "            so_trung += str(random.randint(0,9))\n",
    "        danh_sach_giai[giai] = so_trung\n",
    "\n",
    "    return danh_sach_giai"
   ]
  },
  {
   "cell_type": "code",
   "execution_count": 4,
   "id": "ff437216-d2a8-4ad7-9bdf-304371be5dd3",
   "metadata": {
    "id": "ff437216-d2a8-4ad7-9bdf-304371be5dd3"
   },
   "outputs": [],
   "source": [
    "def in_danh_sach_giai(danh_sach_giai):\n",
    "    print('-' * 20)\n",
    "    print(\"---DANH SÁCH GIẢI---\")\n",
    "    \n",
    "    for giai, so_trung in danh_sach_giai.items():\n",
    "        print(f\"{giai:10}: {so_trung}\")\n",
    "    print('-' * 20)"
   ]
  },
  {
   "cell_type": "code",
   "execution_count": 5,
   "id": "5d452d9a-2846-4ea0-a30c-4e9341f8785b",
   "metadata": {
    "id": "5d452d9a-2846-4ea0-a30c-4e9341f8785b"
   },
   "outputs": [],
   "source": [
    "def nhap_so_lo():\n",
    "    while True:\n",
    "        cac_so_lo = input(\"Nhập các số lô mà bạn muốn cược (10-99), cách nhau bởi dấu phẩy: \")\n",
    "        danh_sach_so_lo = cac_so_lo.split(\",\")\n",
    "\n",
    "        hop_le = True\n",
    "        for so_lo in danh_sach_so_lo:\n",
    "            if not so_lo.isdigit() or len(so_lo) != 2:\n",
    "                hop_le = False\n",
    "                print(\"Số lô nhập không hợp lệ. Vui lòng nhập lại.\")\n",
    "                break\n",
    "        \n",
    "        if hop_le:\n",
    "            return danh_sach_so_lo"
   ]
  },
  {
   "cell_type": "code",
   "execution_count": 6,
   "id": "c1ba69f5-094d-455e-b5a0-ca82f3a49848",
   "metadata": {
    "id": "c1ba69f5-094d-455e-b5a0-ca82f3a49848"
   },
   "outputs": [],
   "source": [
    "def nhap_tien_cuoc(so_lo_choi):\n",
    "    while True:\n",
    "        tien_cuoc = input(\"Nhập tiền cược mà bạn muốn cược (tiền cược <= tổng tiền bạn có): \")\n",
    "        if tien_cuoc.isdigit() and int(tien_cuoc) * so_lo_choi <= tong_tien:\n",
    "            return int(tien_cuoc)\n",
    "        else:\n",
    "            print(\"Nhập sai định dạng hoặc quá tổng tiền. Vui lòng nhập lại.\")"
   ]
  },
  {
   "cell_type": "code",
   "execution_count": 7,
   "id": "4adb89f5-d291-4012-9f39-d1f63d098f71",
   "metadata": {
    "id": "4adb89f5-d291-4012-9f39-d1f63d098f71"
   },
   "outputs": [],
   "source": [
    "def game_quay_so(danh_sach_so_lo, tien_cuoc):\n",
    "    global tong_tien\n",
    "\n",
    "    danh_sach_giai = quay_so()\n",
    "    in_danh_sach_giai(danh_sach_giai)\n",
    "    print(f\"Số lô bạn đã chơi: {danh_sach_so_lo}\")\n",
    "    \n",
    "    dem_so_lo_trung = 0\n",
    "    so_lo_da_trung = []\n",
    "    for giai, so_trung in danh_sach_giai.items():\n",
    "        for so_lo in danh_sach_so_lo:\n",
    "            if so_lo == so_trung[-2:]:\n",
    "                dem_so_lo_trung += 1\n",
    "                so_lo_da_trung.append(so_lo)\n",
    "\n",
    "    so_lo_thua = len(danh_sach_so_lo) - dem_so_lo_trung\n",
    "    if dem_so_lo_trung > 0:\n",
    "        tien_thang = tien_cuoc * dem_so_lo_trung * 70\n",
    "        tien_thua = tien_cuoc * so_lo_thua\n",
    "        tong_tien += tien_thang - tien_thua\n",
    "\n",
    "        print(f\"Bạn đã trúng {dem_so_lo_trung} nháy!\")\n",
    "        print(f\"Số tiền bạn trúng là {tien_thang}.\")\n",
    "        print(f\"Số tiền bạn trượt là {tien_thua}.\")\n",
    "        print(f\"Tổng tiền bạn có là {tong_tien}.\")\n",
    "    else:\n",
    "        tien_thua = tien_cuoc * so_lo_thua\n",
    "        tong_tien -= tien_thua\n",
    "        print(\"Bạn đã thua lô!\")\n",
    "        print(f\"Số tiền bạn trượt là {tien_thua}.\")\n",
    "        print(f\"Tổng tiền bạn còn là {tong_tien}.\")"
   ]
  },
  {
   "cell_type": "code",
   "execution_count": 8,
   "id": "3791627e-99eb-45c9-a504-75c07857a60c",
   "metadata": {
    "id": "3791627e-99eb-45c9-a504-75c07857a60c"
   },
   "outputs": [],
   "source": [
    "def nap_tien():\n",
    "    global tong_tien\n",
    "    while True:\n",
    "        tien_nap = int(input(\"Nhập số tiền mà bạn muốn nạp: \"))\n",
    "        tong_tien += tien_nap\n",
    "        print(f\"Tổng tiền sau khi bạn nạp là {tong_tien}\")\n",
    "        nap_tiep = int(input(\"Bạn có muốn nạp tiếp không? (0: không, 1: có)\"))\n",
    "        if nap_tiep == 0:\n",
    "            break\n",
    "        else:\n",
    "            continue"
   ]
  },
  {
   "cell_type": "code",
   "execution_count": 9,
   "id": "2039d3bd",
   "metadata": {},
   "outputs": [],
   "source": [
    "def dang_nhap():\n",
    "    global dang_nhap_status\n",
    "\n",
    "    print(\"---GAME LÔ ĐỀ HỌC---\")\n",
    "    print(\"Vui lòng đăng nhập để chơi game\")\n",
    "    \n",
    "    while True:\n",
    "        username = input(\"Nhập username: \")\n",
    "        password = input(\"Nhập password: \")\n",
    "\n",
    "        if username == \"admin\" and password == \"admin\":\n",
    "            dang_nhap_status = True\n",
    "            break\n",
    "        else:\n",
    "            print(\"Sai tên người dùng hoặc mật khẩu, vui lòng thử lại.\")\n",
    "    clear_output()\n",
    "    menu()"
   ]
  },
  {
   "cell_type": "code",
   "execution_count": 10,
   "id": "1f8cfba8-1313-4e3d-b860-7abe07ba8928",
   "metadata": {
    "id": "1f8cfba8-1313-4e3d-b860-7abe07ba8928"
   },
   "outputs": [],
   "source": [
    "def menu():\n",
    "    print(\"GAME LÔ ĐỀ HỌC\")\n",
    "    print(\"1. Chơi lô\")\n",
    "    print(\"2. Nạp tiền\")\n",
    "    print(\"3. Đăng xuất\")"
   ]
  },
  {
   "cell_type": "code",
   "execution_count": null,
   "id": "b1e61753-6408-4524-9c61-944bd8c187bc",
   "metadata": {
    "id": "b1e61753-6408-4524-9c61-944bd8c187bc"
   },
   "outputs": [],
   "source": [
    "def main():\n",
    "    global dang_nhap_status\n",
    "    if dang_nhap_status == False:\n",
    "        dang_nhap()\n",
    "    else:\n",
    "        menu()\n",
    "    while True:\n",
    "        lua_chon = int(input(\"Bạn chọn: \"))\n",
    "        match lua_chon:\n",
    "            case 1:\n",
    "                clear_output(wait=True)\n",
    "                while True:\n",
    "                    danh_sach_so_lo = nhap_so_lo()\n",
    "                    tien_cuoc = nhap_tien_cuoc(len(danh_sach_so_lo))\n",
    "                    game_quay_so(danh_sach_so_lo, tien_cuoc)\n",
    "                    choi_tiep = int(input(\"Bạn có muốn chơi tiếp không? (0: không, 1: có)\"))\n",
    "                    if choi_tiep == 0:\n",
    "                        break\n",
    "                    if tong_tien == 0:\n",
    "                        print(\"Bạn đã phá sản. Vui lòng kiếm việc đàng hoàng mà sinh sống!\")\n",
    "                        break\n",
    "                clear_output(wait=True)\n",
    "                main()\n",
    "                break\n",
    "            case 2:\n",
    "                clear_output()\n",
    "                nap_tien()\n",
    "                clear_output(wait=True)\n",
    "                main()\n",
    "                break\n",
    "            case 3:\n",
    "                print(\"Chào bạn, hẹn gặp lại!\")\n",
    "                break\n",
    "            case _:\n",
    "                print(\"Nhập sai lựa chọn, vui lòng nhập lại!\")"
   ]
  },
  {
   "cell_type": "code",
   "execution_count": null,
   "id": "230961ee-1cdb-4afc-9df4-51cd69e918cf",
   "metadata": {
    "id": "230961ee-1cdb-4afc-9df4-51cd69e918cf"
   },
   "outputs": [],
   "source": [
    "main()"
   ]
  }
 ],
 "metadata": {
  "colab": {
   "provenance": []
  },
  "kernelspec": {
   "display_name": "Python 3 (ipykernel)",
   "language": "python",
   "name": "python3"
  },
  "language_info": {
   "codemirror_mode": {
    "name": "ipython",
    "version": 3
   },
   "file_extension": ".py",
   "mimetype": "text/x-python",
   "name": "python",
   "nbconvert_exporter": "python",
   "pygments_lexer": "ipython3",
   "version": "3.11.5"
  }
 },
 "nbformat": 4,
 "nbformat_minor": 5
}
