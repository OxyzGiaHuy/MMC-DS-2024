{
 "cells": [
  {
   "cell_type": "code",
   "execution_count": 1,
   "id": "3e4c2df9-64cb-4ef1-9941-40513d8d1292",
   "metadata": {
    "id": "3e4c2df9-64cb-4ef1-9941-40513d8d1292"
   },
   "outputs": [
    {
     "name": "stdout",
     "output_type": "stream",
     "text": [
      "===THỐNG KÊ TỔNG HỢP===\n",
      "Số lượng tài khoản: 2\n",
      "Tổng số lượt chơi lô: 3\n",
      "Tổng tiền chơi lô thắng: 7000000\n",
      "Tổng tiền chơi lô thua: 800000\n",
      "Tỉ lệ thắng/thua: 0.33\n"
     ]
    }
   ],
   "source": [
    "from my_lib import *\n",
    "from IPython.display import clear_output\n"
   ]
  },
  {
   "cell_type": "code",
   "execution_count": 2,
   "id": "5762173c-1827-4817-aec1-32cbf526961c",
   "metadata": {
    "id": "5762173c-1827-4817-aec1-32cbf526961c"
   },
   "outputs": [],
   "source": [
    "# Khởi tạo biến toàn cục\n",
    "dang_nhap_status = False\n",
    "user = \"\""
   ]
  },
  {
   "cell_type": "code",
   "execution_count": 3,
   "id": "3459c6b2",
   "metadata": {},
   "outputs": [],
   "source": [
    "def dang_nhap():\n",
    "    global dang_nhap_status, user\n",
    "    print(\"---GAME LÔ ĐỀ HỌC---\")\n",
    "    print(\"Vui lòng đăng nhập để chơi game\")\n",
    "    \n",
    "    while True:\n",
    "        username = input(\"Nhập username: \")\n",
    "        password = input(\"Nhập password: \")\n",
    "\n",
    "        if check_dang_nhap(username, password):\n",
    "            user = username\n",
    "            dang_nhap_status = True\n",
    "            break\n",
    "        else:\n",
    "            print(\"Sai tên người dùng hoặc mật khẩu, vui lòng thử lại.\")\n",
    "    clear_output()"
   ]
  },
  {
   "cell_type": "code",
   "execution_count": 4,
   "id": "71f3a30a-4dce-422f-a198-6db0559fd948",
   "metadata": {},
   "outputs": [],
   "source": [
    "def main():\n",
    "    global dang_nhap_status, user\n",
    "    if dang_nhap_status == False:\n",
    "        dang_nhap()\n",
    "    if user == \"admin\":\n",
    "        menu_admin()\n",
    "    else:\n",
    "        menu()    \n",
    "    if user == \"admin\":\n",
    "        while True:\n",
    "            lua_chon = int(input(\"Bạn chọn: \"))\n",
    "            match lua_chon:\n",
    "                case 1:\n",
    "                    clear_output(wait=True)\n",
    "                    while True:\n",
    "                        username = input(\"Nhập username cần tạo: \")\n",
    "                        if kiem_tra_ton_tai_tai_khoan(username) == True:\n",
    "                            print(\"Tài khoản user đã tồn tại\")\n",
    "                        elif username == \"admin\":\n",
    "                            print(\"Không được tạo tài khoản admin\")\n",
    "                        else:\n",
    "                            password = input(\"Nhập password cần tạo: \")\n",
    "                            tong_tien = input(\"Nhập số tiền: \")\n",
    "                            tao_tai_khoan(username, password, tong_tien)\n",
    "                        choice = int(input(\"Bạn có muốn tạo thêm không? (0: không, 1: có)\"))\n",
    "                        if choice == 0:\n",
    "                            break\n",
    "                    clear_output()\n",
    "                    main()\n",
    "                    break\n",
    "                case 2:\n",
    "                    clear_output(wait=True)\n",
    "                    while True:\n",
    "                        username = input(\"Nhập username cần xóa: \")\n",
    "                        if kiem_tra_ton_tai_tai_khoan(username) == False:\n",
    "                            print(\"Tài khoản user không tồn tại\")\n",
    "                        elif username == \"admin\":\n",
    "                            print(\"Không được xóa tài khoản admin\")\n",
    "                        else:\n",
    "                            xoa_tai_khoan(username)\n",
    "                        choice = int(input(\"Bạn có muốn xóa thêm không? (0: không, 1: có)\"))\n",
    "                        if choice == 0:\n",
    "                            break\n",
    "                    clear_output()\n",
    "                    main()\n",
    "                    break\n",
    "                case 3:\n",
    "                    clear_output(wait=True)\n",
    "                    while True:\n",
    "                        username = input(\"Nhập username cần nạp tiền: \")\n",
    "                        if kiem_tra_ton_tai_tai_khoan(username) == False:\n",
    "                            print(\"Tài khoản user không tồn tại\")\n",
    "                        else:\n",
    "                            so_tien_nap = int(input(\"Nhập số tiền cần nạp: \"))\n",
    "                            nap_tien(username, so_tien_nap)\n",
    "                        choice = int(input(\"Bạn có muốn nạp thêm không? (0: không, 1: có)\"))\n",
    "                        if choice == 0:\n",
    "                            break\n",
    "                    clear_output()\n",
    "                    main()\n",
    "                    break\n",
    "                case 4:\n",
    "                    clear_output()\n",
    "                    while True:\n",
    "                        thong_ke_admin()\n",
    "                        choice = input(\"Nhấn Enter để quay lại menu: \")\n",
    "                        if choice == \"\":\n",
    "                            break\n",
    "                    clear_output()\n",
    "                    main()\n",
    "                    break\n",
    "                case 5:\n",
    "                    dang_nhap_status = False\n",
    "                    print(\"Chào bạn, hẹn gặp lại!\")\n",
    "                    break\n",
    "                case _:\n",
    "                    print(\"Nhập sai lựa chọn, vui lòng nhập lại !\")\n",
    "    else:\n",
    "        while True:\n",
    "            lua_chon = int(input(\"Bạn chọn: \"))\n",
    "            match lua_chon:\n",
    "                case 1:\n",
    "                    clear_output(wait=True)\n",
    "                    while True:\n",
    "                        danh_sach_so_lo = nhap_so_lo()\n",
    "                        tien_cuoc = nhap_tien_cuoc(user,len(danh_sach_so_lo))\n",
    "                        game_quay_so(user, danh_sach_so_lo, tien_cuoc)\n",
    "                        choi_tiep = int(input(\"Bạn có muốn chơi tiếp không? (0: không, 1: có)\"))\n",
    "                        if choi_tiep == 0:\n",
    "                            break\n",
    "                        else:\n",
    "                            continue\n",
    "                    clear_output()\n",
    "                    main()\n",
    "                    break\n",
    "                case 2:\n",
    "                    clear_output(wait=True)\n",
    "                    while True:\n",
    "                        password_cu = input(\"Nhập password cũ của bạn: \")\n",
    "                        if kiem_tra_tai_khoan(user,password_cu) == \"\":\n",
    "                            print(\"Sai password !\")\n",
    "                            break\n",
    "                        else:\n",
    "                            password_moi = input(\"Nhập password mới của bạn: \")\n",
    "                            doi_mat_khau(user, password_cu, password_moi)\n",
    "                        choice = int(input(\"Bạn có muốn đổi mật khẩu khác không? (0: không, 1: có)\"))\n",
    "                        if choice == 0:\n",
    "                            break\n",
    "                    clear_output()\n",
    "                    main()\n",
    "                    break\n",
    "                case 3:\n",
    "                    clear_output()\n",
    "                    while True:\n",
    "                        thong_ke_user(user)\n",
    "                        choice = input(\"Nhấn Enter để quay lại menu: \")\n",
    "                        if choice == \"\":\n",
    "                            break\n",
    "                    clear_output()\n",
    "                    main()\n",
    "                    break\n",
    "                   \n",
    "                case 4:\n",
    "                    dang_nhap_status = False\n",
    "                    print(\"Chào bạn, hẹn gặp lại!\")\n",
    "                    break\n",
    "                case _:\n",
    "                    print(\"Nhập sai lựa chọn, vui lòng nhập lại !\")\n"
   ]
  },
  {
   "cell_type": "code",
   "execution_count": 5,
   "id": "516a2091-edf1-4ca2-89cb-60d1d40bdbda",
   "metadata": {
    "colab": {
     "base_uri": "https://localhost:8080/"
    },
    "executionInfo": {
     "elapsed": 8895,
     "status": "ok",
     "timestamp": 1711077242017,
     "user": {
      "displayName": "Đăng Nguyễn Hải",
      "userId": "10439053523970398060"
     },
     "user_tz": -420
    },
    "id": "230961ee-1cdb-4afc-9df4-51cd69e918cf",
    "outputId": "f94ebb97-1055-4580-8891-5f68059bc61a"
   },
   "outputs": [
    {
     "name": "stdout",
     "output_type": "stream",
     "text": [
      "Nhập password cũ của bạn: 2206\n"
     ]
    },
    {
     "ename": "NameError",
     "evalue": "name 'kiem_tra_tai_khoan' is not defined",
     "output_type": "error",
     "traceback": [
      "\u001b[1;31m---------------------------------------------------------------------------\u001b[0m",
      "\u001b[1;31mNameError\u001b[0m                                 Traceback (most recent call last)",
      "Cell \u001b[1;32mIn[5], line 1\u001b[0m\n\u001b[1;32m----> 1\u001b[0m main()\n",
      "Cell \u001b[1;32mIn[4], line 100\u001b[0m, in \u001b[0;36mmain\u001b[1;34m()\u001b[0m\n\u001b[0;32m     79\u001b[0m \u001b[38;5;28;01mwhile\u001b[39;00m \u001b[38;5;28;01mTrue\u001b[39;00m:\n\u001b[0;32m     80\u001b[0m     lua_chon \u001b[38;5;241m=\u001b[39m \u001b[38;5;28mint\u001b[39m(\u001b[38;5;28minput\u001b[39m(\u001b[38;5;124m\"\u001b[39m\u001b[38;5;124mBạn chọn: \u001b[39m\u001b[38;5;124m\"\u001b[39m))\n\u001b[0;32m     81\u001b[0m     \u001b[38;5;28;01mmatch\u001b[39;00m lua_chon:\n\u001b[0;32m     82\u001b[0m         \u001b[38;5;28;01mcase\u001b[39;00m \u001b[38;5;241m1\u001b[39m:\n\u001b[0;32m     83\u001b[0m             clear_output(wait\u001b[38;5;241m=\u001b[39m\u001b[38;5;28;01mTrue\u001b[39;00m)\n\u001b[0;32m     84\u001b[0m             \u001b[38;5;28;01mwhile\u001b[39;00m \u001b[38;5;28;01mTrue\u001b[39;00m:\n\u001b[0;32m     85\u001b[0m                 danh_sach_so_lo \u001b[38;5;241m=\u001b[39m nhap_so_lo()\n\u001b[0;32m     86\u001b[0m                 tien_cuoc \u001b[38;5;241m=\u001b[39m nhap_tien_cuoc(user,\u001b[38;5;28mlen\u001b[39m(danh_sach_so_lo))\n\u001b[0;32m     87\u001b[0m                 game_quay_so(user, danh_sach_so_lo, tien_cuoc)\n\u001b[0;32m     88\u001b[0m                 choi_tiep \u001b[38;5;241m=\u001b[39m \u001b[38;5;28mint\u001b[39m(\u001b[38;5;28minput\u001b[39m(\u001b[38;5;124m\"\u001b[39m\u001b[38;5;124mBạn có muốn chơi tiếp không? (0: không, 1: có)\u001b[39m\u001b[38;5;124m\"\u001b[39m))\n\u001b[0;32m     89\u001b[0m                 \u001b[38;5;28;01mif\u001b[39;00m choi_tiep \u001b[38;5;241m==\u001b[39m \u001b[38;5;241m0\u001b[39m:\n\u001b[0;32m     90\u001b[0m                     \u001b[38;5;28;01mbreak\u001b[39;00m\n\u001b[0;32m     91\u001b[0m                 \u001b[38;5;28;01melse\u001b[39;00m:\n\u001b[0;32m     92\u001b[0m                     \u001b[38;5;28;01mcontinue\u001b[39;00m\n\u001b[0;32m     93\u001b[0m             clear_output()\n\u001b[0;32m     94\u001b[0m             main()\n\u001b[0;32m     95\u001b[0m             \u001b[38;5;28;01mbreak\u001b[39;00m\n\u001b[0;32m     96\u001b[0m         \u001b[38;5;28;01mcase\u001b[39;00m \u001b[38;5;241m2\u001b[39m:\n\u001b[0;32m     97\u001b[0m             clear_output(wait\u001b[38;5;241m=\u001b[39m\u001b[38;5;28;01mTrue\u001b[39;00m)\n\u001b[0;32m     98\u001b[0m             \u001b[38;5;28;01mwhile\u001b[39;00m \u001b[38;5;28;01mTrue\u001b[39;00m:\n\u001b[0;32m     99\u001b[0m                 password_cu \u001b[38;5;241m=\u001b[39m \u001b[38;5;28minput\u001b[39m(\u001b[38;5;124m\"\u001b[39m\u001b[38;5;124mNhập password cũ của bạn: \u001b[39m\u001b[38;5;124m\"\u001b[39m)\n\u001b[1;32m--> 100\u001b[0m                 \u001b[38;5;28;01mif\u001b[39;00m kiem_tra_tai_khoan(user,password_cu) \u001b[38;5;241m==\u001b[39m \u001b[38;5;124m\"\u001b[39m\u001b[38;5;124m\"\u001b[39m:\n\u001b[0;32m    101\u001b[0m                     \u001b[38;5;28mprint\u001b[39m(\u001b[38;5;124m\"\u001b[39m\u001b[38;5;124mSai password !\u001b[39m\u001b[38;5;124m\"\u001b[39m)\n\u001b[0;32m    102\u001b[0m                     \u001b[38;5;28;01mbreak\u001b[39;00m\n\u001b[0;32m    103\u001b[0m                 \u001b[38;5;28;01melse\u001b[39;00m:\n\u001b[0;32m    104\u001b[0m                     password_moi \u001b[38;5;241m=\u001b[39m \u001b[38;5;28minput\u001b[39m(\u001b[38;5;124m\"\u001b[39m\u001b[38;5;124mNhập password mới của bạn: \u001b[39m\u001b[38;5;124m\"\u001b[39m)\n\u001b[0;32m    105\u001b[0m                     doi_mat_khau(user, password_cu, password_moi)\n\u001b[0;32m    106\u001b[0m                 choice \u001b[38;5;241m=\u001b[39m \u001b[38;5;28mint\u001b[39m(\u001b[38;5;28minput\u001b[39m(\u001b[38;5;124m\"\u001b[39m\u001b[38;5;124mBạn có muốn đổi mật khẩu khác không? (0: không, 1: có)\u001b[39m\u001b[38;5;124m\"\u001b[39m))\n\u001b[0;32m    107\u001b[0m                 \u001b[38;5;28;01mif\u001b[39;00m choice \u001b[38;5;241m==\u001b[39m \u001b[38;5;241m0\u001b[39m:\n\u001b[0;32m    108\u001b[0m                     \u001b[38;5;28;01mbreak\u001b[39;00m\n\u001b[0;32m    109\u001b[0m             clear_output()\n\u001b[0;32m    110\u001b[0m             main()\n\u001b[0;32m    111\u001b[0m             \u001b[38;5;28;01mbreak\u001b[39;00m\n\u001b[0;32m    112\u001b[0m         \u001b[38;5;28;01mcase\u001b[39;00m \u001b[38;5;241m3\u001b[39m:\n\u001b[0;32m    113\u001b[0m             clear_output()\n\u001b[0;32m    114\u001b[0m             \u001b[38;5;28;01mwhile\u001b[39;00m \u001b[38;5;28;01mTrue\u001b[39;00m:\n\u001b[0;32m    115\u001b[0m                 thong_ke_user(user)\n\u001b[0;32m    116\u001b[0m                 choice \u001b[38;5;241m=\u001b[39m \u001b[38;5;28minput\u001b[39m(\u001b[38;5;124m\"\u001b[39m\u001b[38;5;124mNhấn Enter để quay lại menu: \u001b[39m\u001b[38;5;124m\"\u001b[39m)\n\u001b[0;32m    117\u001b[0m                 \u001b[38;5;28;01mif\u001b[39;00m choice \u001b[38;5;241m==\u001b[39m \u001b[38;5;124m\"\u001b[39m\u001b[38;5;124m\"\u001b[39m:\n\u001b[0;32m    118\u001b[0m                     \u001b[38;5;28;01mbreak\u001b[39;00m\n\u001b[0;32m    119\u001b[0m             clear_output()\n\u001b[0;32m    120\u001b[0m             main()\n\u001b[0;32m    121\u001b[0m             \u001b[38;5;28;01mbreak\u001b[39;00m\n\u001b[0;32m    122\u001b[0m            \n\u001b[0;32m    123\u001b[0m         \u001b[38;5;28;01mcase\u001b[39;00m \u001b[38;5;241m4\u001b[39m:\n\u001b[0;32m    124\u001b[0m             dang_nhap_status \u001b[38;5;241m=\u001b[39m \u001b[38;5;28;01mFalse\u001b[39;00m\n\u001b[0;32m    125\u001b[0m             \u001b[38;5;28mprint\u001b[39m(\u001b[38;5;124m\"\u001b[39m\u001b[38;5;124mChào bạn, hẹn gặp lại!\u001b[39m\u001b[38;5;124m\"\u001b[39m)\n\u001b[0;32m    126\u001b[0m             \u001b[38;5;28;01mbreak\u001b[39;00m\n\u001b[0;32m    127\u001b[0m         \u001b[38;5;28;01mcase\u001b[39;00m\u001b[38;5;250m \u001b[39m\u001b[38;5;28;01m_\u001b[39;00m:\n\u001b[0;32m    128\u001b[0m             \u001b[38;5;28mprint\u001b[39m(\u001b[38;5;124m\"\u001b[39m\u001b[38;5;124mNhập sai lựa chọn, vui lòng nhập lại !\u001b[39m\u001b[38;5;124m\"\u001b[39m)\n",
      "\u001b[1;31mNameError\u001b[0m: name 'kiem_tra_tai_khoan' is not defined"
     ]
    }
   ],
   "source": [
    "main()"
   ]
  },
  {
   "cell_type": "code",
   "execution_count": null,
   "id": "180ea71f-8d97-4ce0-89f9-9210257b0c2d",
   "metadata": {},
   "outputs": [],
   "source": [
    "lst_taikhoan = doc_file(PATH_DATA_TAI_KHOAN, \"r\")\n",
    "lst_taikhoan"
   ]
  }
 ],
 "metadata": {
  "colab": {
   "provenance": []
  },
  "kernelspec": {
   "display_name": "Python 3 (ipykernel)",
   "language": "python",
   "name": "python3"
  },
  "language_info": {
   "codemirror_mode": {
    "name": "ipython",
    "version": 3
   },
   "file_extension": ".py",
   "mimetype": "text/x-python",
   "name": "python",
   "nbconvert_exporter": "python",
   "pygments_lexer": "ipython3",
   "version": "3.11.5"
  }
 },
 "nbformat": 4,
 "nbformat_minor": 5
}
