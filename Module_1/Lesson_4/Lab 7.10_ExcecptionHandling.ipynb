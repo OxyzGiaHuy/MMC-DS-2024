{
  "cells": [
    {
      "cell_type": "markdown",
      "metadata": {
        "id": "UXDFVTbMASrX"
      },
      "source": [
        "# **Lab 7.10 Xử Lý Ngoại Lệ**\n",
        "\n",
        "Thời gian ước tính cần thiết: **15** phút\n",
        "\n",
        "## Mục tiêu\n",
        "\n",
        "Sau khi hoàn thành lab này, bạn sẽ có thể:\n",
        "\n",
        "* Hiểu các trường hợp ngoại lệ\n",
        "* Xử lý các trường hợp ngoại lệ\n"
      ]
    },
    {
      "cell_type": "markdown",
      "metadata": {
        "id": "6mhvtj-mASrY"
      },
      "source": [
        "## Mục Lục\n"
      ]
    },
    {
      "cell_type": "markdown",
      "metadata": {
        "id": "pQAF8E3fASrY"
      },
      "source": [
        "* Ngoại lệ là gì?\n",
        "* Xử lý ngoại lệ"
      ]
    },
    {
      "cell_type": "markdown",
      "metadata": {
        "id": "uJLpIMbGASrY"
      },
      "source": [
        "***\n"
      ]
    },
    {
      "cell_type": "markdown",
      "metadata": {
        "id": "-V-LEsN6ASrZ"
      },
      "source": [
        "## Ngoại lệ là gì ?\n"
      ]
    },
    {
      "cell_type": "markdown",
      "metadata": {
        "id": "xHU3w6RkASrZ"
      },
      "source": [
        "Trong phần này, bạn sẽ tìm hiểu về ngoại lệ là gì và là ví dụ về chúng."
      ]
    },
    {
      "cell_type": "markdown",
      "metadata": {
        "id": "cAXgmbHwASrZ"
      },
      "source": [
        "### Định nghĩa\n"
      ]
    },
    {
      "cell_type": "markdown",
      "metadata": {
        "id": "1HkQV47JASra"
      },
      "source": [
        "Ngoại lệ (exception) là một lỗi xảy ra trong quá trình thực thi code. Lỗi này khiến code tạo ra một ngoại lệ, và nếu không được chuẩn bị để xử lý nó sẽ tạm dừng việc thực thi code."
      ]
    },
    {
      "cell_type": "markdown",
      "metadata": {
        "id": "DFBxlgr_ASra"
      },
      "source": [
        "### Ví dụ\n"
      ]
    },
    {
      "cell_type": "markdown",
      "metadata": {
        "id": "WFT_IvQ1ASrb"
      },
      "source": [
        "Chạy từng đoạn code và quan sát ngoại lệ được nêu.\n"
      ]
    },
    {
      "cell_type": "code",
      "execution_count": null,
      "metadata": {
        "id": "wVlqdlupASrb"
      },
      "outputs": [],
      "source": [
        "1/0"
      ]
    },
    {
      "cell_type": "markdown",
      "metadata": {
        "id": "VT1HbaMfASrc"
      },
      "source": [
        "<code>ZeroDivisionError</code> xảy ra khi bạn cố chia cho 0.\n"
      ]
    },
    {
      "cell_type": "code",
      "execution_count": null,
      "metadata": {
        "id": "5X9RieuvASrc"
      },
      "outputs": [],
      "source": [
        "y = a + 5"
      ]
    },
    {
      "cell_type": "markdown",
      "metadata": {
        "id": "FFNq-6L7ASrc"
      },
      "source": [
        "<code>NameError</code> -- trong trường hợp này, điều đó có nghĩa là bạn đã cố gắng sử dụng biến a khi nó chưa được định nghĩa.\n"
      ]
    },
    {
      "cell_type": "code",
      "execution_count": null,
      "metadata": {
        "id": "tqBv8MRFASrd"
      },
      "outputs": [],
      "source": [
        "a = [1, 2, 3]\n",
        "a[10]"
      ]
    },
    {
      "cell_type": "markdown",
      "metadata": {
        "id": "bZpS859uASrd"
      },
      "source": [
        "<code>IndexError</code> -- trong trường hợp này, nó xảy ra vì bạn đã cố truy cập dữ liệu từ list bằng cách sử dụng một index không tồn tại cho list này.\n"
      ]
    },
    {
      "cell_type": "markdown",
      "metadata": {
        "id": "RrBckV0hASrd"
      },
      "source": [
        "Có nhiều ngoại lệ khác được tích hợp trong Python, đây là danh sách các ngoại lệ: [https://docs.python.org/3/library/exceptions.html](https://docs.python.org/3/library/exceptions.html?utm_medium=Exinfluencer&utm_source=Exinfluencer&utm_content=000026UJ&utm_term=10006555&utm_id=NA-SkillsNetwork-Channel-SkillsNetworkCoursesIBMDeveloperSkillsNetworkPY0101ENSkillsNetwork19487395-2021-01-01)\n"
      ]
    },
    {
      "cell_type": "markdown",
      "metadata": {
        "id": "I3GJY82pASrd"
      },
      "source": [
        "## Xử lý ngoại lệ\n"
      ]
    },
    {
      "cell_type": "markdown",
      "metadata": {
        "id": "6K5w_7y5ASrd"
      },
      "source": [
        "Ở phần này, chúng ta sẽ học cách xử lý các ngoại lệ. Bạn sẽ hiểu cách khiến chương trình thực hiện các tác vụ được chỉ định thay vì tạm dừng thực thi code khi gặp ngoại lệ.\n"
      ]
    },
    {
      "cell_type": "markdown",
      "metadata": {
        "id": "7hwobrfGASrd"
      },
      "source": [
        "### Try Except\n"
      ]
    },
    {
      "cell_type": "markdown",
      "metadata": {
        "id": "uFi1EUe2ASre"
      },
      "source": [
        "<code>try except</code> sẽ cho phép bạn thực thi code có thể tạo ra ngoại lệ và trong trường hợp có một ngoại lệ bất kỳ hoặc một ngoại lệ cụ thể nào, chúng ta có thể xử lý hoặc phát hiện các ngoại lệ và thực thi code cụ thể. Điều này sẽ cho phép chúng ta tiếp tục thực hiện chương trình của mình ngay cả khi có ngoại lệ.\n",
        "\n",
        "Python cố gắng thực thi code trong <code>try</code> block. Trong trường hợp này, nếu có bất kỳ ngoại lệ nào mà code trong khối <code>try</code> đưa ra, nó sẽ bị phát hiện và khối code trong <code>except</code> block sẽ được thực thi. Sau đó, code xuất hiện <em>sau</em> try except sẽ được thực thi.\n"
      ]
    },
    {
      "cell_type": "code",
      "execution_count": null,
      "metadata": {
        "id": "1dnNnEycASre"
      },
      "outputs": [],
      "source": [
        "# những code tiềm năng trước khi thử catch\n",
        "\n",
        "try:\n",
        "    # code để thử thực thi\n",
        "except:\n",
        "    # code để thực thi nếu có ngoại lệ\n",
        "\n",
        "# code vẫn sẽ thực thi nếu có ngoại lệ"
      ]
    },
    {
      "cell_type": "markdown",
      "metadata": {
        "id": "aeFP92NCASre"
      },
      "source": [
        "### Ví dụ về Try Except\n"
      ]
    },
    {
      "cell_type": "markdown",
      "metadata": {
        "id": "hsgvm_SNASre"
      },
      "source": [
        "Trong ví dụ này, chúng ta đang cố gắng chia một số mà người dùng cung cấp, lưu kết quả trong biến <code>a</code>, sau đó in kết quả của phép toán. Khi lấy dữ liệu đầu vào của người dùng và chia một số cho nó, có thể sẽ xuất hiện một số ngoại lệ, chẳng hạn như khi chúng ta chia cho 0. Hãy thử chạy khối code sau với <code>b</code> là một số. Ngoại lệ sẽ chỉ xuất hiện nếu <code>b</code> bằng 0.\n"
      ]
    },
    {
      "cell_type": "code",
      "execution_count": 2,
      "metadata": {
        "id": "OxIR-mMqASre"
      },
      "outputs": [
        {
          "name": "stdout",
          "output_type": "stream",
          "text": [
            "There was an error\n"
          ]
        }
      ],
      "source": [
        "a = 1\n",
        "\n",
        "try:\n",
        "    b = int(input(\"Please enter a number to divide a\"))\n",
        "    a = a/b\n",
        "    print(\"Success a=\",a)\n",
        "except:\n",
        "    print(\"There was an error\")"
      ]
    },
    {
      "cell_type": "markdown",
      "metadata": {
        "id": "dS8jcRCRASre"
      },
      "source": [
        "### Try Except đặc trưng\n"
      ]
    },
    {
      "cell_type": "markdown",
      "metadata": {
        "id": "AYVqgDP2ASre"
      },
      "source": [
        "<code>try except</code> đặc trưng cho phép chúng ta nắm bắt một số ngoại lệ nhất định, đồng thời thực thi một số code nhất định, tùy thuộc vào ngoại lệ. Điều này rất hữu ích nếu bạn không muốn xử lý một số ngoại lệ và việc thực thi sẽ tạm dừng. Nó cũng có thể giúp bạn tìm ra các lỗi trong code của mình mà bạn không nhận thấy. Hơn nữa, nó có thể giúp bạn phân biệt response đối với các ngoại lệ khác nhau. Trong trường hợp này, code sau try except có thể không chạy tùy thuộc vào lỗi.\n"
      ]
    },
    {
      "cell_type": "markdown",
      "metadata": {
        "id": "SQKzjFzZASre"
      },
      "source": [
        "<b>Các cell sau chỉ để minh họa, không chạy:</b>\n"
      ]
    },
    {
      "cell_type": "code",
      "execution_count": null,
      "metadata": {
        "id": "IgtCMKU-ASre"
      },
      "outputs": [],
      "source": [
        "# những code tiềm năng trước khi thử catch\n",
        "\n",
        "try:\n",
        "    # code để thử thực thi\n",
        "except (ZeroDivisionError, NameError):\n",
        "    # code để thử thực thi nếu có ngoại lệ thuộc các kiểu đã cho\n",
        "\n",
        "# code sẽ thực thi nếu không có ngoại lệ hoặc có ngoại lệ mà chúng ta đang xử lý"
      ]
    },
    {
      "cell_type": "code",
      "execution_count": null,
      "metadata": {
        "id": "fg0nrzS4ASrf"
      },
      "outputs": [],
      "source": [
        "# những code tiềm năng trước khi thử catch\n",
        "\n",
        "try:\n",
        "    # code để thử thực thi\n",
        "except ZeroDivisionError:\n",
        "    # code để thử thực thi nếu có ZeroDivisionError\n",
        "except NameError:\n",
        "    # code để thử thực thi nếu có NameError\n",
        "\n",
        "# code sẽ thực thi nếu không có ngoại lệ hoặc có ngoại lệ mà chúng ta đang xử lý"
      ]
    },
    {
      "cell_type": "markdown",
      "metadata": {
        "id": "TozMIfnmASrf"
      },
      "source": [
        "Cũng có thể có <code>except</code> rỗng ở cuối để phát hiện một ngoại lệ không mong muốn:\n"
      ]
    },
    {
      "cell_type": "markdown",
      "metadata": {
        "id": "MMWYtfMuASrf"
      },
      "source": [
        "<b>Các cell sau chỉ để minh họa, không chạy:</b>\n"
      ]
    },
    {
      "cell_type": "code",
      "execution_count": null,
      "metadata": {
        "id": "SXfZSqeQASrf"
      },
      "outputs": [],
      "source": [
        "# những code tiềm năng trước khi thử catch\n",
        "\n",
        "try:\n",
        "    # code để thử thực thi\n",
        "except ZeroDivisionError:\n",
        "    # code để thử thực thi nếu có ZeroDivisionError\n",
        "except NameError:\n",
        "    # code để thử thực thi nếu có NameError\n",
        "except:\n",
        "    # code để thử thực thi nếu có bất kỳ ngoại lệ nào\n",
        "\n",
        "# code sẽ thực thi nếu không có ngoại lệ hoặc có ngoại lệ mà chúng ta đang xử lý"
      ]
    },
    {
      "cell_type": "markdown",
      "metadata": {
        "id": "chZ8gYy9ASrf"
      },
      "source": [
        "### Ví dụ về Try Except đặc trưng\n"
      ]
    },
    {
      "cell_type": "markdown",
      "metadata": {
        "id": "U875puaaASrf"
      },
      "source": [
        "Ví dụ này tương tự như ở trên, nhưng bây giờ chúng ta sẽ thêm các message khác tùy thuộc vào ngoại lệ, cho người dùng biết đầu vào có vấn đề gì.\n"
      ]
    },
    {
      "cell_type": "code",
      "execution_count": null,
      "metadata": {
        "id": "6GzCJcg6ASrf"
      },
      "outputs": [],
      "source": [
        "a = 1\n",
        "\n",
        "try:\n",
        "    b = int(input(\"Please enter a number to divide a\"))\n",
        "    a = a/b\n",
        "    print(\"Success a=\",a)\n",
        "except ZeroDivisionError:\n",
        "    print(\"The number you provided cant divide 1 because it is 0\")\n",
        "except ValueError:\n",
        "    print(\"You did not provide a number\")\n",
        "except:\n",
        "    print(\"Something went wrong\")"
      ]
    },
    {
      "cell_type": "markdown",
      "metadata": {
        "id": "0fxzwDX7ASrf"
      },
      "source": [
        "### Try Except Else và Finally\n"
      ]
    },
    {
      "cell_type": "markdown",
      "metadata": {
        "id": "yUOVnmgNASrf"
      },
      "source": [
        "<code>else</code> cho phép kiểm tra xem có ngoại lệ nào không khi thực hiện try block. Điều này rất hữu ích khi chúng ta chỉ muốn thực thi một điều gì đó mà không có lỗi.\n"
      ]
    },
    {
      "cell_type": "markdown",
      "metadata": {
        "id": "wy4DhrDdASrg"
      },
      "source": [
        "<b>Các cell sau chỉ để minh họa, không chạy:</b>\n"
      ]
    },
    {
      "cell_type": "code",
      "execution_count": null,
      "metadata": {
        "id": "a87lAtmFASrg"
      },
      "outputs": [],
      "source": [
        "# những code tiềm năng trước khi thử catch\n",
        "\n",
        "try:\n",
        "    # code để thử thực thi\n",
        "except ZeroDivisionError:\n",
        "    # code để thử thực thi nếu có ZeroDivisionError\n",
        "except NameError:\n",
        "    # code để thử thực thi nếu có NameError\n",
        "except:\n",
        "    # code để thử thực thi nếu có bất kỳ ngoại lệ nào\n",
        "else:\n",
        "    # code để thử thực thi nếu không có ngoại lệ\n",
        "\n",
        "# code sẽ thực thi nếu không có ngoại lệ hoặc có ngoại lệ mà chúng ta đang xử lý"
      ]
    },
    {
      "cell_type": "markdown",
      "metadata": {
        "id": "Fvecn5-KASrg"
      },
      "source": [
        "<code>finally</code> cho phép chúng ta luôn thực thi một thứ gì đó dù có ngoại lệ hoặc không. Nó thường được sử dụng để biểu thị sự kết thúc của try except.\n"
      ]
    },
    {
      "cell_type": "code",
      "execution_count": null,
      "metadata": {
        "id": "0oyP4mKyASrg"
      },
      "outputs": [],
      "source": [
        "# những code tiềm năng trước khi thử catch\n",
        "\n",
        "try:\n",
        "    # code để thử thực thi\n",
        "except ZeroDivisionError:\n",
        "    # code để thử thực thi nếu có ZeroDivisionError\n",
        "except NameError:\n",
        "    # code để thử thực thi nếu có NameError\n",
        "except:\n",
        "    # code để thử thực thi nếu có bất kỳ ngoại lệ nào\n",
        "else:\n",
        "    # code để thử thực thi nếu không có ngoại lệ\n",
        "finally:\n",
        "    # code để thử thực thi ở cuối try except, bất kể code thế nào\n",
        "\n",
        "# code sẽ thực thi nếu không có ngoại lệ hoặc có ngoại lệ mà chúng ta đang xử lý"
      ]
    },
    {
      "cell_type": "markdown",
      "metadata": {
        "id": "fX71rgNOASrg"
      },
      "source": [
        "### Ví dụ về Try Except Else và Finally\n"
      ]
    },
    {
      "cell_type": "markdown",
      "metadata": {
        "id": "fQx-FAPjASrg"
      },
      "source": [
        "Bạn có thể nhận thấy rằng ngay cả khi có lỗi, giá trị <code>a</code> vẫn được in ra. Hãy sử dụng <code>else</code> và in giá trị của <code>a</code> chỉ khi không có lỗi.\n"
      ]
    },
    {
      "cell_type": "code",
      "execution_count": null,
      "metadata": {
        "id": "TvovD7TfASrg"
      },
      "outputs": [],
      "source": [
        "a = 1\n",
        "\n",
        "try:\n",
        "    b = int(input(\"Please enter a number to divide a\"))\n",
        "    a = a/b\n",
        "except ZeroDivisionError:\n",
        "    print(\"The number you provided cant divide 1 because it is 0\")\n",
        "except ValueError:\n",
        "    print(\"You did not provide a number\")\n",
        "except:\n",
        "    print(\"Something went wrong\")\n",
        "else:\n",
        "    print(\"success a=\",a)"
      ]
    },
    {
      "cell_type": "markdown",
      "metadata": {
        "id": "7gE6twM8ASrg"
      },
      "source": [
        "Bây giờ, hãy cho người dùng biết rằng chúng ta đã xử lý xong câu trả lời của họ. Sử dụng <code>finally</code>, hãy thêm một bản in.\n"
      ]
    },
    {
      "cell_type": "code",
      "execution_count": null,
      "metadata": {
        "id": "RyH3mKp6ASrg"
      },
      "outputs": [],
      "source": [
        "a = 1\n",
        "\n",
        "try:\n",
        "    b = int(input(\"Please enter a number to divide a\"))\n",
        "    a = a/b\n",
        "except ZeroDivisionError:\n",
        "    print(\"The number you provided cant divide 1 because it is 0\")\n",
        "except ValueError:\n",
        "    print(\"You did not provide a number\")\n",
        "except:\n",
        "    print(\"Something went wrong\")\n",
        "else:\n",
        "    print(\"success a=\",a)\n",
        "finally:\n",
        "    print(\"Processing Complete\")"
      ]
    },
    {
      "cell_type": "markdown",
      "metadata": {
        "id": "Et8tvVjHASrg"
      },
      "source": [
        "<hr>\n",
        "Nguồn: IBM\n",
        "<hr>\n"
      ]
    }
  ],
  "metadata": {
    "colab": {
      "provenance": []
    },
    "kernelspec": {
      "display_name": "Python 3",
      "language": "python",
      "name": "python3"
    },
    "language_info": {
      "codemirror_mode": {
        "name": "ipython",
        "version": 3
      },
      "file_extension": ".py",
      "mimetype": "text/x-python",
      "name": "python",
      "nbconvert_exporter": "python",
      "pygments_lexer": "ipython3",
      "version": "3.11.5"
    }
  },
  "nbformat": 4,
  "nbformat_minor": 0
}
