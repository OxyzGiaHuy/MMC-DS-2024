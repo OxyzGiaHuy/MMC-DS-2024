{
  "cells": [
    {
      "cell_type": "markdown",
      "id": "69842518-8570-407f-9d26-c48bcd3cd5d3",
      "metadata": {
        "id": "69842518-8570-407f-9d26-c48bcd3cd5d3"
      },
      "source": [
        "# Lab: Khởi tạo, sao chép và lưu trữ dữ liệu bằng Pandas"
      ]
    },
    {
      "cell_type": "markdown",
      "id": "2fa7d473-b061-44e8-9f82-c6a5d5633fab",
      "metadata": {
        "id": "2fa7d473-b061-44e8-9f82-c6a5d5633fab"
      },
      "source": [
        "# 1. Khởi tạo"
      ]
    },
    {
      "cell_type": "markdown",
      "id": "9cf57bcb-ce8c-4d5d-b1f8-0912d1b2d100",
      "metadata": {
        "id": "9cf57bcb-ce8c-4d5d-b1f8-0912d1b2d100"
      },
      "source": [
        "## 1.1. Series"
      ]
    },
    {
      "cell_type": "markdown",
      "id": "03f7088f-cd8a-4a99-8dc7-538787978336",
      "metadata": {
        "id": "03f7088f-cd8a-4a99-8dc7-538787978336"
      },
      "source": [
        "### 1.1.1. Khởi tạo bằng List"
      ]
    },
    {
      "cell_type": "code",
      "execution_count": 1,
      "id": "7ec61c1b-199f-471b-9e66-6652c13f7922",
      "metadata": {
        "id": "7ec61c1b-199f-471b-9e66-6652c13f7922"
      },
      "outputs": [],
      "source": [
        "import pandas as pd"
      ]
    },
    {
      "cell_type": "code",
      "execution_count": 35,
      "id": "4f893263-790d-4674-a46b-5e06d7d08552",
      "metadata": {
        "id": "4f893263-790d-4674-a46b-5e06d7d08552",
        "outputId": "8b14e817-fc7b-44d7-fd0f-9c18cd53247f"
      },
      "outputs": [
        {
          "data": {
            "text/plain": [
              "0     Apple\n",
              "1    Banana\n",
              "2    Cherry\n",
              "dtype: object"
            ]
          },
          "execution_count": 35,
          "metadata": {},
          "output_type": "execute_result"
        }
      ],
      "source": [
        "# Yêu cầu: Hãy tạo một list fruits chứa các phần tử lần lượt là 'Apple', 'Banana', 'Cherry'\n",
        "fruits_list = ['Apple', 'Banana', 'Cherry']\n",
        "\n",
        "# Yêu cầu: Hãy tạo một Series từ list fruits\n",
        "fruits = pd.Series(fruits_list)\n",
        "fruits"
      ]
    },
    {
      "cell_type": "code",
      "execution_count": 40,
      "id": "8a078ae5-ccef-4070-ae3c-d4fc3718c124",
      "metadata": {
        "id": "8a078ae5-ccef-4070-ae3c-d4fc3718c124",
        "outputId": "fb6c0a5b-708f-49b1-b323-13e61271fe44"
      },
      "outputs": [
        {
          "data": {
            "text/plain": [
              "0    5\n",
              "1    3\n",
              "2    2\n",
              "3    1\n",
              "4    4\n",
              "5    3\n",
              "dtype: int64"
            ]
          },
          "execution_count": 40,
          "metadata": {},
          "output_type": "execute_result"
        }
      ],
      "source": [
        "# Yêu cầu: Hãy tạo một list ratings chứa các đánh giá lần lượt là 5, 3, 2, 1, 4, 3\n",
        "ratings_list = [5, 3, 2, 1, 4, 3]\n",
        "\n",
        "# Yêu cầu: Hãy tạo một Series từ list ratings\n",
        "ratings = pd.Series(ratings_list)\n",
        "ratings"
      ]
    },
    {
      "cell_type": "markdown",
      "id": "7b8e5063-cd0b-46dc-a5c8-4e57aa04da32",
      "metadata": {
        "id": "7b8e5063-cd0b-46dc-a5c8-4e57aa04da32"
      },
      "source": [
        "### 1.1.2. Khởi tạo bằng Dictionary"
      ]
    },
    {
      "cell_type": "code",
      "execution_count": 38,
      "id": "21ce8091-a001-4a25-8738-11835af0990c",
      "metadata": {
        "id": "21ce8091-a001-4a25-8738-11835af0990c",
        "outputId": "4033931a-4cf8-42a0-a099-4d0d9470847c"
      },
      "outputs": [
        {
          "data": {
            "text/plain": [
              "A     Apple\n",
              "B    Banana\n",
              "C    Cherry\n",
              "dtype: object"
            ]
          },
          "execution_count": 38,
          "metadata": {},
          "output_type": "execute_result"
        }
      ],
      "source": [
        "fruits_abc_dict = {'A': 'Apple',\n",
        "                   'B': 'Banana',\n",
        "                   'C': 'Cherry'}\n",
        "\n",
        "# Yêu cầu: Hãy tạo một Series từ dictionary fruits_abc_dict\n",
        "fruits_abc = pd.Series(fruits_abc_dict)\n",
        "fruits_abc"
      ]
    },
    {
      "cell_type": "markdown",
      "id": "75300fde-945b-41c0-8d9a-bdf6f87c35cb",
      "metadata": {
        "id": "75300fde-945b-41c0-8d9a-bdf6f87c35cb"
      },
      "source": [
        "### 1.1.3. Khởi tạo đọc file"
      ]
    },
    {
      "cell_type": "code",
      "execution_count": 4,
      "id": "579b3efd-cffc-4381-acd4-6ae3a6ba811b",
      "metadata": {
        "id": "579b3efd-cffc-4381-acd4-6ae3a6ba811b",
        "outputId": "bb118999-7786-4fac-eab8-a2a55dd4bc4d"
      },
      "outputs": [
        {
          "data": {
            "text/html": [
              "<div>\n",
              "<style scoped>\n",
              "    .dataframe tbody tr th:only-of-type {\n",
              "        vertical-align: middle;\n",
              "    }\n",
              "\n",
              "    .dataframe tbody tr th {\n",
              "        vertical-align: top;\n",
              "    }\n",
              "\n",
              "    .dataframe thead th {\n",
              "        text-align: right;\n",
              "    }\n",
              "</style>\n",
              "<table border=\"1\" class=\"dataframe\">\n",
              "  <thead>\n",
              "    <tr style=\"text-align: right;\">\n",
              "      <th></th>\n",
              "      <th>App Name</th>\n",
              "    </tr>\n",
              "  </thead>\n",
              "  <tbody>\n",
              "    <tr>\n",
              "      <th>0</th>\n",
              "      <td>Gakondo</td>\n",
              "    </tr>\n",
              "    <tr>\n",
              "      <th>1</th>\n",
              "      <td>Ampere Battery Info</td>\n",
              "    </tr>\n",
              "    <tr>\n",
              "      <th>2</th>\n",
              "      <td>Vibook</td>\n",
              "    </tr>\n",
              "    <tr>\n",
              "      <th>3</th>\n",
              "      <td>Smart City Trichy Public Service Vehicles 17UC...</td>\n",
              "    </tr>\n",
              "    <tr>\n",
              "      <th>4</th>\n",
              "      <td>GROW.me</td>\n",
              "    </tr>\n",
              "    <tr>\n",
              "      <th>...</th>\n",
              "      <td>...</td>\n",
              "    </tr>\n",
              "    <tr>\n",
              "      <th>2312939</th>\n",
              "      <td>大俠客—熱血歸來</td>\n",
              "    </tr>\n",
              "    <tr>\n",
              "      <th>2312940</th>\n",
              "      <td>ORU Online</td>\n",
              "    </tr>\n",
              "    <tr>\n",
              "      <th>2312941</th>\n",
              "      <td>Data Structure</td>\n",
              "    </tr>\n",
              "    <tr>\n",
              "      <th>2312942</th>\n",
              "      <td>Devi Suktam</td>\n",
              "    </tr>\n",
              "    <tr>\n",
              "      <th>2312943</th>\n",
              "      <td>Biliyor Musun - Sonsuz Yarış</td>\n",
              "    </tr>\n",
              "  </tbody>\n",
              "</table>\n",
              "<p>2312944 rows × 1 columns</p>\n",
              "</div>"
            ],
            "text/plain": [
              "                                                  App Name\n",
              "0                                                  Gakondo\n",
              "1                                      Ampere Battery Info\n",
              "2                                                   Vibook\n",
              "3        Smart City Trichy Public Service Vehicles 17UC...\n",
              "4                                                  GROW.me\n",
              "...                                                    ...\n",
              "2312939                                           大俠客—熱血歸來\n",
              "2312940                                         ORU Online\n",
              "2312941                                     Data Structure\n",
              "2312942                                        Devi Suktam\n",
              "2312943                       Biliyor Musun - Sonsuz Yarış\n",
              "\n",
              "[2312944 rows x 1 columns]"
            ]
          },
          "execution_count": 4,
          "metadata": {},
          "output_type": "execute_result"
        }
      ],
      "source": [
        "# Yêu cầu: Hãy tạo một Series App Name từ Google_Playstore.csv\n",
        "app_name = pd.read_csv(\"Google_Playstore.csv\", usecols = [\"App Name\"])\n",
        "app_name.head()"
      ]
    },
    {
      "cell_type": "markdown",
      "id": "687aec57-1233-415e-a1f6-410ac1c7b1ed",
      "metadata": {
        "id": "687aec57-1233-415e-a1f6-410ac1c7b1ed"
      },
      "source": [
        "## 1.2. DataFrame"
      ]
    },
    {
      "cell_type": "markdown",
      "id": "dee16efa-cdcd-4df1-9d57-fd805f800d72",
      "metadata": {
        "id": "dee16efa-cdcd-4df1-9d57-fd805f800d72"
      },
      "source": [
        "### 1.2.1. Khởi tạo bằng List"
      ]
    },
    {
      "cell_type": "code",
      "execution_count": 25,
      "id": "4e89014c-ea01-4daa-9ba7-b30076e911db",
      "metadata": {
        "id": "4e89014c-ea01-4daa-9ba7-b30076e911db",
        "outputId": "6ed0083f-80f1-4bea-ed29-35d4171fbcd0"
      },
      "outputs": [
        {
          "data": {
            "text/html": [
              "<div>\n",
              "<style scoped>\n",
              "    .dataframe tbody tr th:only-of-type {\n",
              "        vertical-align: middle;\n",
              "    }\n",
              "\n",
              "    .dataframe tbody tr th {\n",
              "        vertical-align: top;\n",
              "    }\n",
              "\n",
              "    .dataframe thead th {\n",
              "        text-align: right;\n",
              "    }\n",
              "</style>\n",
              "<table border=\"1\" class=\"dataframe\">\n",
              "  <thead>\n",
              "    <tr style=\"text-align: right;\">\n",
              "      <th></th>\n",
              "      <th>Item</th>\n",
              "      <th>Type</th>\n",
              "      <th>Price</th>\n",
              "    </tr>\n",
              "  </thead>\n",
              "  <tbody>\n",
              "    <tr>\n",
              "      <th>0</th>\n",
              "      <td>Apple</td>\n",
              "      <td>Fruit</td>\n",
              "      <td>10</td>\n",
              "    </tr>\n",
              "    <tr>\n",
              "      <th>1</th>\n",
              "      <td>Hamburger</td>\n",
              "      <td>Fast Food</td>\n",
              "      <td>20</td>\n",
              "    </tr>\n",
              "    <tr>\n",
              "      <th>2</th>\n",
              "      <td>Pepsi</td>\n",
              "      <td>Drinks</td>\n",
              "      <td>10</td>\n",
              "    </tr>\n",
              "  </tbody>\n",
              "</table>\n",
              "</div>"
            ],
            "text/plain": [
              "        Item       Type  Price\n",
              "0      Apple      Fruit     10\n",
              "1  Hamburger  Fast Food     20\n",
              "2      Pepsi     Drinks     10"
            ]
          },
          "execution_count": 25,
          "metadata": {},
          "output_type": "execute_result"
        }
      ],
      "source": [
        "sales_list = [('Apple', 'Fruit', 10),\n",
        "              ('Hamburger', 'Fast Food', 20),\n",
        "              ('Pepsi', 'Drinks', 10)]\n",
        "\n",
        "# Yêu cầu: Hãy tạo một DataFrame từ list sales trên với tên cột lần lượt là Item, Type, Price\n",
        "sales = pd.DataFrame(sales_list,  columns = ['Item', 'Type', 'Price'])\n",
        "sales"
      ]
    },
    {
      "cell_type": "markdown",
      "id": "5c4bc155-43d7-4045-9c5e-d1ffda156f8e",
      "metadata": {
        "id": "5c4bc155-43d7-4045-9c5e-d1ffda156f8e"
      },
      "source": [
        "### 1.2.2. Khởi tạo bằng Dictionary"
      ]
    },
    {
      "cell_type": "code",
      "execution_count": 6,
      "id": "15525637-a896-45db-80db-cd3d5cfdfb24",
      "metadata": {
        "id": "15525637-a896-45db-80db-cd3d5cfdfb24",
        "outputId": "03c5abc1-d072-4085-aade-7d6e19a9a356"
      },
      "outputs": [
        {
          "data": {
            "text/html": [
              "<div>\n",
              "<style scoped>\n",
              "    .dataframe tbody tr th:only-of-type {\n",
              "        vertical-align: middle;\n",
              "    }\n",
              "\n",
              "    .dataframe tbody tr th {\n",
              "        vertical-align: top;\n",
              "    }\n",
              "\n",
              "    .dataframe thead th {\n",
              "        text-align: right;\n",
              "    }\n",
              "</style>\n",
              "<table border=\"1\" class=\"dataframe\">\n",
              "  <thead>\n",
              "    <tr style=\"text-align: right;\">\n",
              "      <th></th>\n",
              "      <th>Name</th>\n",
              "      <th>Type</th>\n",
              "      <th>Price</th>\n",
              "    </tr>\n",
              "  </thead>\n",
              "  <tbody>\n",
              "    <tr>\n",
              "      <th>0</th>\n",
              "      <td>Apple</td>\n",
              "      <td>Fruit</td>\n",
              "      <td>10</td>\n",
              "    </tr>\n",
              "    <tr>\n",
              "      <th>1</th>\n",
              "      <td>Hamburger</td>\n",
              "      <td>Fast Food</td>\n",
              "      <td>20</td>\n",
              "    </tr>\n",
              "    <tr>\n",
              "      <th>2</th>\n",
              "      <td>Pepsi</td>\n",
              "      <td>Drinks</td>\n",
              "      <td>10</td>\n",
              "    </tr>\n",
              "  </tbody>\n",
              "</table>\n",
              "</div>"
            ],
            "text/plain": [
              "        Name       Type  Price\n",
              "0      Apple      Fruit     10\n",
              "1  Hamburger  Fast Food     20\n",
              "2      Pepsi     Drinks     10"
            ]
          },
          "execution_count": 6,
          "metadata": {},
          "output_type": "execute_result"
        }
      ],
      "source": [
        "sales_dict= {\n",
        "    'Name': ['Apple', 'Hamburger', 'Pepsi'],\n",
        "    'Type': ['Fruit', 'Fast Food', 'Drinks'],\n",
        "    'Price': [10, 20, 10]\n",
        "}\n",
        "\n",
        "# Yêu cầu: Hãy tạo một DataFrame từ dictionary sales trên\n",
        "sales_2 = pd.DataFrame(sales_dict)\n",
        "sales_2"
      ]
    },
    {
      "cell_type": "markdown",
      "id": "4192e6ef-3e10-4c00-a8e7-887610227dfa",
      "metadata": {
        "id": "4192e6ef-3e10-4c00-a8e7-887610227dfa"
      },
      "source": [
        "### 1.2.3. Khởi tạo bằng đọc file"
      ]
    },
    {
      "cell_type": "code",
      "execution_count": 7,
      "id": "87a280cc-3c78-4539-930d-e3c81a318c66",
      "metadata": {
        "id": "87a280cc-3c78-4539-930d-e3c81a318c66",
        "outputId": "dd3a59a8-c4ab-4d3c-90c4-fc0c260af0da"
      },
      "outputs": [
        {
          "data": {
            "text/html": [
              "<div>\n",
              "<style scoped>\n",
              "    .dataframe tbody tr th:only-of-type {\n",
              "        vertical-align: middle;\n",
              "    }\n",
              "\n",
              "    .dataframe tbody tr th {\n",
              "        vertical-align: top;\n",
              "    }\n",
              "\n",
              "    .dataframe thead th {\n",
              "        text-align: right;\n",
              "    }\n",
              "</style>\n",
              "<table border=\"1\" class=\"dataframe\">\n",
              "  <thead>\n",
              "    <tr style=\"text-align: right;\">\n",
              "      <th></th>\n",
              "      <th>App Name</th>\n",
              "      <th>App Id</th>\n",
              "      <th>Category</th>\n",
              "      <th>Rating</th>\n",
              "      <th>Rating Count</th>\n",
              "      <th>Installs</th>\n",
              "      <th>Minimum Installs</th>\n",
              "      <th>Maximum Installs</th>\n",
              "      <th>Free</th>\n",
              "      <th>Price</th>\n",
              "      <th>...</th>\n",
              "      <th>Developer Website</th>\n",
              "      <th>Developer Email</th>\n",
              "      <th>Released</th>\n",
              "      <th>Last Updated</th>\n",
              "      <th>Content Rating</th>\n",
              "      <th>Privacy Policy</th>\n",
              "      <th>Ad Supported</th>\n",
              "      <th>In App Purchases</th>\n",
              "      <th>Editors Choice</th>\n",
              "      <th>Scraped Time</th>\n",
              "    </tr>\n",
              "  </thead>\n",
              "  <tbody>\n",
              "    <tr>\n",
              "      <th>0</th>\n",
              "      <td>Gakondo</td>\n",
              "      <td>com.ishakwe.gakondo</td>\n",
              "      <td>Adventure</td>\n",
              "      <td>0.0</td>\n",
              "      <td>0.0</td>\n",
              "      <td>10+</td>\n",
              "      <td>10.0</td>\n",
              "      <td>15</td>\n",
              "      <td>True</td>\n",
              "      <td>0.0</td>\n",
              "      <td>...</td>\n",
              "      <td>https://beniyizibyose.tk/#/</td>\n",
              "      <td>jean21101999@gmail.com</td>\n",
              "      <td>Feb 26, 2020</td>\n",
              "      <td>Feb 26, 2020</td>\n",
              "      <td>Everyone</td>\n",
              "      <td>https://beniyizibyose.tk/projects/</td>\n",
              "      <td>False</td>\n",
              "      <td>False</td>\n",
              "      <td>False</td>\n",
              "      <td>2021-06-15 20:19:35</td>\n",
              "    </tr>\n",
              "    <tr>\n",
              "      <th>1</th>\n",
              "      <td>Ampere Battery Info</td>\n",
              "      <td>com.webserveis.batteryinfo</td>\n",
              "      <td>Tools</td>\n",
              "      <td>4.4</td>\n",
              "      <td>64.0</td>\n",
              "      <td>5,000+</td>\n",
              "      <td>5000.0</td>\n",
              "      <td>7662</td>\n",
              "      <td>True</td>\n",
              "      <td>0.0</td>\n",
              "      <td>...</td>\n",
              "      <td>https://webserveis.netlify.app/</td>\n",
              "      <td>webserveis@gmail.com</td>\n",
              "      <td>May 21, 2020</td>\n",
              "      <td>May 06, 2021</td>\n",
              "      <td>Everyone</td>\n",
              "      <td>https://dev4phones.wordpress.com/licencia-de-uso/</td>\n",
              "      <td>True</td>\n",
              "      <td>False</td>\n",
              "      <td>False</td>\n",
              "      <td>2021-06-15 20:19:35</td>\n",
              "    </tr>\n",
              "    <tr>\n",
              "      <th>2</th>\n",
              "      <td>Vibook</td>\n",
              "      <td>com.doantiepvien.crm</td>\n",
              "      <td>Productivity</td>\n",
              "      <td>0.0</td>\n",
              "      <td>0.0</td>\n",
              "      <td>50+</td>\n",
              "      <td>50.0</td>\n",
              "      <td>58</td>\n",
              "      <td>True</td>\n",
              "      <td>0.0</td>\n",
              "      <td>...</td>\n",
              "      <td>NaN</td>\n",
              "      <td>vnacrewit@gmail.com</td>\n",
              "      <td>Aug 9, 2019</td>\n",
              "      <td>Aug 19, 2019</td>\n",
              "      <td>Everyone</td>\n",
              "      <td>https://www.vietnamairlines.com/vn/en/terms-an...</td>\n",
              "      <td>False</td>\n",
              "      <td>False</td>\n",
              "      <td>False</td>\n",
              "      <td>2021-06-15 20:19:35</td>\n",
              "    </tr>\n",
              "    <tr>\n",
              "      <th>3</th>\n",
              "      <td>Smart City Trichy Public Service Vehicles 17UC...</td>\n",
              "      <td>cst.stJoseph.ug17ucs548</td>\n",
              "      <td>Communication</td>\n",
              "      <td>5.0</td>\n",
              "      <td>5.0</td>\n",
              "      <td>10+</td>\n",
              "      <td>10.0</td>\n",
              "      <td>19</td>\n",
              "      <td>True</td>\n",
              "      <td>0.0</td>\n",
              "      <td>...</td>\n",
              "      <td>http://www.climatesmarttech.com/</td>\n",
              "      <td>climatesmarttech2@gmail.com</td>\n",
              "      <td>Sep 10, 2018</td>\n",
              "      <td>Oct 13, 2018</td>\n",
              "      <td>Everyone</td>\n",
              "      <td>NaN</td>\n",
              "      <td>True</td>\n",
              "      <td>False</td>\n",
              "      <td>False</td>\n",
              "      <td>2021-06-15 20:19:35</td>\n",
              "    </tr>\n",
              "    <tr>\n",
              "      <th>4</th>\n",
              "      <td>GROW.me</td>\n",
              "      <td>com.horodyski.grower</td>\n",
              "      <td>Tools</td>\n",
              "      <td>0.0</td>\n",
              "      <td>0.0</td>\n",
              "      <td>100+</td>\n",
              "      <td>100.0</td>\n",
              "      <td>478</td>\n",
              "      <td>True</td>\n",
              "      <td>0.0</td>\n",
              "      <td>...</td>\n",
              "      <td>http://www.horodyski.com.pl</td>\n",
              "      <td>rmilekhorodyski@gmail.com</td>\n",
              "      <td>Feb 21, 2020</td>\n",
              "      <td>Nov 12, 2018</td>\n",
              "      <td>Everyone</td>\n",
              "      <td>http://www.horodyski.com.pl</td>\n",
              "      <td>False</td>\n",
              "      <td>False</td>\n",
              "      <td>False</td>\n",
              "      <td>2021-06-15 20:19:35</td>\n",
              "    </tr>\n",
              "  </tbody>\n",
              "</table>\n",
              "<p>5 rows × 24 columns</p>\n",
              "</div>"
            ],
            "text/plain": [
              "                                            App Name  \\\n",
              "0                                            Gakondo   \n",
              "1                                Ampere Battery Info   \n",
              "2                                             Vibook   \n",
              "3  Smart City Trichy Public Service Vehicles 17UC...   \n",
              "4                                            GROW.me   \n",
              "\n",
              "                       App Id       Category  Rating  Rating Count Installs  \\\n",
              "0         com.ishakwe.gakondo      Adventure     0.0           0.0      10+   \n",
              "1  com.webserveis.batteryinfo          Tools     4.4          64.0   5,000+   \n",
              "2        com.doantiepvien.crm   Productivity     0.0           0.0      50+   \n",
              "3     cst.stJoseph.ug17ucs548  Communication     5.0           5.0      10+   \n",
              "4        com.horodyski.grower          Tools     0.0           0.0     100+   \n",
              "\n",
              "   Minimum Installs  Maximum Installs  Free  Price  ...  \\\n",
              "0              10.0                15  True    0.0  ...   \n",
              "1            5000.0              7662  True    0.0  ...   \n",
              "2              50.0                58  True    0.0  ...   \n",
              "3              10.0                19  True    0.0  ...   \n",
              "4             100.0               478  True    0.0  ...   \n",
              "\n",
              "                  Developer Website              Developer Email  \\\n",
              "0       https://beniyizibyose.tk/#/       jean21101999@gmail.com   \n",
              "1   https://webserveis.netlify.app/         webserveis@gmail.com   \n",
              "2                               NaN          vnacrewit@gmail.com   \n",
              "3  http://www.climatesmarttech.com/  climatesmarttech2@gmail.com   \n",
              "4       http://www.horodyski.com.pl    rmilekhorodyski@gmail.com   \n",
              "\n",
              "       Released  Last Updated Content Rating  \\\n",
              "0  Feb 26, 2020  Feb 26, 2020       Everyone   \n",
              "1  May 21, 2020  May 06, 2021       Everyone   \n",
              "2   Aug 9, 2019  Aug 19, 2019       Everyone   \n",
              "3  Sep 10, 2018  Oct 13, 2018       Everyone   \n",
              "4  Feb 21, 2020  Nov 12, 2018       Everyone   \n",
              "\n",
              "                                      Privacy Policy Ad Supported  \\\n",
              "0                 https://beniyizibyose.tk/projects/        False   \n",
              "1  https://dev4phones.wordpress.com/licencia-de-uso/         True   \n",
              "2  https://www.vietnamairlines.com/vn/en/terms-an...        False   \n",
              "3                                                NaN         True   \n",
              "4                        http://www.horodyski.com.pl        False   \n",
              "\n",
              "  In App Purchases Editors Choice         Scraped Time  \n",
              "0            False          False  2021-06-15 20:19:35  \n",
              "1            False          False  2021-06-15 20:19:35  \n",
              "2            False          False  2021-06-15 20:19:35  \n",
              "3            False          False  2021-06-15 20:19:35  \n",
              "4            False          False  2021-06-15 20:19:35  \n",
              "\n",
              "[5 rows x 24 columns]"
            ]
          },
          "execution_count": 7,
          "metadata": {},
          "output_type": "execute_result"
        }
      ],
      "source": [
        "# Yêu cầu: Hãy tạo một DataFrame từ Google_Playstore.csv\n",
        "df_google_playstore = pd.read_csv(\"Google_Playstore.csv\")\n",
        "df_google_playstore.head()"
      ]
    },
    {
      "cell_type": "markdown",
      "id": "d7ec158d-812b-4164-92e5-fdb1cf909b05",
      "metadata": {
        "id": "d7ec158d-812b-4164-92e5-fdb1cf909b05"
      },
      "source": [
        "# 2. Thêm cột dữ liệu"
      ]
    },
    {
      "cell_type": "code",
      "execution_count": 8,
      "id": "70fbb43c-a1ff-43d9-914e-ff777597bc81",
      "metadata": {
        "id": "70fbb43c-a1ff-43d9-914e-ff777597bc81",
        "outputId": "37f681d2-0caf-44b3-e311-bd9bb491dd8f"
      },
      "outputs": [
        {
          "data": {
            "text/html": [
              "<div>\n",
              "<style scoped>\n",
              "    .dataframe tbody tr th:only-of-type {\n",
              "        vertical-align: middle;\n",
              "    }\n",
              "\n",
              "    .dataframe tbody tr th {\n",
              "        vertical-align: top;\n",
              "    }\n",
              "\n",
              "    .dataframe thead th {\n",
              "        text-align: right;\n",
              "    }\n",
              "</style>\n",
              "<table border=\"1\" class=\"dataframe\">\n",
              "  <thead>\n",
              "    <tr style=\"text-align: right;\">\n",
              "      <th></th>\n",
              "      <th>0</th>\n",
              "      <th>1</th>\n",
              "      <th>2</th>\n",
              "    </tr>\n",
              "  </thead>\n",
              "  <tbody>\n",
              "    <tr>\n",
              "      <th>Item</th>\n",
              "      <td>Apple</td>\n",
              "      <td>Fruit</td>\n",
              "      <td>10</td>\n",
              "    </tr>\n",
              "    <tr>\n",
              "      <th>Type</th>\n",
              "      <td>Hamburger</td>\n",
              "      <td>Fast Food</td>\n",
              "      <td>20</td>\n",
              "    </tr>\n",
              "    <tr>\n",
              "      <th>Price</th>\n",
              "      <td>Pepsi</td>\n",
              "      <td>Drinks</td>\n",
              "      <td>10</td>\n",
              "    </tr>\n",
              "  </tbody>\n",
              "</table>\n",
              "</div>"
            ],
            "text/plain": [
              "               0          1   2\n",
              "Item       Apple      Fruit  10\n",
              "Type   Hamburger  Fast Food  20\n",
              "Price      Pepsi     Drinks  10"
            ]
          },
          "execution_count": 8,
          "metadata": {},
          "output_type": "execute_result"
        }
      ],
      "source": [
        "sales.head()"
      ]
    },
    {
      "cell_type": "code",
      "execution_count": 26,
      "id": "cfe53d82-a29f-441a-9627-6dde929218b9",
      "metadata": {
        "id": "cfe53d82-a29f-441a-9627-6dde929218b9",
        "outputId": "19ecc8cc-3754-460b-f0ab-3d5758135c15"
      },
      "outputs": [
        {
          "data": {
            "text/html": [
              "<div>\n",
              "<style scoped>\n",
              "    .dataframe tbody tr th:only-of-type {\n",
              "        vertical-align: middle;\n",
              "    }\n",
              "\n",
              "    .dataframe tbody tr th {\n",
              "        vertical-align: top;\n",
              "    }\n",
              "\n",
              "    .dataframe thead th {\n",
              "        text-align: right;\n",
              "    }\n",
              "</style>\n",
              "<table border=\"1\" class=\"dataframe\">\n",
              "  <thead>\n",
              "    <tr style=\"text-align: right;\">\n",
              "      <th></th>\n",
              "      <th>Item</th>\n",
              "      <th>Type</th>\n",
              "      <th>Price</th>\n",
              "      <th>Count</th>\n",
              "    </tr>\n",
              "  </thead>\n",
              "  <tbody>\n",
              "    <tr>\n",
              "      <th>0</th>\n",
              "      <td>Apple</td>\n",
              "      <td>Fruit</td>\n",
              "      <td>10</td>\n",
              "      <td>1</td>\n",
              "    </tr>\n",
              "    <tr>\n",
              "      <th>1</th>\n",
              "      <td>Hamburger</td>\n",
              "      <td>Fast Food</td>\n",
              "      <td>20</td>\n",
              "      <td>2</td>\n",
              "    </tr>\n",
              "    <tr>\n",
              "      <th>2</th>\n",
              "      <td>Pepsi</td>\n",
              "      <td>Drinks</td>\n",
              "      <td>10</td>\n",
              "      <td>3</td>\n",
              "    </tr>\n",
              "  </tbody>\n",
              "</table>\n",
              "</div>"
            ],
            "text/plain": [
              "        Item       Type  Price  Count\n",
              "0      Apple      Fruit     10      1\n",
              "1  Hamburger  Fast Food     20      2\n",
              "2      Pepsi     Drinks     10      3"
            ]
          },
          "execution_count": 26,
          "metadata": {},
          "output_type": "execute_result"
        }
      ],
      "source": [
        "count = [1, 2, 3]\n",
        "\n",
        "# Yêu cầu: Hãy thêm cột số lượng bán cho DataFrame sales từ List trên\n",
        "sales['Count'] = count\n",
        "\n",
        "sales"
      ]
    },
    {
      "cell_type": "code",
      "execution_count": 27,
      "id": "89a4cc1c-3f70-4687-94e3-35eca832b9f2",
      "metadata": {
        "id": "89a4cc1c-3f70-4687-94e3-35eca832b9f2",
        "outputId": "ee494101-5c7b-4c4f-d934-6885e2ac25e5"
      },
      "outputs": [
        {
          "data": {
            "text/html": [
              "<div>\n",
              "<style scoped>\n",
              "    .dataframe tbody tr th:only-of-type {\n",
              "        vertical-align: middle;\n",
              "    }\n",
              "\n",
              "    .dataframe tbody tr th {\n",
              "        vertical-align: top;\n",
              "    }\n",
              "\n",
              "    .dataframe thead th {\n",
              "        text-align: right;\n",
              "    }\n",
              "</style>\n",
              "<table border=\"1\" class=\"dataframe\">\n",
              "  <thead>\n",
              "    <tr style=\"text-align: right;\">\n",
              "      <th></th>\n",
              "      <th>Item</th>\n",
              "      <th>Type</th>\n",
              "      <th>Price</th>\n",
              "      <th>Count</th>\n",
              "      <th>Rating</th>\n",
              "    </tr>\n",
              "  </thead>\n",
              "  <tbody>\n",
              "    <tr>\n",
              "      <th>0</th>\n",
              "      <td>Apple</td>\n",
              "      <td>Fruit</td>\n",
              "      <td>10</td>\n",
              "      <td>1</td>\n",
              "      <td>5</td>\n",
              "    </tr>\n",
              "    <tr>\n",
              "      <th>1</th>\n",
              "      <td>Hamburger</td>\n",
              "      <td>Fast Food</td>\n",
              "      <td>20</td>\n",
              "      <td>2</td>\n",
              "      <td>3</td>\n",
              "    </tr>\n",
              "    <tr>\n",
              "      <th>2</th>\n",
              "      <td>Pepsi</td>\n",
              "      <td>Drinks</td>\n",
              "      <td>10</td>\n",
              "      <td>3</td>\n",
              "      <td>2</td>\n",
              "    </tr>\n",
              "  </tbody>\n",
              "</table>\n",
              "</div>"
            ],
            "text/plain": [
              "        Item       Type  Price  Count  Rating\n",
              "0      Apple      Fruit     10      1       5\n",
              "1  Hamburger  Fast Food     20      2       3\n",
              "2      Pepsi     Drinks     10      3       2"
            ]
          },
          "execution_count": 27,
          "metadata": {},
          "output_type": "execute_result"
        }
      ],
      "source": [
        "rating = pd.Series([5, 3, 2])\n",
        "# Yêu cầu: Hãy thêm cột đánh giá cho DataFrame sales Series trên\n",
        "sales['Rating'] = rating\n",
        "\n",
        "sales"
      ]
    },
    {
      "cell_type": "markdown",
      "id": "b88bb245-ba0d-40f2-9e80-edcd62df24d7",
      "metadata": {
        "id": "b88bb245-ba0d-40f2-9e80-edcd62df24d7"
      },
      "source": [
        "# 3. Tạo bản sao tập dữ liệu"
      ]
    },
    {
      "cell_type": "markdown",
      "id": "527cdf58-af23-405e-bb01-b71dcb60c4da",
      "metadata": {
        "id": "527cdf58-af23-405e-bb01-b71dcb60c4da"
      },
      "source": [
        "## 3.1. Series"
      ]
    },
    {
      "cell_type": "code",
      "execution_count": 31,
      "id": "3687a108-346e-4848-8427-0b5e5ee4faab",
      "metadata": {
        "id": "3687a108-346e-4848-8427-0b5e5ee4faab",
        "outputId": "6e33fa1f-f94b-4369-9823-96c97d8191f0"
      },
      "outputs": [
        {
          "data": {
            "text/plain": [
              "0    5\n",
              "1    3\n",
              "2    2\n",
              "3    1\n",
              "4    4\n",
              "5    3\n",
              "dtype: int64"
            ]
          },
          "execution_count": 31,
          "metadata": {},
          "output_type": "execute_result"
        }
      ],
      "source": [
        "# Yêu cầu: Hãy tạo một bản sao Series new_ratings từ Series ratings\n",
        "new_ratings = pd.Series(ratings, copy = True)\n",
        "new_ratings"
      ]
    },
    {
      "cell_type": "markdown",
      "id": "304c7a3f-8363-411a-abe6-4619a491a044",
      "metadata": {
        "id": "304c7a3f-8363-411a-abe6-4619a491a044"
      },
      "source": [
        "## 3.2. DataFrame"
      ]
    },
    {
      "cell_type": "code",
      "execution_count": 33,
      "id": "256c1684-da09-45fd-8e83-5d0b0051d9dc",
      "metadata": {
        "id": "256c1684-da09-45fd-8e83-5d0b0051d9dc",
        "outputId": "3d37dc06-097d-4c9e-b132-cf49646facbf"
      },
      "outputs": [
        {
          "data": {
            "text/html": [
              "<div>\n",
              "<style scoped>\n",
              "    .dataframe tbody tr th:only-of-type {\n",
              "        vertical-align: middle;\n",
              "    }\n",
              "\n",
              "    .dataframe tbody tr th {\n",
              "        vertical-align: top;\n",
              "    }\n",
              "\n",
              "    .dataframe thead th {\n",
              "        text-align: right;\n",
              "    }\n",
              "</style>\n",
              "<table border=\"1\" class=\"dataframe\">\n",
              "  <thead>\n",
              "    <tr style=\"text-align: right;\">\n",
              "      <th></th>\n",
              "      <th>App Name</th>\n",
              "      <th>App Id</th>\n",
              "      <th>Category</th>\n",
              "      <th>Rating</th>\n",
              "      <th>Rating Count</th>\n",
              "      <th>Installs</th>\n",
              "      <th>Minimum Installs</th>\n",
              "      <th>Maximum Installs</th>\n",
              "      <th>Free</th>\n",
              "      <th>Price</th>\n",
              "      <th>...</th>\n",
              "      <th>Developer Website</th>\n",
              "      <th>Developer Email</th>\n",
              "      <th>Released</th>\n",
              "      <th>Last Updated</th>\n",
              "      <th>Content Rating</th>\n",
              "      <th>Privacy Policy</th>\n",
              "      <th>Ad Supported</th>\n",
              "      <th>In App Purchases</th>\n",
              "      <th>Editors Choice</th>\n",
              "      <th>Scraped Time</th>\n",
              "    </tr>\n",
              "  </thead>\n",
              "  <tbody>\n",
              "    <tr>\n",
              "      <th>0</th>\n",
              "      <td>Gakondo</td>\n",
              "      <td>com.ishakwe.gakondo</td>\n",
              "      <td>Adventure</td>\n",
              "      <td>0.0</td>\n",
              "      <td>0.0</td>\n",
              "      <td>10+</td>\n",
              "      <td>10.0</td>\n",
              "      <td>15</td>\n",
              "      <td>True</td>\n",
              "      <td>0.0</td>\n",
              "      <td>...</td>\n",
              "      <td>https://beniyizibyose.tk/#/</td>\n",
              "      <td>jean21101999@gmail.com</td>\n",
              "      <td>Feb 26, 2020</td>\n",
              "      <td>Feb 26, 2020</td>\n",
              "      <td>Everyone</td>\n",
              "      <td>https://beniyizibyose.tk/projects/</td>\n",
              "      <td>False</td>\n",
              "      <td>False</td>\n",
              "      <td>False</td>\n",
              "      <td>2021-06-15 20:19:35</td>\n",
              "    </tr>\n",
              "    <tr>\n",
              "      <th>1</th>\n",
              "      <td>Ampere Battery Info</td>\n",
              "      <td>com.webserveis.batteryinfo</td>\n",
              "      <td>Tools</td>\n",
              "      <td>4.4</td>\n",
              "      <td>64.0</td>\n",
              "      <td>5,000+</td>\n",
              "      <td>5000.0</td>\n",
              "      <td>7662</td>\n",
              "      <td>True</td>\n",
              "      <td>0.0</td>\n",
              "      <td>...</td>\n",
              "      <td>https://webserveis.netlify.app/</td>\n",
              "      <td>webserveis@gmail.com</td>\n",
              "      <td>May 21, 2020</td>\n",
              "      <td>May 06, 2021</td>\n",
              "      <td>Everyone</td>\n",
              "      <td>https://dev4phones.wordpress.com/licencia-de-uso/</td>\n",
              "      <td>True</td>\n",
              "      <td>False</td>\n",
              "      <td>False</td>\n",
              "      <td>2021-06-15 20:19:35</td>\n",
              "    </tr>\n",
              "    <tr>\n",
              "      <th>2</th>\n",
              "      <td>Vibook</td>\n",
              "      <td>com.doantiepvien.crm</td>\n",
              "      <td>Productivity</td>\n",
              "      <td>0.0</td>\n",
              "      <td>0.0</td>\n",
              "      <td>50+</td>\n",
              "      <td>50.0</td>\n",
              "      <td>58</td>\n",
              "      <td>True</td>\n",
              "      <td>0.0</td>\n",
              "      <td>...</td>\n",
              "      <td>NaN</td>\n",
              "      <td>vnacrewit@gmail.com</td>\n",
              "      <td>Aug 9, 2019</td>\n",
              "      <td>Aug 19, 2019</td>\n",
              "      <td>Everyone</td>\n",
              "      <td>https://www.vietnamairlines.com/vn/en/terms-an...</td>\n",
              "      <td>False</td>\n",
              "      <td>False</td>\n",
              "      <td>False</td>\n",
              "      <td>2021-06-15 20:19:35</td>\n",
              "    </tr>\n",
              "    <tr>\n",
              "      <th>3</th>\n",
              "      <td>Smart City Trichy Public Service Vehicles 17UC...</td>\n",
              "      <td>cst.stJoseph.ug17ucs548</td>\n",
              "      <td>Communication</td>\n",
              "      <td>5.0</td>\n",
              "      <td>5.0</td>\n",
              "      <td>10+</td>\n",
              "      <td>10.0</td>\n",
              "      <td>19</td>\n",
              "      <td>True</td>\n",
              "      <td>0.0</td>\n",
              "      <td>...</td>\n",
              "      <td>http://www.climatesmarttech.com/</td>\n",
              "      <td>climatesmarttech2@gmail.com</td>\n",
              "      <td>Sep 10, 2018</td>\n",
              "      <td>Oct 13, 2018</td>\n",
              "      <td>Everyone</td>\n",
              "      <td>NaN</td>\n",
              "      <td>True</td>\n",
              "      <td>False</td>\n",
              "      <td>False</td>\n",
              "      <td>2021-06-15 20:19:35</td>\n",
              "    </tr>\n",
              "    <tr>\n",
              "      <th>4</th>\n",
              "      <td>GROW.me</td>\n",
              "      <td>com.horodyski.grower</td>\n",
              "      <td>Tools</td>\n",
              "      <td>0.0</td>\n",
              "      <td>0.0</td>\n",
              "      <td>100+</td>\n",
              "      <td>100.0</td>\n",
              "      <td>478</td>\n",
              "      <td>True</td>\n",
              "      <td>0.0</td>\n",
              "      <td>...</td>\n",
              "      <td>http://www.horodyski.com.pl</td>\n",
              "      <td>rmilekhorodyski@gmail.com</td>\n",
              "      <td>Feb 21, 2020</td>\n",
              "      <td>Nov 12, 2018</td>\n",
              "      <td>Everyone</td>\n",
              "      <td>http://www.horodyski.com.pl</td>\n",
              "      <td>False</td>\n",
              "      <td>False</td>\n",
              "      <td>False</td>\n",
              "      <td>2021-06-15 20:19:35</td>\n",
              "    </tr>\n",
              "  </tbody>\n",
              "</table>\n",
              "<p>5 rows × 24 columns</p>\n",
              "</div>"
            ],
            "text/plain": [
              "                                            App Name  \\\n",
              "0                                            Gakondo   \n",
              "1                                Ampere Battery Info   \n",
              "2                                             Vibook   \n",
              "3  Smart City Trichy Public Service Vehicles 17UC...   \n",
              "4                                            GROW.me   \n",
              "\n",
              "                       App Id       Category  Rating  Rating Count Installs  \\\n",
              "0         com.ishakwe.gakondo      Adventure     0.0           0.0      10+   \n",
              "1  com.webserveis.batteryinfo          Tools     4.4          64.0   5,000+   \n",
              "2        com.doantiepvien.crm   Productivity     0.0           0.0      50+   \n",
              "3     cst.stJoseph.ug17ucs548  Communication     5.0           5.0      10+   \n",
              "4        com.horodyski.grower          Tools     0.0           0.0     100+   \n",
              "\n",
              "   Minimum Installs  Maximum Installs  Free  Price  ...  \\\n",
              "0              10.0                15  True    0.0  ...   \n",
              "1            5000.0              7662  True    0.0  ...   \n",
              "2              50.0                58  True    0.0  ...   \n",
              "3              10.0                19  True    0.0  ...   \n",
              "4             100.0               478  True    0.0  ...   \n",
              "\n",
              "                  Developer Website              Developer Email  \\\n",
              "0       https://beniyizibyose.tk/#/       jean21101999@gmail.com   \n",
              "1   https://webserveis.netlify.app/         webserveis@gmail.com   \n",
              "2                               NaN          vnacrewit@gmail.com   \n",
              "3  http://www.climatesmarttech.com/  climatesmarttech2@gmail.com   \n",
              "4       http://www.horodyski.com.pl    rmilekhorodyski@gmail.com   \n",
              "\n",
              "       Released  Last Updated Content Rating  \\\n",
              "0  Feb 26, 2020  Feb 26, 2020       Everyone   \n",
              "1  May 21, 2020  May 06, 2021       Everyone   \n",
              "2   Aug 9, 2019  Aug 19, 2019       Everyone   \n",
              "3  Sep 10, 2018  Oct 13, 2018       Everyone   \n",
              "4  Feb 21, 2020  Nov 12, 2018       Everyone   \n",
              "\n",
              "                                      Privacy Policy Ad Supported  \\\n",
              "0                 https://beniyizibyose.tk/projects/        False   \n",
              "1  https://dev4phones.wordpress.com/licencia-de-uso/         True   \n",
              "2  https://www.vietnamairlines.com/vn/en/terms-an...        False   \n",
              "3                                                NaN         True   \n",
              "4                        http://www.horodyski.com.pl        False   \n",
              "\n",
              "  In App Purchases Editors Choice         Scraped Time  \n",
              "0            False          False  2021-06-15 20:19:35  \n",
              "1            False          False  2021-06-15 20:19:35  \n",
              "2            False          False  2021-06-15 20:19:35  \n",
              "3            False          False  2021-06-15 20:19:35  \n",
              "4            False          False  2021-06-15 20:19:35  \n",
              "\n",
              "[5 rows x 24 columns]"
            ]
          },
          "execution_count": 33,
          "metadata": {},
          "output_type": "execute_result"
        }
      ],
      "source": [
        "# Yêu cầu: Hãy tạo một bản sao DataFrame new_df_google_playstore từ DataFrame df_google_playstore\n",
        "new_df_google_playstore = pd.DataFrame(df_google_playstore, copy = True)\n",
        "new_df_google_playstore.head()"
      ]
    },
    {
      "cell_type": "markdown",
      "id": "83bb982b-f97e-44c1-b8e8-9a341337fb8a",
      "metadata": {
        "id": "83bb982b-f97e-44c1-b8e8-9a341337fb8a"
      },
      "source": [
        "# 4. Lưu dữ liệu sang file dữ liệu"
      ]
    },
    {
      "cell_type": "markdown",
      "id": "3f17320e-57d7-418f-83fa-a4e8994c80cf",
      "metadata": {
        "id": "3f17320e-57d7-418f-83fa-a4e8994c80cf"
      },
      "source": [
        "## 4.1. Series"
      ]
    },
    {
      "cell_type": "code",
      "execution_count": null,
      "id": "471772bc-017c-4dec-b74b-5eb957ecd54a",
      "metadata": {
        "id": "471772bc-017c-4dec-b74b-5eb957ecd54a"
      },
      "outputs": [],
      "source": [
        "# Yêu cầu: Hãy lưu trữ Series fruits sang file csv\n",
        "fruits.to_csv('fruits.csv', index = False)\n",
        "\n",
        "# Yêu cầu: Hãy lưu trữ Series ratings sang file excel\n",
        "ratings.to_excel('ratings.xlsx', index = False)\n",
        "\n",
        "# Yêu cầu: Hãy lưu trữ Series fruits_abc sang file json\n",
        "fruits_abc.to_json('fruits_abc.json')"
      ]
    },
    {
      "cell_type": "markdown",
      "id": "197e1a32-ce23-4827-a1c1-1eb060ef294b",
      "metadata": {
        "id": "197e1a32-ce23-4827-a1c1-1eb060ef294b"
      },
      "source": [
        "## 4.2. DataFrame"
      ]
    },
    {
      "cell_type": "code",
      "execution_count": null,
      "id": "91cf76b3-8e4e-46ed-8692-b242323cfe11",
      "metadata": {
        "id": "91cf76b3-8e4e-46ed-8692-b242323cfe11"
      },
      "outputs": [],
      "source": [
        "# Yêu cầu: Hãy lưu trữ DataFrame sales sang file csv\n",
        "sales.to_csv(\"sales.csv\", index = False)\n",
        "\n",
        "# Yêu cầu: Hãy lưu trữ DataFrame sales sang file excel\n",
        "sales.to_excel(\"sales.xlsx\",sheet_name=\"sales\", index = False)\n",
        "\n",
        "# Yêu cầu: Hãy lưu trữ DataFrame sales sang file json\n",
        "sales.to_json('sales.json')"
      ]
    }
  ],
  "metadata": {
    "colab": {
      "provenance": []
    },
    "kernelspec": {
      "display_name": "Python 3 (ipykernel)",
      "language": "python",
      "name": "python3"
    },
    "language_info": {
      "codemirror_mode": {
        "name": "ipython",
        "version": 3
      },
      "file_extension": ".py",
      "mimetype": "text/x-python",
      "name": "python",
      "nbconvert_exporter": "python",
      "pygments_lexer": "ipython3",
      "version": "3.10.13"
    }
  },
  "nbformat": 4,
  "nbformat_minor": 5
}
