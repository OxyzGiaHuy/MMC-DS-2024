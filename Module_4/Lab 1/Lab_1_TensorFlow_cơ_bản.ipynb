{
  "nbformat": 4,
  "nbformat_minor": 0,
  "metadata": {
    "accelerator": "GPU",
    "colab": {
      "provenance": [],
      "gpuType": "T4"
    },
    "kernelspec": {
      "display_name": "Python 3",
      "name": "python3"
    },
    "language_info": {
      "codemirror_mode": {
        "name": "ipython",
        "version": 3
      },
      "file_extension": ".py",
      "mimetype": "text/x-python",
      "name": "python",
      "nbconvert_exporter": "python",
      "pygments_lexer": "ipython3",
      "version": "3.7.6"
    }
  },
  "cells": [
    {
      "cell_type": "markdown",
      "metadata": {
        "id": "ielzxn52r2CB"
      },
      "source": [
        "# 00 Làm quen với TensorFlow: Các hướng dẫn cơ bản\n",
        "\n",
        "## TensorFlow là gì?\n",
        "\n",
        "[TensorFlow](https://www.tensorflow.org/) là một thư viện đầu cuối (end-to-end), mã nguồn mở dành cho học máy để tiền xử lý dữ liệu, lập mô hình dữ liệu và phục vụ mô hình (trao tới tay người khác).\n",
        "\n",
        "## Tại sao nên sử dụng TensorFlow?\n",
        "\n",
        "Thay vì xây dựng mô hình học máy và học sâu từ đầu, hãy sử dụng thư viện như TensorFlow, do nó chứa nhiều hàm học máy phổ biến nhất mà chúng ta sẽ cần.\n",
        "\n",
        "## Chúng ta sẽ tìm hiểu những gì?\n",
        "\n",
        "TensorFlow rất rộng. Nhưng tiền đề chính rất đơn giản: biến dữ liệu thành số (tensor) và xây dựng các thuật toán học máy để tìm các mẫu trong đó.\n",
        "\n",
        "Trong notebook này, chúng ta sẽ bao quát một số hoạt động cơ bản nhất của TensorFlow, cụ thể là:\n",
        "* Giới thiệu về tensor (tạo tensor)\n",
        "* Nhận thông tin từ tensor (các thuộc tính của tensor)\n",
        "* Thao tác với tensor (các phép toán với tensor)\n",
        "* Tensor và NumPy\n",
        "* Sử dụng @tf.function (cách tăng tốc các hàm Python thông thường)\n",
        "* Sử dụng GPUs với TensorFlow\n",
        "* Bài tập thực hành\n",
        "\n",
        "Lưu ý:\n",
        "* Ẩn sau đó là nhiều quy ước tự động diễn ra (khi xây dựng mô hình), nắm được điều này rất có ích vì nếu thấy chúng, chúng ta sẽ biết điều gì đang xảy ra.\n",
        "* Với bất kỳ hàm TensorFlow nào mà bạn gặp, hãy xem lại trong tài liệu, chẳng hạn: mở tài liệu Python API có tất cả các hàm và kiếm điều bạn muốn biết: https://www.tensorflow.org/api_docs/python/ (đừng lo nếu lúc đầu bạn cảm thấy quá sức, cứ thực hành đủ là các bạn sẽ quen với việc vận hành tài liệu thôi).\n",
        "\n"
      ]
    },
    {
      "cell_type": "markdown",
      "metadata": {
        "id": "VArmDlu06sH0"
      },
      "source": [
        "## Giới thiệu về Tensor\n",
        "\n",
        "Nếu đã từng sử dụng NumPy, các bạn sẽ thấy [tensors](https://www.tensorflow.org/guide/tensor) giống như mảng NumPy (chúng ta sẽ thấy điều này sau).\n",
        "\n",
        "For the sake of this notebook and going forward, you can think of a tensor as a multi-dimensional numerical representation (also referred to as n-dimensional, where n can be any number) of something. Where something can be almost anything you can imagine:  Trong notebook này và các notebook sau, có thể coi tensor là một biểu diễn số đa chiều (hay n-chiều, trong đó n là một số bất kỳ) của bất cứ điều gì mà chúng ta nghĩ tới.\n",
        "* Có thể là chính các số (dùng tensor để thể hiện giá nhà).\n",
        "* Có thể là hình ảnh (sử dụng tensor để biểu diễn pixel của hình ảnh).\n",
        "* Có thể là văn bản (sử dụng tensor để biểu diễn từ).\n",
        "* Hoặc có thể là một dạng thông tin (hoặc dữ liệu) khác cần biểu diễn với số.\n",
        "\n",
        "Khác biệt chính giữa tensor và mảng NumPy (hay mảng số n-chiều) là tensor có thể dùng trong [GPU (bộ xử lý đồ họa)](https://blogs.nvidia.com/blog/2009/12/16/whats-the-difference-between-a-cpu-and-a-gpu/) và [TPUs (bộ xử lý tensor)](https://en.wikipedia.org/wiki/Tensor_processing_unit).\n",
        "\n",
        "Việc chạy trong GPU và TPU có ưu điểm là nhanh hơn, tức là chúng ta có thể tìm mẫu trong các biểu diễn dạng số của dữ liệu nhanh hơn qua việc dùng GPU và TPU.\n",
        "\n",
        "Chúng ta đã đề cập khá nhiều về tensor, hãy xem:\n",
        "\n",
        "Trước tiên, hãy import TensorFlow dưới alias (bí danh) thường gặp là `tf`."
      ]
    },
    {
      "cell_type": "code",
      "metadata": {
        "colab": {
          "base_uri": "https://localhost:8080/"
        },
        "id": "Z7ieIu8t9ijY",
        "outputId": "5b889443-9d0f-4303-abdf-a69bbb529d74"
      },
      "source": [
        "# Import TensorFlow\n",
        "import tensorflow as tf\n",
        "print(tf.__version__) # tìm số phiên bản (nên là 2.x+)"
      ],
      "execution_count": 32,
      "outputs": [
        {
          "output_type": "stream",
          "name": "stdout",
          "text": [
            "2.17.1\n"
          ]
        }
      ]
    },
    {
      "cell_type": "markdown",
      "metadata": {
        "id": "JNtV5t1qz0VP"
      },
      "source": [
        "### Tạo Tensors với `tf.constant()`\n",
        "\n",
        "Như đã đề cập trước đó, chúng ta thường không tự tạo tensor do TensorFlow có các mô-đun đã tích hợp sẵn (như [`tf.io`](https://www.tensorflow.org/api_docs/python/tf/io) và [`tf.data`](https://www.tensorflow.org/guide/data)), cho phép đọc các nguồn dữ liệu và tự động chuyển đổi chúng thành tensor, sau đó các mô hình mạng nơ-ron sẽ xử lý giúp chúng ta.\n",
        "\n",
        "Nhưng giờ, do chúng ta đang làm quen với tensor và cách thao tác, hãy xem chúng ta sẽ tạo ra chúng như thế nào.\n",
        "\n",
        "Chúng ta sẽ bắt đầu bằng cách sử dụng [`tf.constant()`](https://www.tensorflow.org/api_docs/python/tf/constant)."
      ]
    },
    {
      "cell_type": "code",
      "metadata": {
        "colab": {
          "base_uri": "https://localhost:8080/"
        },
        "id": "nC7aQgqi0M_Z",
        "outputId": "3b246f5d-d3b1-4963-e9ba-34d5787883ad"
      },
      "source": [
        "# Tạo một số vô hướng (tensor bậc 0)\n",
        "scalar = tf.constant(7)\n",
        "scalar"
      ],
      "execution_count": 2,
      "outputs": [
        {
          "output_type": "execute_result",
          "data": {
            "text/plain": [
              "<tf.Tensor: shape=(), dtype=int32, numpy=7>"
            ]
          },
          "metadata": {},
          "execution_count": 2
        }
      ]
    },
    {
      "cell_type": "markdown",
      "metadata": {
        "id": "o6fXE5dXkO_3"
      },
      "source": [
        "Số vô hướng được coi là một tensor bậc 0 vì nó không có chiều (nó chỉ là một con số).\n",
        "\n",
        "> 🔑 **Lưu ý:** Hiện tại, chúng ta không cần phải biết quá nhiều về các bậc khác nhau của tensor (nhưng sẽ xem xét về điều này sau). Điều quan trọng là cần biết tensor có phạm vi không giới hạn về chiều (số lượng chính xác sẽ phụ thuộc vào dữ liệu bạn đang biểu diễn)."
      ]
    },
    {
      "cell_type": "code",
      "metadata": {
        "colab": {
          "base_uri": "https://localhost:8080/"
        },
        "id": "1sgUNKoFkJ21",
        "outputId": "2fb72718-7b3d-44a7-808b-1d5313de34cd"
      },
      "source": [
        "# Kiểm tra số chiều của tensor (ndim là số chiều)\n",
        "scalar.ndim"
      ],
      "execution_count": 3,
      "outputs": [
        {
          "output_type": "execute_result",
          "data": {
            "text/plain": [
              "0"
            ]
          },
          "metadata": {},
          "execution_count": 3
        }
      ]
    },
    {
      "cell_type": "code",
      "metadata": {
        "colab": {
          "base_uri": "https://localhost:8080/"
        },
        "id": "irtCo2fs0V_o",
        "outputId": "e16d0aee-426b-448f-d960-c8466a028553"
      },
      "source": [
        "# Tạo một vectơ (nhiều hơn 0 chiều)\n",
        "vector = tf.constant([10, 10])\n",
        "vector"
      ],
      "execution_count": 4,
      "outputs": [
        {
          "output_type": "execute_result",
          "data": {
            "text/plain": [
              "<tf.Tensor: shape=(2,), dtype=int32, numpy=array([10, 10], dtype=int32)>"
            ]
          },
          "metadata": {},
          "execution_count": 4
        }
      ]
    },
    {
      "cell_type": "code",
      "metadata": {
        "colab": {
          "base_uri": "https://localhost:8080/"
        },
        "id": "7DDc36pvmOse",
        "outputId": "c913c97c-0706-4631-eaaf-5a40430ebcdb"
      },
      "source": [
        "# Kiểm tra số chiều của tensor của vectơ tensor\n",
        "vector.ndim"
      ],
      "execution_count": 5,
      "outputs": [
        {
          "output_type": "execute_result",
          "data": {
            "text/plain": [
              "1"
            ]
          },
          "metadata": {},
          "execution_count": 5
        }
      ]
    },
    {
      "cell_type": "code",
      "metadata": {
        "colab": {
          "base_uri": "https://localhost:8080/"
        },
        "id": "HXf5A5360V7A",
        "outputId": "0b1688b1-92aa-48fa-b4ed-0d8f7ea6583f"
      },
      "source": [
        "# Tạo một ma trận (nhiều hơn 1 chiều)\n",
        "matrix = tf.constant([[10, 7],\n",
        "                      [7, 10]])\n",
        "matrix"
      ],
      "execution_count": 6,
      "outputs": [
        {
          "output_type": "execute_result",
          "data": {
            "text/plain": [
              "<tf.Tensor: shape=(2, 2), dtype=int32, numpy=\n",
              "array([[10,  7],\n",
              "       [ 7, 10]], dtype=int32)>"
            ]
          },
          "metadata": {},
          "execution_count": 6
        }
      ]
    },
    {
      "cell_type": "code",
      "metadata": {
        "colab": {
          "base_uri": "https://localhost:8080/"
        },
        "id": "Asmn6YghlT6u",
        "outputId": "5fc807f1-bd8b-46bb-ae34-064153a8b1d2"
      },
      "source": [
        "matrix.ndim"
      ],
      "execution_count": 7,
      "outputs": [
        {
          "output_type": "execute_result",
          "data": {
            "text/plain": [
              "2"
            ]
          },
          "metadata": {},
          "execution_count": 7
        }
      ]
    },
    {
      "cell_type": "markdown",
      "metadata": {
        "id": "qvQb7RT2s9Te"
      },
      "source": [
        "Theo mặc định, TensorFlow tạo các tensor có kiểu dữ liệu `int32` hoặc `float32`.\n",
        "\n",
        "Nó được coi là [32-bit precision](https://en.wikipedia.org/wiki/Precision_(computer_science) (số càng cao thì càng chính xác, càng chiếm nhiều dung lượng máy tính)"
      ]
    },
    {
      "cell_type": "code",
      "metadata": {
        "colab": {
          "base_uri": "https://localhost:8080/"
        },
        "id": "aEgthLq80V2u",
        "outputId": "bd7c0b88-0407-4e6c-ac65-ca95484f41fb"
      },
      "source": [
        "# Tạo một ma trận khác và xác định kiểu dữ liệu\n",
        "another_matrix = tf.constant([[10., 7.],\n",
        "                              [3., 2.],\n",
        "                              [8., 9.]], dtype=tf.float16) # chỉ định kiểu dữ liệu với 'dtype'\n",
        "another_matrix"
      ],
      "execution_count": 8,
      "outputs": [
        {
          "output_type": "execute_result",
          "data": {
            "text/plain": [
              "<tf.Tensor: shape=(3, 2), dtype=float16, numpy=\n",
              "array([[10.,  7.],\n",
              "       [ 3.,  2.],\n",
              "       [ 8.,  9.]], dtype=float16)>"
            ]
          },
          "metadata": {},
          "execution_count": 8
        }
      ]
    },
    {
      "cell_type": "code",
      "metadata": {
        "colab": {
          "base_uri": "https://localhost:8080/"
        },
        "id": "v-Y-lXdOlXRg",
        "outputId": "c1824070-5de6-4406-a233-2dd1f34d7e28"
      },
      "source": [
        "# Mặc dù another_matrix có nhiều số hơn, các chiều của nó vẫn giữ nguyên\n",
        "another_matrix.ndim"
      ],
      "execution_count": 9,
      "outputs": [
        {
          "output_type": "execute_result",
          "data": {
            "text/plain": [
              "2"
            ]
          },
          "metadata": {},
          "execution_count": 9
        }
      ]
    },
    {
      "cell_type": "code",
      "metadata": {
        "colab": {
          "base_uri": "https://localhost:8080/"
        },
        "id": "fAy7J6fT0Vwz",
        "outputId": "30ca9792-1e47-4e8f-ab01-77a5b802b058"
      },
      "source": [
        "# Còn tensor thì sao? (có nhiều hơn 2 chiều, dù tất cả các mục trên đều là các tensor về mặt kỹ thuật)\n",
        "tensor = tf.constant([[[1, 2, 3],\n",
        "                       [4, 5, 6]],\n",
        "                      [[7, 8, 9],\n",
        "                       [10, 11, 12]],\n",
        "                      [[13, 14, 15],\n",
        "                       [16, 17, 18]]])\n",
        "tensor"
      ],
      "execution_count": 10,
      "outputs": [
        {
          "output_type": "execute_result",
          "data": {
            "text/plain": [
              "<tf.Tensor: shape=(3, 2, 3), dtype=int32, numpy=\n",
              "array([[[ 1,  2,  3],\n",
              "        [ 4,  5,  6]],\n",
              "\n",
              "       [[ 7,  8,  9],\n",
              "        [10, 11, 12]],\n",
              "\n",
              "       [[13, 14, 15],\n",
              "        [16, 17, 18]]], dtype=int32)>"
            ]
          },
          "metadata": {},
          "execution_count": 10
        }
      ]
    },
    {
      "cell_type": "code",
      "metadata": {
        "colab": {
          "base_uri": "https://localhost:8080/"
        },
        "id": "FhIsj108mFOS",
        "outputId": "50719641-8484-450d-d25e-2189aac600b9"
      },
      "source": [
        "tensor.ndim"
      ],
      "execution_count": null,
      "outputs": [
        {
          "output_type": "execute_result",
          "data": {
            "text/plain": [
              "3"
            ]
          },
          "metadata": {},
          "execution_count": 11
        }
      ]
    },
    {
      "cell_type": "markdown",
      "metadata": {
        "id": "w5MGwSpA100u"
      },
      "source": [
        "Đây là tensor bậc 3 (3-chiều), tuy nhiên, tensor có thể có số chiều bất kỳ (không giới hạn).\n",
        "\n",
        "Ví dụ: chúng ta có thể biến chuỗi các hình ảnh thành các tensor có shape (224, 224, 3, 32), trong đó:\n",
        "* 224, 224 (2 chiều đầu tiên) là chiều cao và chiều rộng của hình ảnh tính theo pixel.\n",
        "* 3 là số kênh màu của ảnh (red, green blue).\n",
        "* 32 là kích thước batch (số hình mà một mạng nơ-ron thấy tại thời điểm bất kỳ).\n",
        "\n",
        "Tất cả các biến mà chúng ta vừa tạo thực ra là các tensor. Nhưng các bạn cũng có thể nghe những tên khác (những cái tên mà chúng tôi đặt cho chúng):\n",
        "* **scalar**: số duy nhất.\n",
        "* **vector**: số có hướng (ví dụ: tốc độ gió với hướng).\n",
        "* **matrix**: mảng số 2-chiều.\n",
        "* **tensor**: mảng số n-chiều (trong đó: n là số bất kỳ, tensor 0-chiều là một số vô hướng, tensor 1-chiều là một vector).\n",
        "\n",
        "Để tăng nhầm lẫn, thuật ngữ matrix (ma trận) và tensor thường được sử dụng thay thế cho nhau.\n",
        "\n",
        "Kể từ giờ, khi sử dụng TensorFlow, mọi thứ mà chúng ta đề cập và sử dụng sẽ là tensor.\n",
        "\n",
        "Để tìm hiểu thêm về khác biệt giữa scalar, vector và matrix, hãy tham khảo [bài viết về visual algebra từ Math is Fun](https://www.mathsisfun.com/algebra/scalar-vector-matrix.html).\n",
        "\n",
        "![difference between scalar, vector, matrix, tensor](https://raw.githubusercontent.com/mrdbourke/tensorflow-deep-learning/main/images/00-scalar-vector-matrix-tensor.png)"
      ]
    },
    {
      "cell_type": "markdown",
      "metadata": {
        "id": "TZMfDFKC0Cl7"
      },
      "source": [
        "### Tạo Tensor với `tf.Variable()`\n",
        "\n",
        "Chúng ta cũng có thể (mặc dù rất hiếm vì thường khi làm việc với dữ liệu, tensor sẽ được tạo tự động) tạo tensor bằng cách sử dụng [`tf.Variable()`](https://www.tensorflow.org/api_docs/python/tf/Variable).\n",
        "\n",
        "Sự khác biệt giữa `tf.Variable()` và `tf.constant()` là tensor được tạo bằng `tf.constant ()` là bất biến (không thể thay đổi, chỉ được sử dụng để tạo tensor mới), trong khi đó tensor được tạo bằng `tf.Variable()` có thể thay đổi (có thể thay đổi)."
      ]
    },
    {
      "cell_type": "code",
      "metadata": {
        "colab": {
          "base_uri": "https://localhost:8080/"
        },
        "id": "bv1SBbDe4TxN",
        "outputId": "ac7e5c13-a9ba-4151-ec88-448a675b635b"
      },
      "source": [
        "# Tạo tensor tương tự với tf.Variable() và tf.constant()\n",
        "changeable_tensor = tf.Variable([10, 7])\n",
        "unchangeable_tensor = tf.constant([10, 7])\n",
        "changeable_tensor, unchangeable_tensor"
      ],
      "execution_count": null,
      "outputs": [
        {
          "output_type": "execute_result",
          "data": {
            "text/plain": [
              "(<tf.Variable 'Variable:0' shape=(2,) dtype=int32, numpy=array([10,  7], dtype=int32)>,\n",
              " <tf.Tensor: shape=(2,), dtype=int32, numpy=array([10,  7], dtype=int32)>)"
            ]
          },
          "metadata": {},
          "execution_count": 12
        }
      ]
    },
    {
      "cell_type": "markdown",
      "metadata": {
        "id": "A4WrQ8c2ux15"
      },
      "source": [
        "Bây giờ chúng ta hãy thử thay đổi một trong những phần tử có thể thay đổi của tensor."
      ]
    },
    {
      "cell_type": "code",
      "metadata": {
        "colab": {
          "base_uri": "https://localhost:8080/",
          "height": 200
        },
        "id": "dfDwbF6i5Sy3",
        "outputId": "7d6bfa04-3067-4eb8-cb3d-e7ccbd363a65"
      },
      "source": [
        "# Sẽ có lỗi (yêu cầu phương thức .assign())\n",
        "changeable_tensor[0] = 7\n",
        "changeable_tensor"
      ],
      "execution_count": null,
      "outputs": [
        {
          "output_type": "error",
          "ename": "TypeError",
          "evalue": "ignored",
          "traceback": [
            "\u001b[0;31m---------------------------------------------------------------------------\u001b[0m",
            "\u001b[0;31mTypeError\u001b[0m                                 Traceback (most recent call last)",
            "\u001b[0;32m<ipython-input-13-f4d72d5027ec>\u001b[0m in \u001b[0;36m<module>\u001b[0;34m()\u001b[0m\n\u001b[1;32m      1\u001b[0m \u001b[0;31m# Sẽ có lỗi (yêu cầu phương thức .assign())\u001b[0m\u001b[0;34m\u001b[0m\u001b[0;34m\u001b[0m\u001b[0;34m\u001b[0m\u001b[0m\n\u001b[0;32m----> 2\u001b[0;31m \u001b[0mchangeable_tensor\u001b[0m\u001b[0;34m[\u001b[0m\u001b[0;36m0\u001b[0m\u001b[0;34m]\u001b[0m \u001b[0;34m=\u001b[0m \u001b[0;36m7\u001b[0m\u001b[0;34m\u001b[0m\u001b[0;34m\u001b[0m\u001b[0m\n\u001b[0m\u001b[1;32m      3\u001b[0m \u001b[0mchangeable_tensor\u001b[0m\u001b[0;34m\u001b[0m\u001b[0;34m\u001b[0m\u001b[0m\n",
            "\u001b[0;31mTypeError\u001b[0m: 'ResourceVariable' object does not support item assignment"
          ]
        }
      ]
    },
    {
      "cell_type": "markdown",
      "metadata": {
        "id": "oWP-kZEVvGm8"
      },
      "source": [
        "Để thay đổi phần tử của tensor `tf.Variable()`, cần phương thức `assign()`."
      ]
    },
    {
      "cell_type": "code",
      "metadata": {
        "colab": {
          "base_uri": "https://localhost:8080/"
        },
        "id": "FJV3iwvG4jg4",
        "outputId": "2d1018ad-8caf-4e89-b938-0c1ae1c87aff"
      },
      "source": [
        "# Sẽ không có lỗi\n",
        "changeable_tensor[0].assign(7)\n",
        "changeable_tensor"
      ],
      "execution_count": null,
      "outputs": [
        {
          "output_type": "execute_result",
          "data": {
            "text/plain": [
              "<tf.Variable 'Variable:0' shape=(2,) dtype=int32, numpy=array([7, 7], dtype=int32)>"
            ]
          },
          "metadata": {},
          "execution_count": 14
        }
      ]
    },
    {
      "cell_type": "markdown",
      "metadata": {
        "id": "9UiV1Z0XvZ_B"
      },
      "source": [
        "Giờ hãy thay đổi giá trị trong tensor `tf.constant()`."
      ]
    },
    {
      "cell_type": "code",
      "metadata": {
        "colab": {
          "base_uri": "https://localhost:8080/",
          "height": 322
        },
        "id": "5j_rOo8X5N9f",
        "outputId": "107d4e58-aecc-45b9-b825-5445466a5c3e"
      },
      "source": [
        "# Sẽ có error (không thể thay đổi tf.constant())\n",
        "unchangeable_tensor[0].assign(7)\n",
        "unchangleable_tensor"
      ],
      "execution_count": null,
      "outputs": [
        {
          "output_type": "error",
          "ename": "AttributeError",
          "evalue": "ignored",
          "traceback": [
            "\u001b[0;31m---------------------------------------------------------------------------\u001b[0m",
            "\u001b[0;31mAttributeError\u001b[0m                            Traceback (most recent call last)",
            "\u001b[0;32m<ipython-input-15-7130ea94b114>\u001b[0m in \u001b[0;36m<module>\u001b[0;34m()\u001b[0m\n\u001b[1;32m      1\u001b[0m \u001b[0;31m# Sẽ có error (không thể thay đổi tf.constant())\u001b[0m\u001b[0;34m\u001b[0m\u001b[0;34m\u001b[0m\u001b[0;34m\u001b[0m\u001b[0m\n\u001b[0;32m----> 2\u001b[0;31m \u001b[0munchangeable_tensor\u001b[0m\u001b[0;34m[\u001b[0m\u001b[0;36m0\u001b[0m\u001b[0;34m]\u001b[0m\u001b[0;34m.\u001b[0m\u001b[0massign\u001b[0m\u001b[0;34m(\u001b[0m\u001b[0;36m7\u001b[0m\u001b[0;34m)\u001b[0m\u001b[0;34m\u001b[0m\u001b[0;34m\u001b[0m\u001b[0m\n\u001b[0m\u001b[1;32m      3\u001b[0m \u001b[0munchangleable_tensor\u001b[0m\u001b[0;34m\u001b[0m\u001b[0;34m\u001b[0m\u001b[0m\n",
            "\u001b[0;32m/usr/local/lib/python3.7/dist-packages/tensorflow/python/framework/ops.py\u001b[0m in \u001b[0;36m__getattr__\u001b[0;34m(self, name)\u001b[0m\n\u001b[1;32m    440\u001b[0m         \u001b[0;32mfrom\u001b[0m \u001b[0mtensorflow\u001b[0m\u001b[0;34m.\u001b[0m\u001b[0mpython\u001b[0m\u001b[0;34m.\u001b[0m\u001b[0mops\u001b[0m\u001b[0;34m.\u001b[0m\u001b[0mnumpy_ops\u001b[0m \u001b[0;32mimport\u001b[0m \u001b[0mnp_config\u001b[0m\u001b[0;34m\u001b[0m\u001b[0;34m\u001b[0m\u001b[0m\n\u001b[1;32m    441\u001b[0m         np_config.enable_numpy_behavior()\"\"\".format(type(self).__name__, name))\n\u001b[0;32m--> 442\u001b[0;31m     \u001b[0mself\u001b[0m\u001b[0;34m.\u001b[0m\u001b[0m__getattribute__\u001b[0m\u001b[0;34m(\u001b[0m\u001b[0mname\u001b[0m\u001b[0;34m)\u001b[0m\u001b[0;34m\u001b[0m\u001b[0;34m\u001b[0m\u001b[0m\n\u001b[0m\u001b[1;32m    443\u001b[0m \u001b[0;34m\u001b[0m\u001b[0m\n\u001b[1;32m    444\u001b[0m   \u001b[0;34m@\u001b[0m\u001b[0mstaticmethod\u001b[0m\u001b[0;34m\u001b[0m\u001b[0;34m\u001b[0m\u001b[0m\n",
            "\u001b[0;31mAttributeError\u001b[0m: 'tensorflow.python.framework.ops.EagerTensor' object has no attribute 'assign'"
          ]
        }
      ]
    },
    {
      "cell_type": "markdown",
      "metadata": {
        "id": "1t21IcYpverQ"
      },
      "source": [
        "Chúng ta sẽ sử dụng cái nào? `tf.constant()` hay `tf.Variable()`?\n",
        "\n",
        "Điều này còn tùy thuộc xem vấn đề yêu cầu những gì. Tuy nhiên, đa số trường hợp TensorFlow sẽ tự động chọn giúp chúng ta (khi load hoặc mô hình hóa dữ liệu)."
      ]
    },
    {
      "cell_type": "markdown",
      "metadata": {
        "id": "pAAT59Ay0J0l"
      },
      "source": [
        "### Tạo các random tensor\n",
        "\n",
        "Random tensor là các tensor có kích thước bất kỳ chứa các số ngẫu nhiên.\n",
        "\n",
        "Tại sao chúng ta cần tạo random tensor?\n",
        "\n",
        "Do mạng nơ-ron sử dụng random tensor để khởi tạo trọng số (mẫu) mà chúng ta đang cố tìm hiểu trong dữ liệu.\n",
        "\n",
        "Ví dụ: quá trình học một mạng nơ-ron thường bao gồm việc lấy một mảng số n-chiều ngẫu nhiên và tinh chỉnh lại cho tới khi chúng biểu diễn một số loại pattern (cách nén để biểu diễn dữ liệu gốc).\n",
        "\n",
        "**Cách một mạng học**\n",
        "![how a network learns](https://raw.githubusercontent.com/mrdbourke/tensorflow-deep-learning/main/images/00-how-a-network-learns.png)\n",
        "*Mạng học bằng cách bắt đầu với các pattern ngẫu nhiên (1) rồi qua các ví dụ minh họa của dữ liệu (2) trong khi cố gắng cập nhật các pattern ngẫu nhiên để biểu diễn ví dụ (3)*\n",
        "\n",
        "Chúng ta có thể tạo random tensor sử dụng lớp [`tf.random.Generator`](https://www.tensorflow.org/guide/random_numbers#the_tfrandomgenerator_class)."
      ]
    },
    {
      "cell_type": "code",
      "metadata": {
        "colab": {
          "base_uri": "https://localhost:8080/"
        },
        "id": "yZ7Zu5Z178JL",
        "outputId": "1c316d08-69d8-4da4-e33c-ac356210fd5b"
      },
      "source": [
        "# Tạo 2 random tensor (nhưng tương tự nhau)\n",
        "random_1 = tf.random.Generator.from_seed(42) # thiết lập seed cho khả năng tái tạo\n",
        "random_1 = random_1.normal(shape=(3, 2)) # tạo tensor từ phân phối chuẩn\n",
        "random_2 = tf.random.Generator.from_seed(42)\n",
        "random_2 = random_2.normal(shape=(3, 2))\n",
        "\n",
        "# Chúng có như nhau không?\n",
        "random_1, random_2, random_1 == random_2"
      ],
      "execution_count": 12,
      "outputs": [
        {
          "output_type": "execute_result",
          "data": {
            "text/plain": [
              "(<tf.Tensor: shape=(3, 2), dtype=float32, numpy=\n",
              " array([[-0.7565803 , -0.06854702],\n",
              "        [ 0.07595026, -1.2573844 ],\n",
              "        [-0.23193765, -1.8107855 ]], dtype=float32)>,\n",
              " <tf.Tensor: shape=(3, 2), dtype=float32, numpy=\n",
              " array([[-0.7565803 , -0.06854702],\n",
              "        [ 0.07595026, -1.2573844 ],\n",
              "        [-0.23193765, -1.8107855 ]], dtype=float32)>,\n",
              " <tf.Tensor: shape=(3, 2), dtype=bool, numpy=\n",
              " array([[ True,  True],\n",
              "        [ True,  True],\n",
              "        [ True,  True]])>)"
            ]
          },
          "metadata": {},
          "execution_count": 12
        }
      ]
    },
    {
      "cell_type": "markdown",
      "metadata": {
        "id": "k6Od5fpZ-S--"
      },
      "source": [
        "Các random tensor mà chúng ta vừa tạo thực ra là [số giả](https://www.computerhope.com/jargon/p/pseudo-random.htm) (chúng xuất hiện ngẫu nhiên nhưng thực sự không phải như vậy).\n",
        "\n",
        "Nếu thiết lập seed, chúng ta sẽ nhận được các số ngẫu nhiên (tương tự như `np.random.seed(42)` khi dùng NumPy).\n",
        "\n",
        "Thiết lập seed, giả sử \"\"hey, create some random numbers, but flavour them with X\" (X là seed).\n",
        "\n",
        "Các bạn nghĩ điều gì sẽ xảy ra khi ta thay đổi seed?"
      ]
    },
    {
      "cell_type": "code",
      "metadata": {
        "colab": {
          "base_uri": "https://localhost:8080/"
        },
        "id": "9eStLqr1F4ZP",
        "outputId": "d5465ed4-ec7c-40a0-e8fd-daaead024673"
      },
      "source": [
        "# Tạo 2 random tensor (khác nhau)\n",
        "random_3 = tf.random.Generator.from_seed(42)\n",
        "random_3 = random_3.normal(shape=(3, 2))\n",
        "random_4 = tf.random.Generator.from_seed(11)\n",
        "random_4 = random_4.normal(shape=(3, 2))\n",
        "\n",
        "# Kiểm tra các tensor xem chúng có như nhau không\n",
        "random_3, random_4, random_1 == random_3, random_3 == random_4"
      ],
      "execution_count": null,
      "outputs": [
        {
          "output_type": "execute_result",
          "data": {
            "text/plain": [
              "(<tf.Tensor: shape=(3, 2), dtype=float32, numpy=\n",
              " array([[-0.7565803 , -0.06854702],\n",
              "        [ 0.07595026, -1.2573844 ],\n",
              "        [-0.23193765, -1.8107855 ]], dtype=float32)>,\n",
              " <tf.Tensor: shape=(3, 2), dtype=float32, numpy=\n",
              " array([[ 0.2730574 , -0.29925638],\n",
              "        [-0.3652325 ,  0.61883307],\n",
              "        [-1.0130816 ,  0.2829171 ]], dtype=float32)>,\n",
              " <tf.Tensor: shape=(3, 2), dtype=bool, numpy=\n",
              " array([[ True,  True],\n",
              "        [ True,  True],\n",
              "        [ True,  True]])>,\n",
              " <tf.Tensor: shape=(3, 2), dtype=bool, numpy=\n",
              " array([[False, False],\n",
              "        [False, False],\n",
              "        [False, False]])>)"
            ]
          },
          "metadata": {},
          "execution_count": 17
        }
      ]
    },
    {
      "cell_type": "markdown",
      "metadata": {
        "id": "Nji9AdFRIhBi"
      },
      "source": [
        "Điều gì sẽ xảy ra nếu chúng ta xáo trộn thứ tự của một tensor?\n",
        "\n",
        "Chờ đã, tại sao chúng ta lại muốn làm điều đó?\n",
        "\n",
        "Giả sử chúng ta đang làm việc với 15,000 hình ảnh về mèo và chó, trong đó 10,000 hình ảnh đầu tiên là về mèo và 5,000 hình ảnh tiếp theo là về chó. Thứ tự này có thể ảnh hưởng đến cách mạng nơ-ron học (nó có thể overfit khi tìm hiểu thứ tự của dữ liệu), thay vào đó, chúng ta nên di chuyển dữ liệu xung quanh."
      ]
    },
    {
      "cell_type": "code",
      "source": [
        "not_shuffled = tf.Variable([[ 3,  4],\n",
        "                            [ 2,  5],\n",
        "                            [10,  7]])"
      ],
      "metadata": {
        "id": "WRgvfymGHYle"
      },
      "execution_count": 13,
      "outputs": []
    },
    {
      "cell_type": "code",
      "metadata": {
        "colab": {
          "base_uri": "https://localhost:8080/"
        },
        "id": "sl4HYEWMBI6x",
        "outputId": "185e9c60-f9ff-4b0c-8ef0-61a068915b01"
      },
      "source": [
        "# Xáo trộn tensor (có giá trị khi chúng ta xáo trộn dữ liệu)\n",
        "# Mỗi lần lại lại nhận được các kết quả khác nhau\n",
        "tf.random.shuffle(not_shuffled)"
      ],
      "execution_count": 14,
      "outputs": [
        {
          "output_type": "execute_result",
          "data": {
            "text/plain": [
              "<tf.Tensor: shape=(3, 2), dtype=int32, numpy=\n",
              "array([[ 3,  4],\n",
              "       [10,  7],\n",
              "       [ 2,  5]], dtype=int32)>"
            ]
          },
          "metadata": {},
          "execution_count": 14
        }
      ]
    },
    {
      "cell_type": "code",
      "metadata": {
        "colab": {
          "base_uri": "https://localhost:8080/"
        },
        "id": "-HYn0ME_H1SY",
        "outputId": "4b2a2216-f855-40d3-fd34-6d561f532b36"
      },
      "source": [
        "# Xáo trộn theo thứ tự tương tự mỗi lần sử dụng tham số seed (sẽ không thực sự như nhau)\n",
        "tf.random.shuffle(not_shuffled, seed=42)"
      ],
      "execution_count": 18,
      "outputs": [
        {
          "output_type": "execute_result",
          "data": {
            "text/plain": [
              "<tf.Tensor: shape=(3, 2), dtype=int32, numpy=\n",
              "array([[ 3,  4],\n",
              "       [ 2,  5],\n",
              "       [10,  7]], dtype=int32)>"
            ]
          },
          "metadata": {},
          "execution_count": 18
        }
      ]
    },
    {
      "cell_type": "markdown",
      "metadata": {
        "id": "GmC3qGIHjAx6"
      },
      "source": [
        "Đợi chút...tại sao các số không giống nhau?\n",
        "\n",
        "Đó là do quy tắc #4 của tài liệu về [`tf.random.set_seed()`](https://www.tensorflow.org/api_docs/python/tf/random/set_seed).\n",
        "\n",
        "> \"4. Nếu cả global seed và operation seed đều được thiết lập: Cả 2 seed được sử dụng kết hợp để xác định trình tự ngẫu nhiên.\"\n",
        "\n",
        "`tf.random.set_seed(42)` thiết lập global seed, và tham số `seed` trong `tf.random.shuffle(seed=42)` thiết lập operation seed.\n",
        "\n",
        "Do \"Các phép toán chỉ lệ thuộc vào một random seed thực ra bắt nguồn từ 2 seed: global seed và operation-level seed. Điều này thiết lập global seed.\"\n"
      ]
    },
    {
      "cell_type": "code",
      "metadata": {
        "colab": {
          "base_uri": "https://localhost:8080/"
        },
        "id": "cM6S8set-ixV",
        "outputId": "1c1db3cf-bf25-4612-e397-2e2cdee47edc"
      },
      "source": [
        "# Xáo trộn theo thứ tự tương tự mỗi khi\n",
        "\n",
        "# Thiết lập global random seed\n",
        "tf.random.set_seed(42)\n",
        "\n",
        "# Thiết lập operation random seed\n",
        "tf.random.shuffle(not_shuffled, seed=42)"
      ],
      "execution_count": 24,
      "outputs": [
        {
          "output_type": "execute_result",
          "data": {
            "text/plain": [
              "<tf.Tensor: shape=(3, 2), dtype=int32, numpy=\n",
              "array([[ 3,  4],\n",
              "       [ 2,  5],\n",
              "       [10,  7]], dtype=int32)>"
            ]
          },
          "metadata": {},
          "execution_count": 24
        }
      ]
    },
    {
      "cell_type": "code",
      "metadata": {
        "colab": {
          "base_uri": "https://localhost:8080/"
        },
        "id": "xKJOsdE8yCn4",
        "outputId": "77fe9838-c205-483c-ca11-db85ca0ff6ba"
      },
      "source": [
        "# Thiết lập global random seed\n",
        "tf.random.set_seed(42) # nếu biến đổi nó thành chú thích, chúng ta sẽ nhận được các kết quả khác nhau\n",
        "\n",
        "# Thiết lập operation random seed\n",
        "tf.random.shuffle(not_shuffled)"
      ],
      "execution_count": 30,
      "outputs": [
        {
          "output_type": "execute_result",
          "data": {
            "text/plain": [
              "<tf.Tensor: shape=(3, 2), dtype=int32, numpy=\n",
              "array([[ 2,  5],\n",
              "       [10,  7],\n",
              "       [ 3,  4]], dtype=int32)>"
            ]
          },
          "metadata": {},
          "execution_count": 30
        }
      ]
    },
    {
      "cell_type": "markdown",
      "metadata": {
        "id": "ouZ1fpJk0R3h"
      },
      "source": [
        "### Các cách khác để tạo tensor\n",
        "\n",
        "Mặc dù chúng ta hiếm khi sử dụng chúng (nhớ rằng nhiều thao tác tensor được thực hiện kín đáo cho chúng ta), có thể sử dụng [`tf.ones()`](https://www.tensorflow.org/api_docs/python/tf/ones) để tạo tensor có các giá trị 1 và [`tf.zeros()`](https://www.tensorflow.org/api_docs/python/tf/zeros) để tạo tensor có các giá trị 0."
      ]
    },
    {
      "cell_type": "code",
      "metadata": {
        "colab": {
          "base_uri": "https://localhost:8080/"
        },
        "id": "aG8QNZP7kEe1",
        "outputId": "f681dbd3-23f1-45c3-c76a-a5eff4a2a9dc"
      },
      "source": [
        "# Tạo tensor có các giá trị 1\n",
        "tf.ones(shape=(3, 2))"
      ],
      "execution_count": null,
      "outputs": [
        {
          "output_type": "execute_result",
          "data": {
            "text/plain": [
              "<tf.Tensor: shape=(3, 2), dtype=float32, numpy=\n",
              "array([[1., 1.],\n",
              "       [1., 1.],\n",
              "       [1., 1.]], dtype=float32)>"
            ]
          },
          "metadata": {},
          "execution_count": 23
        }
      ]
    },
    {
      "cell_type": "code",
      "metadata": {
        "colab": {
          "base_uri": "https://localhost:8080/"
        },
        "id": "GQKiWrB9kprj",
        "outputId": "501869c4-8e7f-46b6-92de-323734942896"
      },
      "source": [
        "# Tạo tensor có các giá trị 0\n",
        "tf.zeros(shape=(3, 2))"
      ],
      "execution_count": null,
      "outputs": [
        {
          "output_type": "execute_result",
          "data": {
            "text/plain": [
              "<tf.Tensor: shape=(3, 2), dtype=float32, numpy=\n",
              "array([[0., 0.],\n",
              "       [0., 0.],\n",
              "       [0., 0.]], dtype=float32)>"
            ]
          },
          "metadata": {},
          "execution_count": 24
        }
      ]
    },
    {
      "cell_type": "markdown",
      "metadata": {
        "id": "slcLTK5D7kc2"
      },
      "source": [
        "Chúng ta cũng có thể biến mảng NumPy thành tensor.\n",
        "\n",
        "Nhớ rằng khác biệt chính giữa tensor và mảng NumPy là tensor có thể chạy trên GPU.\n",
        "\n",
        "> 🔑 **Lưu ý:** Ma trận hoặc tensor thường được biểu diễn bằng chữ cái in hoa (chẳng hạn `X` hoặc `A`) trong khi vectơ thường được biểu diễn bằng chữ cái in thường (ví dụ: `y` hoặc `b`)."
      ]
    },
    {
      "cell_type": "code",
      "metadata": {
        "colab": {
          "base_uri": "https://localhost:8080/"
        },
        "id": "C0XP37xi7mn4",
        "outputId": "6f8f258c-6c1a-4ed2-9eca-df242058bf65"
      },
      "source": [
        "import numpy as np\n",
        "numpy_A = np.arange(1, 25, dtype=np.int32) # tạo một mảng NumPy từ 1 đến 25\n",
        "A = tf.constant(numpy_A,\n",
        "                shape=[2, 4, 3]) # lưu ý: tổng shape (2*4*3) phải khớp với số phần tử trong mảng\n",
        "numpy_A, A"
      ],
      "execution_count": null,
      "outputs": [
        {
          "output_type": "execute_result",
          "data": {
            "text/plain": [
              "(array([ 1,  2,  3,  4,  5,  6,  7,  8,  9, 10, 11, 12, 13, 14, 15, 16, 17,\n",
              "        18, 19, 20, 21, 22, 23, 24], dtype=int32),\n",
              " <tf.Tensor: shape=(2, 4, 3), dtype=int32, numpy=\n",
              " array([[[ 1,  2,  3],\n",
              "         [ 4,  5,  6],\n",
              "         [ 7,  8,  9],\n",
              "         [10, 11, 12]],\n",
              " \n",
              "        [[13, 14, 15],\n",
              "         [16, 17, 18],\n",
              "         [19, 20, 21],\n",
              "         [22, 23, 24]]], dtype=int32)>)"
            ]
          },
          "metadata": {},
          "execution_count": 25
        }
      ]
    },
    {
      "cell_type": "markdown",
      "metadata": {
        "id": "J1JLXa2P0wpx"
      },
      "source": [
        "## Lấy thông tin từ tensor (shape, rank, size)\n",
        "\n",
        "Sẽ có những lúc chúng ta muốn lấy những thông tin khác nhau từ tensor của mình, cụ thể, chúng ta nên biết những thuật ngữ tensor sau:\n",
        "* **Shape (hình dạng):** Độ dài (số phần tử) của từng chiều của tensor.\n",
        "* **Rank (bậc):** Số chiều của tensor. Số vô hướng có rank (bậc) 0, vectơ có rank 1, ma trận có có rank 2 và tensor có rank n.\n",
        "* **Axis (trục)** or **Dimension (chiều):** Các chiều cụ thể của tensor.\n",
        "* **Size (kích thước):** Tổng số mục trong tensor.\n",
        "\n",
        "Chúng ta sẽ đặc biệt sử dụng chúng khi sắp xếp shape của dữ liệu thành shape của mô hình. Ví dụ: đảm bảo shape của image tensor giống với shape của lớp đầu vào mô hình.\n",
        "\n",
        "Chúng ta đã thấy một trong số chúng trước khi sử dụng thuộc tính `ndim`. Hãy xem các phần còn lại."
      ]
    },
    {
      "cell_type": "code",
      "metadata": {
        "colab": {
          "base_uri": "https://localhost:8080/"
        },
        "id": "qhckrmovCaAA",
        "outputId": "b9adaeac-6e7a-47e8-d7a8-0cbfe4fd7903"
      },
      "source": [
        "# Tạo tensor bậc 4 (4 chiều)\n",
        "rank_4_tensor = tf.zeros([2, 3, 4, 5])\n",
        "rank_4_tensor"
      ],
      "execution_count": null,
      "outputs": [
        {
          "output_type": "execute_result",
          "data": {
            "text/plain": [
              "<tf.Tensor: shape=(2, 3, 4, 5), dtype=float32, numpy=\n",
              "array([[[[0., 0., 0., 0., 0.],\n",
              "         [0., 0., 0., 0., 0.],\n",
              "         [0., 0., 0., 0., 0.],\n",
              "         [0., 0., 0., 0., 0.]],\n",
              "\n",
              "        [[0., 0., 0., 0., 0.],\n",
              "         [0., 0., 0., 0., 0.],\n",
              "         [0., 0., 0., 0., 0.],\n",
              "         [0., 0., 0., 0., 0.]],\n",
              "\n",
              "        [[0., 0., 0., 0., 0.],\n",
              "         [0., 0., 0., 0., 0.],\n",
              "         [0., 0., 0., 0., 0.],\n",
              "         [0., 0., 0., 0., 0.]]],\n",
              "\n",
              "\n",
              "       [[[0., 0., 0., 0., 0.],\n",
              "         [0., 0., 0., 0., 0.],\n",
              "         [0., 0., 0., 0., 0.],\n",
              "         [0., 0., 0., 0., 0.]],\n",
              "\n",
              "        [[0., 0., 0., 0., 0.],\n",
              "         [0., 0., 0., 0., 0.],\n",
              "         [0., 0., 0., 0., 0.],\n",
              "         [0., 0., 0., 0., 0.]],\n",
              "\n",
              "        [[0., 0., 0., 0., 0.],\n",
              "         [0., 0., 0., 0., 0.],\n",
              "         [0., 0., 0., 0., 0.],\n",
              "         [0., 0., 0., 0., 0.]]]], dtype=float32)>"
            ]
          },
          "metadata": {},
          "execution_count": 26
        }
      ]
    },
    {
      "cell_type": "code",
      "metadata": {
        "colab": {
          "base_uri": "https://localhost:8080/"
        },
        "id": "ImJdhWnLtZ_2",
        "outputId": "7e635d03-92f3-4d9d-86d4-f23f0c2cb841"
      },
      "source": [
        "rank_4_tensor.shape, rank_4_tensor.ndim, tf.size(rank_4_tensor)"
      ],
      "execution_count": null,
      "outputs": [
        {
          "output_type": "execute_result",
          "data": {
            "text/plain": [
              "(TensorShape([2, 3, 4, 5]), 4, <tf.Tensor: shape=(), dtype=int32, numpy=120>)"
            ]
          },
          "metadata": {},
          "execution_count": 27
        }
      ]
    },
    {
      "cell_type": "code",
      "metadata": {
        "colab": {
          "base_uri": "https://localhost:8080/"
        },
        "id": "Vvb-4ZYdpI9f",
        "outputId": "04ddd0d2-ad98-4bea-9296-c37d7f315e50"
      },
      "source": [
        "# Lấy nhiều thuộc tính của tensor\n",
        "print(\"Datatype of every element:\", rank_4_tensor.dtype)\n",
        "print(\"Number of dimensions (rank):\", rank_4_tensor.ndim)\n",
        "print(\"Shape of tensor:\", rank_4_tensor.shape)\n",
        "print(\"Elements along axis 0 of tensor:\", rank_4_tensor.shape[0])\n",
        "print(\"Elements along last axis of tensor:\", rank_4_tensor.shape[-1])\n",
        "print(\"Total number of elements (2*3*4*5):\", tf.size(rank_4_tensor).numpy()) # .numpy() converts to NumPy array"
      ],
      "execution_count": null,
      "outputs": [
        {
          "output_type": "stream",
          "name": "stdout",
          "text": [
            "Datatype of every element: <dtype: 'float32'>\n",
            "Number of dimensions (rank): 4\n",
            "Shape of tensor: (2, 3, 4, 5)\n",
            "Elements along axis 0 of tensor: 2\n",
            "Elements along last axis of tensor: 5\n",
            "Total number of elements (2*3*4*5): 120\n"
          ]
        }
      ]
    },
    {
      "cell_type": "markdown",
      "metadata": {
        "id": "S0SMO2ZOqL0G"
      },
      "source": [
        "Chúng ta cũng có thể lập chỉ mục tensor như Python list."
      ]
    },
    {
      "cell_type": "code",
      "metadata": {
        "colab": {
          "base_uri": "https://localhost:8080/"
        },
        "id": "CFzOo-7QqLJf",
        "outputId": "7e1999c3-ce98-4b71-9844-07ce1e1839c7"
      },
      "source": [
        "# Lấy 2 mục đầu tiên của mỗi chiều\n",
        "rank_4_tensor[:2, :2, :2, :2]"
      ],
      "execution_count": null,
      "outputs": [
        {
          "output_type": "execute_result",
          "data": {
            "text/plain": [
              "<tf.Tensor: shape=(2, 2, 2, 2), dtype=float32, numpy=\n",
              "array([[[[0., 0.],\n",
              "         [0., 0.]],\n",
              "\n",
              "        [[0., 0.],\n",
              "         [0., 0.]]],\n",
              "\n",
              "\n",
              "       [[[0., 0.],\n",
              "         [0., 0.]],\n",
              "\n",
              "        [[0., 0.],\n",
              "         [0., 0.]]]], dtype=float32)>"
            ]
          },
          "metadata": {},
          "execution_count": 29
        }
      ]
    },
    {
      "cell_type": "code",
      "metadata": {
        "colab": {
          "base_uri": "https://localhost:8080/"
        },
        "id": "weQe2bBUqknd",
        "outputId": "f6dfd9d8-f5a2-460b-ed73-8f316b9b18ea"
      },
      "source": [
        "# Lấy chiều từ mỗi chỉ mục trừ chỉ mục cuối\n",
        "rank_4_tensor[:1, :1, :1, :]"
      ],
      "execution_count": null,
      "outputs": [
        {
          "output_type": "execute_result",
          "data": {
            "text/plain": [
              "<tf.Tensor: shape=(1, 1, 1, 5), dtype=float32, numpy=array([[[[0., 0., 0., 0., 0.]]]], dtype=float32)>"
            ]
          },
          "metadata": {},
          "execution_count": 30
        }
      ]
    },
    {
      "cell_type": "code",
      "metadata": {
        "colab": {
          "base_uri": "https://localhost:8080/"
        },
        "id": "YQKcZWz5rFXG",
        "outputId": "c866da48-beed-434a-9e25-d49808f37911"
      },
      "source": [
        "# Tạo tensor bậc 2 (2 chiều)\n",
        "rank_2_tensor = tf.constant([[10, 7],\n",
        "                             [3, 4]])\n",
        "\n",
        "# Lấy mục cuối của mỗi hàng\n",
        "rank_2_tensor[:, -1]"
      ],
      "execution_count": null,
      "outputs": [
        {
          "output_type": "execute_result",
          "data": {
            "text/plain": [
              "<tf.Tensor: shape=(2,), dtype=int32, numpy=array([7, 4], dtype=int32)>"
            ]
          },
          "metadata": {},
          "execution_count": 31
        }
      ]
    },
    {
      "cell_type": "markdown",
      "metadata": {
        "id": "cLZq3sHKrVdS"
      },
      "source": [
        "Chúng ta cũng có thể thêm chiều vào tensor mà vẫn giữ thông tin hiện tại bằng cách sử dụng `tf.newaxis`."
      ]
    },
    {
      "cell_type": "code",
      "metadata": {
        "colab": {
          "base_uri": "https://localhost:8080/"
        },
        "id": "KuEEEQa4w1id",
        "outputId": "eb87b50f-0c24-48eb-f3f2-4f6b83f9df7b"
      },
      "source": [
        "# Thêm một chiều bổ sung (vào cuối)\n",
        "rank_3_tensor = rank_2_tensor[..., tf.newaxis] # trong Python \"...\" nghĩa là \"tất cả các chiều trước\"\n",
        "rank_2_tensor, rank_3_tensor # shape (2, 2), shape (2, 2, 1)"
      ],
      "execution_count": null,
      "outputs": [
        {
          "output_type": "execute_result",
          "data": {
            "text/plain": [
              "(<tf.Tensor: shape=(2, 2), dtype=int32, numpy=\n",
              " array([[10,  7],\n",
              "        [ 3,  4]], dtype=int32)>,\n",
              " <tf.Tensor: shape=(2, 2, 1), dtype=int32, numpy=\n",
              " array([[[10],\n",
              "         [ 7]],\n",
              " \n",
              "        [[ 3],\n",
              "         [ 4]]], dtype=int32)>)"
            ]
          },
          "metadata": {},
          "execution_count": 32
        }
      ]
    },
    {
      "cell_type": "markdown",
      "metadata": {
        "id": "a5_KyB-6r7z7"
      },
      "source": [
        "Chúng ta có thể đạt được điều tương tự khi dùng [`tf.expand_dims()`](https://www.tensorflow.org/api_docs/python/tf/expand_dims)."
      ]
    },
    {
      "cell_type": "code",
      "metadata": {
        "colab": {
          "base_uri": "https://localhost:8080/"
        },
        "id": "HpPTBqt4rvr9",
        "outputId": "c3f8f03e-ec9e-48af-bbc5-5e1dd3932f26"
      },
      "source": [
        "tf.expand_dims(rank_2_tensor, axis=-1) # \"-1\" means last axis"
      ],
      "execution_count": null,
      "outputs": [
        {
          "output_type": "execute_result",
          "data": {
            "text/plain": [
              "<tf.Tensor: shape=(2, 2, 1), dtype=int32, numpy=\n",
              "array([[[10],\n",
              "        [ 7]],\n",
              "\n",
              "       [[ 3],\n",
              "        [ 4]]], dtype=int32)>"
            ]
          },
          "metadata": {},
          "execution_count": 33
        }
      ]
    },
    {
      "cell_type": "markdown",
      "metadata": {
        "id": "4EHae9iA04Ok"
      },
      "source": [
        "## Thao tác tensor (các phép toán với tensor)\n",
        "\n",
        "Tìm các mẫu trong tensor (biểu diễn dạng số của dữ liệu) cần thao tác với tensor.\n",
        "\n",
        "Một lần nữa, khi xây dựng mô hình trong TensorFlow, việc khám phá mẫu này sẽ được thực hiện cho bạn."
      ]
    },
    {
      "cell_type": "markdown",
      "metadata": {
        "id": "-NzdbYDqs1Ex"
      },
      "source": [
        "### Các phép toán cơ bản\n",
        "\n",
        "Chúng ta có thể thực hiện trực tiếp nhiều phép toán cơ bản trên tensor sử dụng các toán tử của Python như `+`, `-`, `*`."
      ]
    },
    {
      "cell_type": "code",
      "metadata": {
        "colab": {
          "base_uri": "https://localhost:8080/"
        },
        "id": "tu3zJirLsMVw",
        "outputId": "f5abb680-50ae-430b-8eb4-05cd02603a83"
      },
      "source": [
        "# Có thể cộng thêm giá trị vào tensor sử dụng toán tử cộng\n",
        "tensor = tf.constant([[10, 7], [3, 4]])\n",
        "tensor + 10"
      ],
      "execution_count": null,
      "outputs": [
        {
          "output_type": "execute_result",
          "data": {
            "text/plain": [
              "<tf.Tensor: shape=(2, 2), dtype=int32, numpy=\n",
              "array([[20, 17],\n",
              "       [13, 14]], dtype=int32)>"
            ]
          },
          "metadata": {},
          "execution_count": 34
        }
      ]
    },
    {
      "cell_type": "markdown",
      "metadata": {
        "id": "_smxbIkYwYY3"
      },
      "source": [
        "Do chúng ta dùng `tf.constant()` nên tensor ban đầu không đổi (phép cộng được thực hiện trên một bản sao)."
      ]
    },
    {
      "cell_type": "code",
      "metadata": {
        "colab": {
          "base_uri": "https://localhost:8080/"
        },
        "id": "BhJn3puhwOlM",
        "outputId": "3e81c530-a168-4e34-81d2-73e05fa379c1"
      },
      "source": [
        "# Tensor ban đầu không đổi\n",
        "tensor"
      ],
      "execution_count": null,
      "outputs": [
        {
          "output_type": "execute_result",
          "data": {
            "text/plain": [
              "<tf.Tensor: shape=(2, 2), dtype=int32, numpy=\n",
              "array([[10,  7],\n",
              "       [ 3,  4]], dtype=int32)>"
            ]
          },
          "metadata": {},
          "execution_count": 35
        }
      ]
    },
    {
      "cell_type": "markdown",
      "metadata": {
        "id": "5N6tUM16xq9d"
      },
      "source": [
        "Các toán tử khác cũng hoạt động."
      ]
    },
    {
      "cell_type": "code",
      "metadata": {
        "colab": {
          "base_uri": "https://localhost:8080/"
        },
        "id": "6TW0_ZC_xoEC",
        "outputId": "d9b7d2d9-9c95-4975-96d8-230cc789a355"
      },
      "source": [
        "# Phép nhân (hay phép nhân theo từng phần tử)\n",
        "tensor * 10"
      ],
      "execution_count": null,
      "outputs": [
        {
          "output_type": "execute_result",
          "data": {
            "text/plain": [
              "<tf.Tensor: shape=(2, 2), dtype=int32, numpy=\n",
              "array([[100,  70],\n",
              "       [ 30,  40]], dtype=int32)>"
            ]
          },
          "metadata": {},
          "execution_count": 36
        }
      ]
    },
    {
      "cell_type": "code",
      "metadata": {
        "colab": {
          "base_uri": "https://localhost:8080/"
        },
        "id": "MN6XjwWfxu66",
        "outputId": "45c9a65d-7f05-41e9-a1b6-4c22b1a1e4bd"
      },
      "source": [
        "# Phép trừ\n",
        "tensor - 10"
      ],
      "execution_count": null,
      "outputs": [
        {
          "output_type": "execute_result",
          "data": {
            "text/plain": [
              "<tf.Tensor: shape=(2, 2), dtype=int32, numpy=\n",
              "array([[ 0, -3],\n",
              "       [-7, -6]], dtype=int32)>"
            ]
          },
          "metadata": {},
          "execution_count": 37
        }
      ]
    },
    {
      "cell_type": "markdown",
      "metadata": {
        "id": "1kMJe4GlyuZR"
      },
      "source": [
        "Chúng ta cũng có thể sử dụng hàm TensorFlow tương đương. Sử dụng hàm TensorFlow (nếu có thể) có lợi thế là tăng tốc sau đó xuống dòng khi chạy như một phần của [đồ thị TensorFlow](https://www.tensorflow.org/tensorboard/graphs)."
      ]
    },
    {
      "cell_type": "code",
      "metadata": {
        "colab": {
          "base_uri": "https://localhost:8080/"
        },
        "id": "R2NDjqYIyyMc",
        "outputId": "f1626824-8856-48d2-b35f-4e4b07dd911f"
      },
      "source": [
        "# Sử dụng hàm TensorFlow tương đương của toán tử '*' (nhân)\n",
        "tf.multiply(tensor, 10)"
      ],
      "execution_count": null,
      "outputs": [
        {
          "output_type": "execute_result",
          "data": {
            "text/plain": [
              "<tf.Tensor: shape=(2, 2), dtype=int32, numpy=\n",
              "array([[100,  70],\n",
              "       [ 30,  40]], dtype=int32)>"
            ]
          },
          "metadata": {},
          "execution_count": 38
        }
      ]
    },
    {
      "cell_type": "code",
      "metadata": {
        "colab": {
          "base_uri": "https://localhost:8080/"
        },
        "id": "lKEuDBFD49w7",
        "outputId": "d24651be-4cdc-4bc5-c1b4-9e93220da07a"
      },
      "source": [
        "# Tensor ban đầu không đổi\n",
        "tensor"
      ],
      "execution_count": null,
      "outputs": [
        {
          "output_type": "execute_result",
          "data": {
            "text/plain": [
              "<tf.Tensor: shape=(2, 2), dtype=int32, numpy=\n",
              "array([[10,  7],\n",
              "       [ 3,  4]], dtype=int32)>"
            ]
          },
          "metadata": {},
          "execution_count": 39
        }
      ]
    },
    {
      "cell_type": "markdown",
      "metadata": {
        "id": "8M-0dhjtzHoZ"
      },
      "source": [
        "### Phép nhân ma trận\n",
        "\n",
        "Một trong những phép toán cơ bản nhất của thuật toán học máy là [phép nhân ma trận](https://www.mathsisfun.com/algebra/matrix-multiplying.html).\n",
        "\n",
        "TensorFlow triển khai chức năng nhân ma trận này theo phương thức [`tf.matmul()`](https://www.tensorflow.org/api_docs/python/tf/linalg/matmul).\n",
        "\n",
        "2 quy tắc nhân ma trận chính cần nhớ là:\n",
        "1. Các dimension bên trong cần khớp nhau\"\n",
        "  * `(3, 5) @ (3, 5)` sẽ không hoạt động\n",
        "  * `(5, 3) @ (3, 5)` sẽ hoạt động\n",
        "  * `(3, 5) @ (5, 3)` sẽ hoạt động\n",
        "2. Ma trận kết quả có shape của dimension bên ngoài:\n",
        " * `(5, 3) @ (3, 5)` -> `(5, 5)`\n",
        " * `(3, 5) @ (5, 3)` -> `(3, 3)`\n",
        "\n",
        "> 🔑 **Lưu ý:** '`@`' là ký hiệu cho phép nhân trong Python."
      ]
    },
    {
      "cell_type": "code",
      "metadata": {
        "colab": {
          "base_uri": "https://localhost:8080/"
        },
        "id": "pbpwVJrAsPpA",
        "outputId": "cf22c5c3-07dc-4d0a-8218-a4a71b3b594d"
      },
      "source": [
        "# Phép nhân ma trận trong TensorFlow\n",
        "print(tensor)\n",
        "tf.matmul(tensor, tensor)"
      ],
      "execution_count": null,
      "outputs": [
        {
          "output_type": "stream",
          "name": "stdout",
          "text": [
            "tf.Tensor(\n",
            "[[10  7]\n",
            " [ 3  4]], shape=(2, 2), dtype=int32)\n"
          ]
        },
        {
          "output_type": "execute_result",
          "data": {
            "text/plain": [
              "<tf.Tensor: shape=(2, 2), dtype=int32, numpy=\n",
              "array([[121,  98],\n",
              "       [ 42,  37]], dtype=int32)>"
            ]
          },
          "metadata": {},
          "execution_count": 40
        }
      ]
    },
    {
      "cell_type": "code",
      "metadata": {
        "colab": {
          "base_uri": "https://localhost:8080/"
        },
        "id": "9vpDnpb10G7U",
        "outputId": "24680e70-d552-463c-e800-7e09f3fb92f1"
      },
      "source": [
        "# Phép nhân ma trận với toán tử '@' của Python\n",
        "tensor @ tensor"
      ],
      "execution_count": null,
      "outputs": [
        {
          "output_type": "execute_result",
          "data": {
            "text/plain": [
              "<tf.Tensor: shape=(2, 2), dtype=int32, numpy=\n",
              "array([[121,  98],\n",
              "       [ 42,  37]], dtype=int32)>"
            ]
          },
          "metadata": {},
          "execution_count": 41
        }
      ]
    },
    {
      "cell_type": "markdown",
      "metadata": {
        "id": "TAV3S5YV0cDQ"
      },
      "source": [
        "Cả hai ví dụ này đều hoạt động vì biến `tensor` có shape (2, 2).\n",
        "\n",
        "Điều gì sẽ xảy ra nếu chúng ta tạo ra một vài tensor có shape không khớp?"
      ]
    },
    {
      "cell_type": "code",
      "metadata": {
        "colab": {
          "base_uri": "https://localhost:8080/"
        },
        "id": "UXSE6q1o0amm",
        "outputId": "8c84a4e9-50f3-4587-decf-9b2d7322563c"
      },
      "source": [
        "# Tạo tensor (3, 2)\n",
        "X = tf.constant([[1, 2],\n",
        "                 [3, 4],\n",
        "                 [5, 6]])\n",
        "\n",
        "# Tạo một tensor (3, 2) khác\n",
        "Y = tf.constant([[7, 8],\n",
        "                 [9, 10],\n",
        "                 [11, 12]])\n",
        "X, Y"
      ],
      "execution_count": null,
      "outputs": [
        {
          "output_type": "execute_result",
          "data": {
            "text/plain": [
              "(<tf.Tensor: shape=(3, 2), dtype=int32, numpy=\n",
              " array([[1, 2],\n",
              "        [3, 4],\n",
              "        [5, 6]], dtype=int32)>, <tf.Tensor: shape=(3, 2), dtype=int32, numpy=\n",
              " array([[ 7,  8],\n",
              "        [ 9, 10],\n",
              "        [11, 12]], dtype=int32)>)"
            ]
          },
          "metadata": {},
          "execution_count": 42
        }
      ]
    },
    {
      "cell_type": "code",
      "metadata": {
        "colab": {
          "base_uri": "https://localhost:8080/",
          "height": 328
        },
        "id": "3J4DGQa309Hc",
        "outputId": "cc634739-769b-4760-8742-1d9fe0b443b5"
      },
      "source": [
        "# Thử nhân ma trận chúng (sẽ có lỗi)\n",
        "X @ Y"
      ],
      "execution_count": null,
      "outputs": [
        {
          "output_type": "error",
          "ename": "InvalidArgumentError",
          "evalue": "ignored",
          "traceback": [
            "\u001b[0;31m---------------------------------------------------------------------------\u001b[0m",
            "\u001b[0;31mInvalidArgumentError\u001b[0m                      Traceback (most recent call last)",
            "\u001b[0;32m<ipython-input-43-026a35f192c2>\u001b[0m in \u001b[0;36m<module>\u001b[0;34m()\u001b[0m\n\u001b[1;32m      1\u001b[0m \u001b[0;31m# Thử nhân ma trận chúng (sẽ có lỗi)\u001b[0m\u001b[0;34m\u001b[0m\u001b[0;34m\u001b[0m\u001b[0;34m\u001b[0m\u001b[0m\n\u001b[0;32m----> 2\u001b[0;31m \u001b[0mX\u001b[0m \u001b[0;34m@\u001b[0m \u001b[0mY\u001b[0m\u001b[0;34m\u001b[0m\u001b[0;34m\u001b[0m\u001b[0m\n\u001b[0m",
            "\u001b[0;32m/usr/local/lib/python3.7/dist-packages/tensorflow/python/util/traceback_utils.py\u001b[0m in \u001b[0;36merror_handler\u001b[0;34m(*args, **kwargs)\u001b[0m\n\u001b[1;32m    151\u001b[0m     \u001b[0;32mexcept\u001b[0m \u001b[0mException\u001b[0m \u001b[0;32mas\u001b[0m \u001b[0me\u001b[0m\u001b[0;34m:\u001b[0m\u001b[0;34m\u001b[0m\u001b[0;34m\u001b[0m\u001b[0m\n\u001b[1;32m    152\u001b[0m       \u001b[0mfiltered_tb\u001b[0m \u001b[0;34m=\u001b[0m \u001b[0m_process_traceback_frames\u001b[0m\u001b[0;34m(\u001b[0m\u001b[0me\u001b[0m\u001b[0;34m.\u001b[0m\u001b[0m__traceback__\u001b[0m\u001b[0;34m)\u001b[0m\u001b[0;34m\u001b[0m\u001b[0;34m\u001b[0m\u001b[0m\n\u001b[0;32m--> 153\u001b[0;31m       \u001b[0;32mraise\u001b[0m \u001b[0me\u001b[0m\u001b[0;34m.\u001b[0m\u001b[0mwith_traceback\u001b[0m\u001b[0;34m(\u001b[0m\u001b[0mfiltered_tb\u001b[0m\u001b[0;34m)\u001b[0m \u001b[0;32mfrom\u001b[0m \u001b[0;32mNone\u001b[0m\u001b[0;34m\u001b[0m\u001b[0;34m\u001b[0m\u001b[0m\n\u001b[0m\u001b[1;32m    154\u001b[0m     \u001b[0;32mfinally\u001b[0m\u001b[0;34m:\u001b[0m\u001b[0;34m\u001b[0m\u001b[0;34m\u001b[0m\u001b[0m\n\u001b[1;32m    155\u001b[0m       \u001b[0;32mdel\u001b[0m \u001b[0mfiltered_tb\u001b[0m\u001b[0;34m\u001b[0m\u001b[0;34m\u001b[0m\u001b[0m\n",
            "\u001b[0;32m/usr/local/lib/python3.7/dist-packages/tensorflow/python/framework/ops.py\u001b[0m in \u001b[0;36mraise_from_not_ok_status\u001b[0;34m(e, name)\u001b[0m\n\u001b[1;32m   7105\u001b[0m \u001b[0;32mdef\u001b[0m \u001b[0mraise_from_not_ok_status\u001b[0m\u001b[0;34m(\u001b[0m\u001b[0me\u001b[0m\u001b[0;34m,\u001b[0m \u001b[0mname\u001b[0m\u001b[0;34m)\u001b[0m\u001b[0;34m:\u001b[0m\u001b[0;34m\u001b[0m\u001b[0;34m\u001b[0m\u001b[0m\n\u001b[1;32m   7106\u001b[0m   \u001b[0me\u001b[0m\u001b[0;34m.\u001b[0m\u001b[0mmessage\u001b[0m \u001b[0;34m+=\u001b[0m \u001b[0;34m(\u001b[0m\u001b[0;34m\" name: \"\u001b[0m \u001b[0;34m+\u001b[0m \u001b[0mname\u001b[0m \u001b[0;32mif\u001b[0m \u001b[0mname\u001b[0m \u001b[0;32mis\u001b[0m \u001b[0;32mnot\u001b[0m \u001b[0;32mNone\u001b[0m \u001b[0;32melse\u001b[0m \u001b[0;34m\"\"\u001b[0m\u001b[0;34m)\u001b[0m\u001b[0;34m\u001b[0m\u001b[0;34m\u001b[0m\u001b[0m\n\u001b[0;32m-> 7107\u001b[0;31m   \u001b[0;32mraise\u001b[0m \u001b[0mcore\u001b[0m\u001b[0;34m.\u001b[0m\u001b[0m_status_to_exception\u001b[0m\u001b[0;34m(\u001b[0m\u001b[0me\u001b[0m\u001b[0;34m)\u001b[0m \u001b[0;32mfrom\u001b[0m \u001b[0;32mNone\u001b[0m  \u001b[0;31m# pylint: disable=protected-access\u001b[0m\u001b[0;34m\u001b[0m\u001b[0;34m\u001b[0m\u001b[0m\n\u001b[0m\u001b[1;32m   7108\u001b[0m \u001b[0;34m\u001b[0m\u001b[0m\n\u001b[1;32m   7109\u001b[0m \u001b[0;34m\u001b[0m\u001b[0m\n",
            "\u001b[0;31mInvalidArgumentError\u001b[0m: Matrix size-incompatible: In[0]: [3,2], In[1]: [3,2] [Op:MatMul]"
          ]
        }
      ]
    },
    {
      "cell_type": "markdown",
      "metadata": {
        "id": "v27FQ59v1N-H"
      },
      "source": [
        "Thử nhân ma trận hai tensor có shape `(3, 2)` sẽ gây lỗi vì các dimension bên trong không khớp.\n",
        "\n",
        "Chúng ta cần thực hiện một trong 2 điều sau:\n",
        "* Reshape X thành `(2, 3)` để nó là `(2, 3) @ (3, 2)`.\n",
        "* Reshape Y thành `(3, 2)` để nó là `(3, 2) @ (2, 3)`.\n",
        "\n",
        "Chúng ta cũng có thể thực hiện một trong 2 điều sau:\n",
        "* [`tf.reshape()`](https://www.tensorflow.org/api_docs/python/tf/reshape) - cho phép reshape tensor thành một shape xác định.\n",
        "* [`tf.transpose()`](https://www.tensorflow.org/api_docs/python/tf/transpose) - chuyển chiều của một tensor đã cho.\n",
        "\n",
        "![lining up dimensions for dot products](https://raw.githubusercontent.com/mrdbourke/tensorflow-deep-learning/main/images/00-lining-up-dot-products.png)\n",
        "\n",
        "Trước tiên hãy thử `tf.reshape()`."
      ]
    },
    {
      "cell_type": "code",
      "metadata": {
        "colab": {
          "base_uri": "https://localhost:8080/"
        },
        "id": "ZwvVl-k_2W9u",
        "outputId": "b9182c94-bde5-4b9a-8301-526e529119d8"
      },
      "source": [
        "# Ví dụ: reshape (3, 2) -> (2, 3)\n",
        "tf.reshape(Y, shape=(2, 3))"
      ],
      "execution_count": null,
      "outputs": [
        {
          "output_type": "execute_result",
          "data": {
            "text/plain": [
              "<tf.Tensor: shape=(2, 3), dtype=int32, numpy=\n",
              "array([[ 7,  8,  9],\n",
              "       [10, 11, 12]], dtype=int32)>"
            ]
          },
          "metadata": {},
          "execution_count": 44
        }
      ]
    },
    {
      "cell_type": "code",
      "metadata": {
        "colab": {
          "base_uri": "https://localhost:8080/"
        },
        "id": "1jBKPQVn1Nep",
        "outputId": "ea14eae2-d5ec-44ee-f33b-438bd886c9c1"
      },
      "source": [
        "# Thử nhân ma trận với Y đã reshape\n",
        "X @ tf.reshape(Y, shape=(2, 3))"
      ],
      "execution_count": null,
      "outputs": [
        {
          "output_type": "execute_result",
          "data": {
            "text/plain": [
              "<tf.Tensor: shape=(3, 3), dtype=int32, numpy=\n",
              "array([[ 27,  30,  33],\n",
              "       [ 61,  68,  75],\n",
              "       [ 95, 106, 117]], dtype=int32)>"
            ]
          },
          "metadata": {},
          "execution_count": 45
        }
      ]
    },
    {
      "cell_type": "markdown",
      "metadata": {
        "id": "CWAgHKNk2_TO"
      },
      "source": [
        "Nếu có tác dụng, hãy thử với `X` đã reshape, trừ việc lần này chúng ta sẽ sử dụng [`tf.transpose()`](https://www.tensorflow.org/api_docs/python/tf/transpose) và `tf.matmul()`."
      ]
    },
    {
      "cell_type": "code",
      "metadata": {
        "colab": {
          "base_uri": "https://localhost:8080/"
        },
        "id": "qA2rCnik2OnQ",
        "outputId": "029b46f7-bea7-4ac1-a034-2fec3df28db6"
      },
      "source": [
        "# Ví dụ chuyển vị (3, 2) -> (2, 3)\n",
        "tf.transpose(X)"
      ],
      "execution_count": null,
      "outputs": [
        {
          "output_type": "execute_result",
          "data": {
            "text/plain": [
              "<tf.Tensor: shape=(2, 3), dtype=int32, numpy=\n",
              "array([[1, 3, 5],\n",
              "       [2, 4, 6]], dtype=int32)>"
            ]
          },
          "metadata": {},
          "execution_count": 46
        }
      ]
    },
    {
      "cell_type": "code",
      "metadata": {
        "colab": {
          "base_uri": "https://localhost:8080/"
        },
        "id": "zR8YdMfh3G0S",
        "outputId": "722a44b3-cd4f-40af-edbd-1ec371c9bafa"
      },
      "source": [
        "# Thử nhân ma trận\n",
        "tf.matmul(tf.transpose(X), Y)"
      ],
      "execution_count": null,
      "outputs": [
        {
          "output_type": "execute_result",
          "data": {
            "text/plain": [
              "<tf.Tensor: shape=(2, 2), dtype=int32, numpy=\n",
              "array([[ 89,  98],\n",
              "       [116, 128]], dtype=int32)>"
            ]
          },
          "metadata": {},
          "execution_count": 47
        }
      ]
    },
    {
      "cell_type": "code",
      "metadata": {
        "colab": {
          "base_uri": "https://localhost:8080/"
        },
        "id": "SL45P1cC5tnJ",
        "outputId": "a166e633-9136-4c59-8097-1877ea133bcd"
      },
      "source": [
        "# Chúng ta có thể thu được kết quả tương tự với các tham số\n",
        "tf.matmul(a=X, b=Y, transpose_a=True, transpose_b=False)"
      ],
      "execution_count": null,
      "outputs": [
        {
          "output_type": "execute_result",
          "data": {
            "text/plain": [
              "<tf.Tensor: shape=(2, 2), dtype=int32, numpy=\n",
              "array([[ 89,  98],\n",
              "       [116, 128]], dtype=int32)>"
            ]
          },
          "metadata": {},
          "execution_count": 48
        }
      ]
    },
    {
      "cell_type": "markdown",
      "metadata": {
        "id": "AqE518TJ3GXG"
      },
      "source": [
        "Lưu ý sự khác biệt ở các shape kết quả khi chuyển vị `X` hoặc reshape Y.\n",
        "\n",
        "Điều này là do quy tắc thứ 2 đã đề cập ở trên:\n",
        " * `(3, 2) @ (2, 3)` -> `(3, 3)` được thực hiện với `X @ tf.reshape(Y, shape=(2, 3))`\n",
        " * `(2, 3) @ (3, 2)` -> `(2, 2)` được thực hiện với `tf.matmul(tf.transpose(X), Y)`\n",
        "\n",
        "Loại thao tác dữ liệu này nhắc nhở: chúng ta cần dành nhiều thời gian cho học máy và làm việc với mạng nơ-ron reshape dữ liệu (ở dạng tensor) để chuẩn bị cho việc sử dụng với nhiều thao tác khác (như đưa vào mô hình).\n",
        "\n",
        "### Tích vô hướng\n",
        "\n",
        "Nhân các ma trận với nhau còn được gọi là tích vô hướng.\n",
        "\n",
        "Chúng ta có thể thực hiện thao tác `tf.matmul()` sử dụng [`tf.tensordot()`](https://www.tensorflow.org/api_docs/python/tf/tensordot)."
      ]
    },
    {
      "cell_type": "code",
      "metadata": {
        "colab": {
          "base_uri": "https://localhost:8080/"
        },
        "id": "qfSJHDpe2Oe9",
        "outputId": "06415a86-40dd-4c5b-94c2-c2da924769f8"
      },
      "source": [
        "# Thực hiện tích vô hướng trên X và Y (cần X là chuyển vị)\n",
        "tf.tensordot(tf.transpose(X), Y, axes=1)"
      ],
      "execution_count": null,
      "outputs": [
        {
          "output_type": "execute_result",
          "data": {
            "text/plain": [
              "<tf.Tensor: shape=(2, 2), dtype=int32, numpy=\n",
              "array([[ 89,  98],\n",
              "       [116, 128]], dtype=int32)>"
            ]
          },
          "metadata": {},
          "execution_count": 49
        }
      ]
    },
    {
      "cell_type": "markdown",
      "metadata": {
        "id": "waJcSOGf_Fg7"
      },
      "source": [
        "Các bạn có thể nhận thấy rằng dù sử dụng cả `reshape` và `tranpose` thì chúng ta vẫn sẽ nhận được các kết quả khác nhau khi sử dụng mỗi loại.\n",
        "\n",
        "Hãy xem một ví dụ, đầu tiên với `tf.transpose()` rồi với `tf.reshape()`."
      ]
    },
    {
      "cell_type": "code",
      "metadata": {
        "colab": {
          "base_uri": "https://localhost:8080/"
        },
        "id": "AAzB-F4l6Dc0",
        "outputId": "33c45994-0361-46bb-b117-941fab7404db"
      },
      "source": [
        "# Thực hiện phép nhân ma trận giữa X và Y (chuyển vị)\n",
        "tf.matmul(X, tf.transpose(Y))"
      ],
      "execution_count": null,
      "outputs": [
        {
          "output_type": "execute_result",
          "data": {
            "text/plain": [
              "<tf.Tensor: shape=(3, 3), dtype=int32, numpy=\n",
              "array([[ 23,  29,  35],\n",
              "       [ 53,  67,  81],\n",
              "       [ 83, 105, 127]], dtype=int32)>"
            ]
          },
          "metadata": {},
          "execution_count": 50
        }
      ]
    },
    {
      "cell_type": "code",
      "metadata": {
        "colab": {
          "base_uri": "https://localhost:8080/"
        },
        "id": "s-kQH7qh69PV",
        "outputId": "03583a4a-a872-4c94-f5a1-ef37744e6c49"
      },
      "source": [
        "# Thực hiện phép nhân ma trận giữa X và Y (rehaped)\n",
        "tf.matmul(X, tf.reshape(Y, (2, 3)))"
      ],
      "execution_count": null,
      "outputs": [
        {
          "output_type": "execute_result",
          "data": {
            "text/plain": [
              "<tf.Tensor: shape=(3, 3), dtype=int32, numpy=\n",
              "array([[ 27,  30,  33],\n",
              "       [ 61,  68,  75],\n",
              "       [ 95, 106, 117]], dtype=int32)>"
            ]
          },
          "metadata": {},
          "execution_count": 51
        }
      ]
    },
    {
      "cell_type": "markdown",
      "metadata": {
        "id": "2eCDnCX6AhbF"
      },
      "source": [
        "Chúng dẫn đến các giá trị khác nhau.\n",
        "\n",
        "Điều này thật lạ vì khi xử lý `Y` (ma trận `(3x2)`), reshape thành `(2, 3) và chuyển vị sẽ được shape tương tự."
      ]
    },
    {
      "cell_type": "code",
      "metadata": {
        "colab": {
          "base_uri": "https://localhost:8080/"
        },
        "id": "P_RLV373ATAb",
        "outputId": "00bbdc68-983a-4d9b-f72c-08e994a80fa7"
      },
      "source": [
        "# Kiểm tra shape của Y, Y đã reshape và Y chuyển vị\n",
        "Y.shape, tf.reshape(Y, (2, 3)).shape, tf.transpose(Y).shape"
      ],
      "execution_count": null,
      "outputs": [
        {
          "output_type": "execute_result",
          "data": {
            "text/plain": [
              "(TensorShape([3, 2]), TensorShape([2, 3]), TensorShape([2, 3]))"
            ]
          },
          "metadata": {},
          "execution_count": 52
        }
      ]
    },
    {
      "cell_type": "markdown",
      "metadata": {
        "id": "OilqUMBKAevX"
      },
      "source": [
        "Nhưng việc gọi `tf.reshape()` và `tf.transpose()` trên `Y` không nhất thiết cho các giá trị tương tự."
      ]
    },
    {
      "cell_type": "code",
      "metadata": {
        "colab": {
          "base_uri": "https://localhost:8080/"
        },
        "id": "B5_aYjqeA_w_",
        "outputId": "729ca042-208d-42e8-a63c-463cf8b2d35f"
      },
      "source": [
        "# Kiểm tra shape của Y, Y đã reshape và Y chuyển vị\n",
        "print(\"Normal Y:\")\n",
        "print(Y, \"\\n\") # \"\\n\" cho dòng mới\n",
        "\n",
        "print(\"Y reshaped to (2, 3):\")\n",
        "print(tf.reshape(Y, (2, 3)), \"\\n\")\n",
        "\n",
        "print(\"Y transposed:\")\n",
        "print(tf.transpose(Y))"
      ],
      "execution_count": null,
      "outputs": [
        {
          "output_type": "stream",
          "name": "stdout",
          "text": [
            "Normal Y:\n",
            "tf.Tensor(\n",
            "[[ 7  8]\n",
            " [ 9 10]\n",
            " [11 12]], shape=(3, 2), dtype=int32) \n",
            "\n",
            "Y reshaped to (2, 3):\n",
            "tf.Tensor(\n",
            "[[ 7  8  9]\n",
            " [10 11 12]], shape=(2, 3), dtype=int32) \n",
            "\n",
            "Y transposed:\n",
            "tf.Tensor(\n",
            "[[ 7  9 11]\n",
            " [ 8 10 12]], shape=(2, 3), dtype=int32)\n"
          ]
        }
      ]
    },
    {
      "cell_type": "markdown",
      "metadata": {
        "id": "g9g3l45LFO7K"
      },
      "source": [
        "Như các bạn thấy, đầu ra của việc gọi `tf.reshape()` và `tf.transpose()` trên `Y` khác nhau dù chúng có shape tương tự.\n",
        "\n",
        "Điều này có thể giải thích là do khả vi mặc định của từng phương thức:\n",
        "* [`tf.reshape()`](https://www.tensorflow.org/api_docs/python/tf/reshape) - thay đổi shape của tensor đã cho (đầu tiên) rồi chèn các giá trị theo thứ tự chúng xuất hiện (trong trường hợp của chúng ta: 7, 8, 9, 10, 11, 12).\n",
        "* [`tf.transpose()`](https://www.tensorflow.org/api_docs/python/tf/transpose) - hoán đổi thứ tự của các trục, mặc định trục cuối thành trục đầu, nhưng có thể thay đổi thứ tự bằng cách sử dụng [tham số `perm`](https://www.tensorflow.org/api_docs/python/tf/transpose)."
      ]
    },
    {
      "cell_type": "markdown",
      "metadata": {
        "id": "fzjcZ4FHCOb5"
      },
      "source": [
        "Vậy chúng ta nên sử dụng cái nào?\n",
        "\n",
        "\n",
        "Một lần nữa, hầu hết thời gian hoạt động (sẽ được thực hiện cho bạn khi chúng cần chạy, chẳng hạn như trong suốt quá trình huấn luyện mạng nơ-ron).\n",
        "\n",
        "Nhưng nhìn chung, bất cứ khi nào tiến hành phép nhân ma trận và shape của hai ma trận không thẳng hàng, chúng ta sẽ không chuyển vị (không reshape) một trong số chúng để xếp cho chúng thẳng hàng.\n",
        "\n",
        "### Tidbit: Phép nhân ma trận\n",
        "* Nếu chúng ta chuyển vị `Y`, nó sẽ được biểu diễn là $\\mathbf{Y}^\\mathsf{T}$ (lưu ý T là chuyển vị).\n",
        "* Xem minh họa về phép nhân ma trận từ [Math is Fun](https://www.mathsisfun.com/algebra/matrix-multiplying.html).\n",
        "* Hãy thử một mô phỏng thực tiễn về phép nhân ma trận: http://matrixmultiplication.xyz/ (như dưới đây).\n",
        "\n",
        "![visual demo of matrix multiplication](https://raw.githubusercontent.com/mrdbourke/tensorflow-deep-learning/main/images/00-matrix-multiply-crop.gif)"
      ]
    },
    {
      "cell_type": "markdown",
      "metadata": {
        "id": "bK8Kc94SL-JL"
      },
      "source": [
        "### Thay đổi kiểu dữ liệu của tensor\n",
        "\n",
        "Đôi khi chúng ta cần thay đổi kiểu dữ liệu mặc định của tensor.\n",
        "\n",
        "Điều này thường xảy ra khi bạn muốn tính toán sử dụng độ chính xác thấp hơn (ví dụ: số thực dấu phẩy động 16 bit với số thực dấu phẩy động 32 bit).\n",
        "\n",
        "Tính toán với độ chính xác thấp hơn rất hữu ích ở các thiết bị có dung lượng tính toán thấp hơn như thiết bị di động (vì càng ít bit thì càng yêu cầu dung lượng tính toán thấp hơn).\n",
        "\n",
        "Chúng ta có thể thay đổi kiểu dữ liệu của tensor sử dụng [`tf.cast()`](https://www.tensorflow.org/api_docs/python/tf/cast)."
      ]
    },
    {
      "cell_type": "code",
      "metadata": {
        "colab": {
          "base_uri": "https://localhost:8080/"
        },
        "id": "jRkZhW35Lge_",
        "outputId": "84d32761-4538-41af-b98f-473c6879b634"
      },
      "source": [
        "# Tạo tensor mới có kiểu dữ liệu mặc định (float32)\n",
        "B = tf.constant([1.7, 7.4])\n",
        "\n",
        "# Tạo tensor mới có kiểu dữ liệu mặc định (int32)\n",
        "C = tf.constant([1, 7])\n",
        "B, C"
      ],
      "execution_count": null,
      "outputs": [
        {
          "output_type": "execute_result",
          "data": {
            "text/plain": [
              "(<tf.Tensor: shape=(2,), dtype=float32, numpy=array([1.7, 7.4], dtype=float32)>,\n",
              " <tf.Tensor: shape=(2,), dtype=int32, numpy=array([1, 7], dtype=int32)>)"
            ]
          },
          "metadata": {},
          "execution_count": 54
        }
      ]
    },
    {
      "cell_type": "code",
      "metadata": {
        "colab": {
          "base_uri": "https://localhost:8080/"
        },
        "id": "kdhV1rgcNpUP",
        "outputId": "0b3ae7f8-87c1-4c12-e565-494d383f6201"
      },
      "source": [
        "# Thay đổi từ float32 thành float16 (giảm độ chính xác)\n",
        "B = tf.cast(B, dtype=tf.float16)\n",
        "B"
      ],
      "execution_count": null,
      "outputs": [
        {
          "output_type": "execute_result",
          "data": {
            "text/plain": [
              "<tf.Tensor: shape=(2,), dtype=float16, numpy=array([1.7, 7.4], dtype=float16)>"
            ]
          },
          "metadata": {},
          "execution_count": 55
        }
      ]
    },
    {
      "cell_type": "code",
      "metadata": {
        "colab": {
          "base_uri": "https://localhost:8080/"
        },
        "id": "Px2E1ANeNxRv",
        "outputId": "6fdbb3e6-ad5c-440a-89e2-595ca7a8a2e6"
      },
      "source": [
        "# Thay đổi từ int32 thành float32\n",
        "C = tf.cast(C, dtype=tf.float32)\n",
        "C"
      ],
      "execution_count": null,
      "outputs": [
        {
          "output_type": "execute_result",
          "data": {
            "text/plain": [
              "<tf.Tensor: shape=(2,), dtype=float32, numpy=array([1., 7.], dtype=float32)>"
            ]
          },
          "metadata": {},
          "execution_count": 56
        }
      ]
    },
    {
      "cell_type": "markdown",
      "metadata": {
        "id": "1F3L1BDuQVJz"
      },
      "source": [
        "### Lấy giá trị tuyệt đối\n",
        "Đôi khi chúng ta muốn lấy giá trị tuyệt đối (tất cả các giá trị dương) của các phần tử trong tensor.\n",
        "\n",
        "Để thực hiện, hãy dùng [`tf.abs()`](https://www.tensorflow.org/api_docs/python/tf/math/abs)."
      ]
    },
    {
      "cell_type": "code",
      "metadata": {
        "colab": {
          "base_uri": "https://localhost:8080/"
        },
        "id": "plNBFi51QOvW",
        "outputId": "23261f7d-89bf-4fc6-f302-6d72beb04145"
      },
      "source": [
        "# Tạo tensor có giá trị âm\n",
        "D = tf.constant([-7, -10])\n",
        "D"
      ],
      "execution_count": null,
      "outputs": [
        {
          "output_type": "execute_result",
          "data": {
            "text/plain": [
              "<tf.Tensor: shape=(2,), dtype=int32, numpy=array([ -7, -10], dtype=int32)>"
            ]
          },
          "metadata": {},
          "execution_count": 57
        }
      ]
    },
    {
      "cell_type": "code",
      "metadata": {
        "colab": {
          "base_uri": "https://localhost:8080/"
        },
        "id": "bOSYmX37QFHS",
        "outputId": "636fa836-103e-4238-83e4-f26bc5bfb990"
      },
      "source": [
        "# Lấy giá trị tuyệt đối\n",
        "tf.abs(D)"
      ],
      "execution_count": null,
      "outputs": [
        {
          "output_type": "execute_result",
          "data": {
            "text/plain": [
              "<tf.Tensor: shape=(2,), dtype=int32, numpy=array([ 7, 10], dtype=int32)>"
            ]
          },
          "metadata": {},
          "execution_count": 58
        }
      ]
    },
    {
      "cell_type": "markdown",
      "metadata": {
        "id": "G4cnALehQ2CE"
      },
      "source": [
        "### Tìm min, max, mean, sum (kết tập)\n",
        "\n",
        "Chúng ta có thể nhanh chóng kết tập (thực hiện phép tính trên toàn bộ tensor) các tensor để tìm giá trị nhỏ nhất, giá trị lớn nhất, giá trị trung bình và tổng của tất cả các phần tử.\n",
        "\n",
        "Để thực hiện, chúng ta sử dụng phương thức kết tập có cú pháp `reduce()_[action]`, gồm:\n",
        "* [`tf.reduce_min()`](https://www.tensorflow.org/api_docs/python/tf/math/reduce_min) - tìm giá trị nhỏ nhất trong tensor.\n",
        "* [`tf.reduce_max()`](https://www.tensorflow.org/api_docs/python/tf/math/reduce_max) - tìm giá trị lớn nhất trong tensor (hữu ích khi tìm xác suất dự đoán cao nhất).\n",
        "* [`tf.reduce_mean()`](https://www.tensorflow.org/api_docs/python/tf/math/reduce_mean) - tìm giá trị trung bình của tất cả các phần tử trong tensor.\n",
        "* [`tf.reduce_sum()`](https://www.tensorflow.org/api_docs/python/tf/math/reduce_sum) - tìm tổng của tất cả các phần tử trong tensor.\n",
        "* **Lưu ý:** mỗi loại này thường nằm trong một mô-đun `math`, chẳng hạn như `tf.math.reduce_min()` nhưng chúng ta cũng có thể sử dụng alias `tf.reduce_min()`.\n",
        "\n",
        "Hãy xem cách chúng hoạt động."
      ]
    },
    {
      "cell_type": "code",
      "metadata": {
        "colab": {
          "base_uri": "https://localhost:8080/"
        },
        "id": "kjW5_6i6Q7oo",
        "outputId": "f0cc98c3-e7af-4556-a685-f91d4d4c1a37"
      },
      "source": [
        "# Tạo tensor có 50 giá trị ngẫu nhiên trong khoảng 0-100\n",
        "E = tf.constant(np.random.randint(low=0, high=100, size=50))\n",
        "E"
      ],
      "execution_count": null,
      "outputs": [
        {
          "output_type": "execute_result",
          "data": {
            "text/plain": [
              "<tf.Tensor: shape=(50,), dtype=int64, numpy=\n",
              "array([70, 17, 29, 35, 10, 89, 43, 44, 71, 16, 19, 58, 45, 73, 48, 33, 35,\n",
              "        0, 86, 70, 42, 51, 97, 96, 40, 32, 76, 67, 19,  6, 95, 53, 48,  0,\n",
              "       56, 14, 37, 72, 43, 94, 34, 15, 23,  4, 49, 37, 62, 90, 21,  0])>"
            ]
          },
          "metadata": {},
          "execution_count": 59
        }
      ]
    },
    {
      "cell_type": "code",
      "metadata": {
        "colab": {
          "base_uri": "https://localhost:8080/"
        },
        "id": "slwMVgT-Rac0",
        "outputId": "ae536103-c60f-4899-c29d-1102762458e4"
      },
      "source": [
        "# Tìm giá trị nhỏ nhất\n",
        "tf.reduce_min(E)"
      ],
      "execution_count": null,
      "outputs": [
        {
          "output_type": "execute_result",
          "data": {
            "text/plain": [
              "<tf.Tensor: shape=(), dtype=int64, numpy=0>"
            ]
          },
          "metadata": {},
          "execution_count": 60
        }
      ]
    },
    {
      "cell_type": "code",
      "metadata": {
        "colab": {
          "base_uri": "https://localhost:8080/"
        },
        "id": "voLqafGCRYqO",
        "outputId": "2b35a84d-6cff-44d1-969e-8736719a3260"
      },
      "source": [
        "# Tìm giá trị lớn nhất\n",
        "tf.reduce_max(E)"
      ],
      "execution_count": null,
      "outputs": [
        {
          "output_type": "execute_result",
          "data": {
            "text/plain": [
              "<tf.Tensor: shape=(), dtype=int64, numpy=97>"
            ]
          },
          "metadata": {},
          "execution_count": 61
        }
      ]
    },
    {
      "cell_type": "code",
      "metadata": {
        "colab": {
          "base_uri": "https://localhost:8080/"
        },
        "id": "MPqwvy6TRYN3",
        "outputId": "828c1a13-70f8-4377-98fd-c11bb9decbd2"
      },
      "source": [
        "# Tìm giá trị trung bình\n",
        "tf.reduce_mean(E)"
      ],
      "execution_count": null,
      "outputs": [
        {
          "output_type": "execute_result",
          "data": {
            "text/plain": [
              "<tf.Tensor: shape=(), dtype=int64, numpy=45>"
            ]
          },
          "metadata": {},
          "execution_count": 62
        }
      ]
    },
    {
      "cell_type": "code",
      "metadata": {
        "colab": {
          "base_uri": "https://localhost:8080/"
        },
        "id": "lqwCXeD6RhyE",
        "outputId": "e698242d-aea8-450a-9f07-950010a70f75"
      },
      "source": [
        "# Tìm tổng\n",
        "tf.reduce_sum(E)"
      ],
      "execution_count": null,
      "outputs": [
        {
          "output_type": "execute_result",
          "data": {
            "text/plain": [
              "<tf.Tensor: shape=(), dtype=int64, numpy=2264>"
            ]
          },
          "metadata": {},
          "execution_count": 63
        }
      ]
    },
    {
      "cell_type": "markdown",
      "metadata": {
        "id": "zXGyiVPiRqgO"
      },
      "source": [
        "Chúng ta cũng có thể tìm độ lệch chuẩn ([`tf.reduce_std()`](https://www.tensorflow.org/api_docs/python/tf/math/reduce_std)) và phương sai ([`tf.reduce_variance()`](https://www.tensorflow.org/api_docs/python/tf/math/reduce_variance)) của các phần tử trong tensor bằng các phương thức tương tự.\n",
        "\n",
        "### Tìm giá trị lớn nhất và nhỏ nhất theo vị trí\n",
        "\n",
        "Làm sao để tìm vị trí mà tensor có giá trị lớn nhất?\n",
        "\n",
        " Sẽ hữu ích nếu bạn muốn sắp xếp các nhãn (giả sử `['Green', 'Blue', 'Red']`) với tensor xác suất dự đoán (chẳng hạn `[0.98, 0.01, 0.01]`).\n",
        "\n",
        "Trong trường hợp này, nhãn đã dự đoán (nhãn có xác suất dự đoán cao nhất) là `'Green'`.\n",
        "\n",
        "Chúng ta có thể thực hiện tương tự với giá trị nhỏ nhất (nếu cần) với các phương thức sau:\n",
        "* [`tf.argmax()`](https://www.tensorflow.org/api_docs/python/tf/math/argmax) - tìm vị trí của phần tử lớn nhất trong tensor đã cho.\n",
        "* [`tf.argmin()`](https://www.tensorflow.org/api_docs/python/tf/math/argmin) - tìm vị trí của phần tử nhỏ nhất trong tensor đã cho."
      ]
    },
    {
      "cell_type": "code",
      "metadata": {
        "colab": {
          "base_uri": "https://localhost:8080/"
        },
        "id": "PspO0Vjp3Nm6",
        "outputId": "b329bb47-5127-432c-85fd-4455f0b1f2ae"
      },
      "source": [
        "# Tạo tensor có 50 giá trị trong khoảng từ 0 đến 1\n",
        "F = tf.constant(np.random.random(50))\n",
        "F"
      ],
      "execution_count": null,
      "outputs": [
        {
          "output_type": "execute_result",
          "data": {
            "text/plain": [
              "<tf.Tensor: shape=(50,), dtype=float64, numpy=\n",
              "array([0.18128291, 0.41888478, 0.8518712 , 0.63849304, 0.59134793,\n",
              "       0.18939723, 0.89328688, 0.21217822, 0.12784878, 0.32150079,\n",
              "       0.49745738, 0.11705813, 0.78473967, 0.03376653, 0.20023511,\n",
              "       0.31505678, 0.33250105, 0.07734712, 0.3315909 , 0.88869594,\n",
              "       0.32859566, 0.25064406, 0.02024245, 0.52199139, 0.38897415,\n",
              "       0.41669185, 0.2970653 , 0.96758872, 0.56533243, 0.29327276,\n",
              "       0.97930914, 0.82512818, 0.43058268, 0.62708335, 0.94278041,\n",
              "       0.98297977, 0.07551258, 0.54283095, 0.58378617, 0.77680268,\n",
              "       0.36749493, 0.24191479, 0.08117674, 0.34272731, 0.82679029,\n",
              "       0.93293222, 0.88099158, 0.57409107, 0.40051072, 0.92066488])>"
            ]
          },
          "metadata": {},
          "execution_count": 64
        }
      ]
    },
    {
      "cell_type": "code",
      "metadata": {
        "colab": {
          "base_uri": "https://localhost:8080/"
        },
        "id": "ADbAMm9N3Zlb",
        "outputId": "3f1b20be-876e-4160-c732-786bfd9699af"
      },
      "source": [
        "# Tìm vị trí phần tử lớn nhất của F\n",
        "tf.argmax(F)"
      ],
      "execution_count": null,
      "outputs": [
        {
          "output_type": "execute_result",
          "data": {
            "text/plain": [
              "<tf.Tensor: shape=(), dtype=int64, numpy=35>"
            ]
          },
          "metadata": {},
          "execution_count": 65
        }
      ]
    },
    {
      "cell_type": "code",
      "metadata": {
        "colab": {
          "base_uri": "https://localhost:8080/"
        },
        "id": "aQrv1nVE3ckx",
        "outputId": "28e0599b-a321-425f-d487-908cf8109672"
      },
      "source": [
        "# Tìm vị trí phần tử nhỏ nhất của F\n",
        "tf.argmin(F)"
      ],
      "execution_count": null,
      "outputs": [
        {
          "output_type": "execute_result",
          "data": {
            "text/plain": [
              "<tf.Tensor: shape=(), dtype=int64, numpy=22>"
            ]
          },
          "metadata": {},
          "execution_count": 66
        }
      ]
    },
    {
      "cell_type": "code",
      "metadata": {
        "colab": {
          "base_uri": "https://localhost:8080/"
        },
        "id": "yFHzARFwLmIf",
        "outputId": "84772c86-38ac-46c7-b602-7d0e4747059d"
      },
      "source": [
        "# Tìm vị trí phần tử lớn nhất của F\n",
        "print(f\"The maximum value of F is at position: {tf.argmax(F).numpy()}\")\n",
        "print(f\"The maximum value of F is: {tf.reduce_max(F).numpy()}\")\n",
        "print(f\"Using tf.argmax() to index F, the maximum value of F is: {F[tf.argmax(F)].numpy()}\")\n",
        "print(f\"Are the two max values the same (they should be)? {F[tf.argmax(F)].numpy() == tf.reduce_max(F).numpy()}\")"
      ],
      "execution_count": null,
      "outputs": [
        {
          "output_type": "stream",
          "name": "stdout",
          "text": [
            "The maximum value of F is at position: 35\n",
            "The maximum value of F is: 0.9829797726410907\n",
            "Using tf.argmax() to index F, the maximum value of F is: 0.9829797726410907\n",
            "Are the two max values the same (they should be)? True\n"
          ]
        }
      ]
    },
    {
      "cell_type": "markdown",
      "metadata": {
        "id": "vSGIuNwm5QHM"
      },
      "source": [
        "### Nén tensor (loại tất cả các chiều đơn lẻ)\n",
        "\n",
        "Chúng ta có thể dùng `tf.squeeze()` để loại các chiều đơn lẻ khỏi tensor (chiều có size 1).\n",
        "\n",
        "* [`tf.squeeze()`](https://www.tensorflow.org/api_docs/python/tf/squeeze) - loại tất cả các chiều có size là 1 khỏi tensor.\n"
      ]
    },
    {
      "cell_type": "code",
      "metadata": {
        "colab": {
          "base_uri": "https://localhost:8080/"
        },
        "id": "6xDZLtNu5wUZ",
        "outputId": "3b86c98c-567a-43ca-8788-929d0f2188f9"
      },
      "source": [
        "# Tạo một tensor bậc 5 (5 chiều) có 50 số trong khoảng 0-100\n",
        "G = tf.constant(np.random.randint(0, 100, 50), shape=(1, 1, 1, 1, 50))\n",
        "G.shape, G.ndim"
      ],
      "execution_count": null,
      "outputs": [
        {
          "output_type": "execute_result",
          "data": {
            "text/plain": [
              "(TensorShape([1, 1, 1, 1, 50]), 5)"
            ]
          },
          "metadata": {},
          "execution_count": 68
        }
      ]
    },
    {
      "cell_type": "code",
      "metadata": {
        "colab": {
          "base_uri": "https://localhost:8080/"
        },
        "id": "oS91XOgO6lai",
        "outputId": "7ffad36b-5277-4407-d9c2-6432fb940f62"
      },
      "source": [
        "# Nén tensor G (loại tất cả các chiều 1)\n",
        "G_squeezed = tf.squeeze(G)\n",
        "G_squeezed.shape, G_squeezed.ndim"
      ],
      "execution_count": null,
      "outputs": [
        {
          "output_type": "execute_result",
          "data": {
            "text/plain": [
              "(TensorShape([50]), 1)"
            ]
          },
          "metadata": {},
          "execution_count": 69
        }
      ]
    },
    {
      "cell_type": "markdown",
      "metadata": {
        "id": "46cKe32W65Ox"
      },
      "source": [
        "### Mã hóa One-hot\n",
        "\n",
        "Chúng ta có thể sử dụng [`tf.one_hot()`](https://www.tensorflow.org/api_docs/python/tf/one_hot) để mã hóa one-hot một tensor gồm các chỉ số.\n",
        "\n",
        "Chúng ta cũng nên chỉ định tham số `depth` (muốn mã hóa sâu bao nhiêu)."
      ]
    },
    {
      "cell_type": "code",
      "metadata": {
        "colab": {
          "base_uri": "https://localhost:8080/"
        },
        "id": "FlRkMjL-646U",
        "outputId": "de30e494-0e12-43a4-9d5e-7b775d8528be"
      },
      "source": [
        "# Tạo một danh sách các chỉ số\n",
        "some_list = [0, 1, 2, 3]\n",
        "\n",
        "# Mã hóa one-hot chúng\n",
        "tf.one_hot(some_list, depth=4)"
      ],
      "execution_count": null,
      "outputs": [
        {
          "output_type": "execute_result",
          "data": {
            "text/plain": [
              "<tf.Tensor: shape=(4, 4), dtype=float32, numpy=\n",
              "array([[1., 0., 0., 0.],\n",
              "       [0., 1., 0., 0.],\n",
              "       [0., 0., 1., 0.],\n",
              "       [0., 0., 0., 1.]], dtype=float32)>"
            ]
          },
          "metadata": {},
          "execution_count": 70
        }
      ]
    },
    {
      "cell_type": "markdown",
      "metadata": {
        "id": "xYxYV0r08THk"
      },
      "source": [
        "Chúng ta cũng có thể chỉ định giá trị cho `on_value` và `off_value` thay vì `0` và `1` mặc định."
      ]
    },
    {
      "cell_type": "code",
      "metadata": {
        "colab": {
          "base_uri": "https://localhost:8080/"
        },
        "id": "FZluadm88EcN",
        "outputId": "b7087301-a5d2-465b-d309-d85fce607c3c"
      },
      "source": [
        "# Specify custom values for on and off encoding\n",
        "tf.one_hot(some_list, depth=4, on_value=\"We're live!\", off_value=\"Offline\")"
      ],
      "execution_count": null,
      "outputs": [
        {
          "output_type": "execute_result",
          "data": {
            "text/plain": [
              "<tf.Tensor: shape=(4, 4), dtype=string, numpy=\n",
              "array([[b\"We're live!\", b'Offline', b'Offline', b'Offline'],\n",
              "       [b'Offline', b\"We're live!\", b'Offline', b'Offline'],\n",
              "       [b'Offline', b'Offline', b\"We're live!\", b'Offline'],\n",
              "       [b'Offline', b'Offline', b'Offline', b\"We're live!\"]], dtype=object)>"
            ]
          },
          "metadata": {},
          "execution_count": 71
        }
      ]
    },
    {
      "cell_type": "markdown",
      "metadata": {
        "id": "-E-I1jFC84Qi"
      },
      "source": [
        "### Bình phương, log, căn bậc hai\n",
        "\n",
        "Chúng ta có thể thực hiện nhiều phép toán khác ở một số giai đoạn.\n",
        "\n",
        "Chẳng hạn:\n",
        "* [`tf.square()`](https://www.tensorflow.org/api_docs/python/tf/math/square) - tính bình phương của mọi giá trị trong tensor.\n",
        "* [`tf.sqrt()`](https://www.tensorflow.org/api_docs/python/tf/math/sqrt) - tính căn bậc hai của mọi giá trị trong tensor. (**lưu ý:** các phần tử phải là kiểu float, nếu không sẽ sai).\n",
        "* [`tf.math.log()`](https://www.tensorflow.org/api_docs/python/tf/math/log) - tính log tự nhiên của mọi giá trị trong tensor (các phần tử phải là float)."
      ]
    },
    {
      "cell_type": "code",
      "metadata": {
        "colab": {
          "base_uri": "https://localhost:8080/"
        },
        "id": "KTOvziCBLqhZ",
        "outputId": "f213aca3-6ee8-48cb-890e-32a2ccb3cebd"
      },
      "source": [
        "# Tạo tensor mới\n",
        "import numpy as np\n",
        "H = tf.constant(np.arange(1, 10))\n",
        "H"
      ],
      "execution_count": 33,
      "outputs": [
        {
          "output_type": "execute_result",
          "data": {
            "text/plain": [
              "<tf.Tensor: shape=(9,), dtype=int64, numpy=array([1, 2, 3, 4, 5, 6, 7, 8, 9])>"
            ]
          },
          "metadata": {},
          "execution_count": 33
        }
      ]
    },
    {
      "cell_type": "code",
      "metadata": {
        "colab": {
          "base_uri": "https://localhost:8080/"
        },
        "id": "qvPS3xbk9JBK",
        "outputId": "0f7b04bf-d766-4f07-f1ce-d9da7972a29a"
      },
      "source": [
        "# Bình phương nó\n",
        "tf.square(H)"
      ],
      "execution_count": 34,
      "outputs": [
        {
          "output_type": "execute_result",
          "data": {
            "text/plain": [
              "<tf.Tensor: shape=(9,), dtype=int64, numpy=array([ 1,  4,  9, 16, 25, 36, 49, 64, 81])>"
            ]
          },
          "metadata": {},
          "execution_count": 34
        }
      ]
    },
    {
      "cell_type": "code",
      "metadata": {
        "colab": {
          "base_uri": "https://localhost:8080/",
          "height": 339
        },
        "id": "SJibI0GO9uf4",
        "outputId": "67bab05b-c1d6-4573-f202-599089698fea"
      },
      "source": [
        "# Tính căn bậc hai (không lỗi), không phải là số nguyên\n",
        "tf.sqrt(H)"
      ],
      "execution_count": 35,
      "outputs": [
        {
          "output_type": "error",
          "ename": "InvalidArgumentError",
          "evalue": "Value for attr 'T' of int64 is not in the list of allowed values: bfloat16, half, float, double, complex64, complex128\n\t; NodeDef: {{node Sqrt}}; Op<name=Sqrt; signature=x:T -> y:T; attr=T:type,allowed=[DT_BFLOAT16, DT_HALF, DT_FLOAT, DT_DOUBLE, DT_COMPLEX64, DT_COMPLEX128]> [Op:Sqrt] name: ",
          "traceback": [
            "\u001b[0;31m---------------------------------------------------------------------------\u001b[0m",
            "\u001b[0;31mInvalidArgumentError\u001b[0m                      Traceback (most recent call last)",
            "\u001b[0;32m<ipython-input-35-2842c7b51e6e>\u001b[0m in \u001b[0;36m<cell line: 2>\u001b[0;34m()\u001b[0m\n\u001b[1;32m      1\u001b[0m \u001b[0;31m# Tính căn bậc hai (không lỗi), không phải là số nguyên\u001b[0m\u001b[0;34m\u001b[0m\u001b[0;34m\u001b[0m\u001b[0m\n\u001b[0;32m----> 2\u001b[0;31m \u001b[0mtf\u001b[0m\u001b[0;34m.\u001b[0m\u001b[0msqrt\u001b[0m\u001b[0;34m(\u001b[0m\u001b[0mH\u001b[0m\u001b[0;34m)\u001b[0m\u001b[0;34m\u001b[0m\u001b[0;34m\u001b[0m\u001b[0m\n\u001b[0m",
            "\u001b[0;32m/usr/local/lib/python3.10/dist-packages/tensorflow/python/ops/weak_tensor_ops.py\u001b[0m in \u001b[0;36mwrapper\u001b[0;34m(*args, **kwargs)\u001b[0m\n\u001b[1;32m     86\u001b[0m   \u001b[0;32mdef\u001b[0m \u001b[0mwrapper\u001b[0m\u001b[0;34m(\u001b[0m\u001b[0;34m*\u001b[0m\u001b[0margs\u001b[0m\u001b[0;34m,\u001b[0m \u001b[0;34m**\u001b[0m\u001b[0mkwargs\u001b[0m\u001b[0;34m)\u001b[0m\u001b[0;34m:\u001b[0m\u001b[0;34m\u001b[0m\u001b[0;34m\u001b[0m\u001b[0m\n\u001b[1;32m     87\u001b[0m     \u001b[0;32mif\u001b[0m \u001b[0;32mnot\u001b[0m \u001b[0mops\u001b[0m\u001b[0;34m.\u001b[0m\u001b[0mis_auto_dtype_conversion_enabled\u001b[0m\u001b[0;34m(\u001b[0m\u001b[0;34m)\u001b[0m\u001b[0;34m:\u001b[0m\u001b[0;34m\u001b[0m\u001b[0;34m\u001b[0m\u001b[0m\n\u001b[0;32m---> 88\u001b[0;31m       \u001b[0;32mreturn\u001b[0m \u001b[0mop\u001b[0m\u001b[0;34m(\u001b[0m\u001b[0;34m*\u001b[0m\u001b[0margs\u001b[0m\u001b[0;34m,\u001b[0m \u001b[0;34m**\u001b[0m\u001b[0mkwargs\u001b[0m\u001b[0;34m)\u001b[0m\u001b[0;34m\u001b[0m\u001b[0;34m\u001b[0m\u001b[0m\n\u001b[0m\u001b[1;32m     89\u001b[0m     \u001b[0mbound_arguments\u001b[0m \u001b[0;34m=\u001b[0m \u001b[0msignature\u001b[0m\u001b[0;34m.\u001b[0m\u001b[0mbind\u001b[0m\u001b[0;34m(\u001b[0m\u001b[0;34m*\u001b[0m\u001b[0margs\u001b[0m\u001b[0;34m,\u001b[0m \u001b[0;34m**\u001b[0m\u001b[0mkwargs\u001b[0m\u001b[0;34m)\u001b[0m\u001b[0;34m\u001b[0m\u001b[0;34m\u001b[0m\u001b[0m\n\u001b[1;32m     90\u001b[0m     \u001b[0mbound_arguments\u001b[0m\u001b[0;34m.\u001b[0m\u001b[0mapply_defaults\u001b[0m\u001b[0;34m(\u001b[0m\u001b[0;34m)\u001b[0m\u001b[0;34m\u001b[0m\u001b[0;34m\u001b[0m\u001b[0m\n",
            "\u001b[0;32m/usr/local/lib/python3.10/dist-packages/tensorflow/python/util/traceback_utils.py\u001b[0m in \u001b[0;36merror_handler\u001b[0;34m(*args, **kwargs)\u001b[0m\n\u001b[1;32m    151\u001b[0m     \u001b[0;32mexcept\u001b[0m \u001b[0mException\u001b[0m \u001b[0;32mas\u001b[0m \u001b[0me\u001b[0m\u001b[0;34m:\u001b[0m\u001b[0;34m\u001b[0m\u001b[0;34m\u001b[0m\u001b[0m\n\u001b[1;32m    152\u001b[0m       \u001b[0mfiltered_tb\u001b[0m \u001b[0;34m=\u001b[0m \u001b[0m_process_traceback_frames\u001b[0m\u001b[0;34m(\u001b[0m\u001b[0me\u001b[0m\u001b[0;34m.\u001b[0m\u001b[0m__traceback__\u001b[0m\u001b[0;34m)\u001b[0m\u001b[0;34m\u001b[0m\u001b[0;34m\u001b[0m\u001b[0m\n\u001b[0;32m--> 153\u001b[0;31m       \u001b[0;32mraise\u001b[0m \u001b[0me\u001b[0m\u001b[0;34m.\u001b[0m\u001b[0mwith_traceback\u001b[0m\u001b[0;34m(\u001b[0m\u001b[0mfiltered_tb\u001b[0m\u001b[0;34m)\u001b[0m \u001b[0;32mfrom\u001b[0m \u001b[0;32mNone\u001b[0m\u001b[0;34m\u001b[0m\u001b[0;34m\u001b[0m\u001b[0m\n\u001b[0m\u001b[1;32m    154\u001b[0m     \u001b[0;32mfinally\u001b[0m\u001b[0;34m:\u001b[0m\u001b[0;34m\u001b[0m\u001b[0;34m\u001b[0m\u001b[0m\n\u001b[1;32m    155\u001b[0m       \u001b[0;32mdel\u001b[0m \u001b[0mfiltered_tb\u001b[0m\u001b[0;34m\u001b[0m\u001b[0;34m\u001b[0m\u001b[0m\n",
            "\u001b[0;32m/usr/local/lib/python3.10/dist-packages/tensorflow/python/framework/ops.py\u001b[0m in \u001b[0;36mraise_from_not_ok_status\u001b[0;34m(e, name)\u001b[0m\n\u001b[1;32m   5981\u001b[0m \u001b[0;32mdef\u001b[0m \u001b[0mraise_from_not_ok_status\u001b[0m\u001b[0;34m(\u001b[0m\u001b[0me\u001b[0m\u001b[0;34m,\u001b[0m \u001b[0mname\u001b[0m\u001b[0;34m)\u001b[0m \u001b[0;34m->\u001b[0m \u001b[0mNoReturn\u001b[0m\u001b[0;34m:\u001b[0m\u001b[0;34m\u001b[0m\u001b[0;34m\u001b[0m\u001b[0m\n\u001b[1;32m   5982\u001b[0m   \u001b[0me\u001b[0m\u001b[0;34m.\u001b[0m\u001b[0mmessage\u001b[0m \u001b[0;34m+=\u001b[0m \u001b[0;34m(\u001b[0m\u001b[0;34m\" name: \"\u001b[0m \u001b[0;34m+\u001b[0m \u001b[0mstr\u001b[0m\u001b[0;34m(\u001b[0m\u001b[0mname\u001b[0m \u001b[0;32mif\u001b[0m \u001b[0mname\u001b[0m \u001b[0;32mis\u001b[0m \u001b[0;32mnot\u001b[0m \u001b[0;32mNone\u001b[0m \u001b[0;32melse\u001b[0m \u001b[0;34m\"\"\u001b[0m\u001b[0;34m)\u001b[0m\u001b[0;34m)\u001b[0m\u001b[0;34m\u001b[0m\u001b[0;34m\u001b[0m\u001b[0m\n\u001b[0;32m-> 5983\u001b[0;31m   \u001b[0;32mraise\u001b[0m \u001b[0mcore\u001b[0m\u001b[0;34m.\u001b[0m\u001b[0m_status_to_exception\u001b[0m\u001b[0;34m(\u001b[0m\u001b[0me\u001b[0m\u001b[0;34m)\u001b[0m \u001b[0;32mfrom\u001b[0m \u001b[0;32mNone\u001b[0m  \u001b[0;31m# pylint: disable=protected-access\u001b[0m\u001b[0;34m\u001b[0m\u001b[0;34m\u001b[0m\u001b[0m\n\u001b[0m\u001b[1;32m   5984\u001b[0m \u001b[0;34m\u001b[0m\u001b[0m\n\u001b[1;32m   5985\u001b[0m \u001b[0;34m\u001b[0m\u001b[0m\n",
            "\u001b[0;31mInvalidArgumentError\u001b[0m: Value for attr 'T' of int64 is not in the list of allowed values: bfloat16, half, float, double, complex64, complex128\n\t; NodeDef: {{node Sqrt}}; Op<name=Sqrt; signature=x:T -> y:T; attr=T:type,allowed=[DT_BFLOAT16, DT_HALF, DT_FLOAT, DT_DOUBLE, DT_COMPLEX64, DT_COMPLEX128]> [Op:Sqrt] name: "
          ]
        }
      ]
    },
    {
      "cell_type": "code",
      "metadata": {
        "id": "zlxRWy6Q-NHK",
        "colab": {
          "base_uri": "https://localhost:8080/"
        },
        "outputId": "ff21feb6-b246-4dd5-b54d-f739e73a4682"
      },
      "source": [
        "# Đổi H thành float32\n",
        "H = tf.cast(H, dtype=tf.float32)\n",
        "H"
      ],
      "execution_count": 36,
      "outputs": [
        {
          "output_type": "execute_result",
          "data": {
            "text/plain": [
              "<tf.Tensor: shape=(9,), dtype=float32, numpy=array([1., 2., 3., 4., 5., 6., 7., 8., 9.], dtype=float32)>"
            ]
          },
          "metadata": {},
          "execution_count": 36
        }
      ]
    },
    {
      "cell_type": "code",
      "metadata": {
        "colab": {
          "base_uri": "https://localhost:8080/"
        },
        "id": "S73eO0p--TtN",
        "outputId": "89b1a3ef-336e-4b4d-a96c-be359108d3aa"
      },
      "source": [
        "# Tính căn bậc hai\n",
        "tf.sqrt(H)"
      ],
      "execution_count": 37,
      "outputs": [
        {
          "output_type": "execute_result",
          "data": {
            "text/plain": [
              "<tf.Tensor: shape=(9,), dtype=float32, numpy=\n",
              "array([1.       , 1.4142135, 1.7320508, 2.       , 2.2360678, 2.4494896,\n",
              "       2.6457512, 2.828427 , 3.       ], dtype=float32)>"
            ]
          },
          "metadata": {},
          "execution_count": 37
        }
      ]
    },
    {
      "cell_type": "code",
      "metadata": {
        "id": "RyCo55vz9u4f",
        "colab": {
          "base_uri": "https://localhost:8080/"
        },
        "outputId": "1b99e25d-926c-4608-b214-cc73bbd10340"
      },
      "source": [
        "# Tính log (đầu vào cần là float)\n",
        "tf.math.log(H)"
      ],
      "execution_count": 38,
      "outputs": [
        {
          "output_type": "execute_result",
          "data": {
            "text/plain": [
              "<tf.Tensor: shape=(9,), dtype=float32, numpy=\n",
              "array([0.       , 0.6931472, 1.0986123, 1.3862944, 1.609438 , 1.7917595,\n",
              "       1.9459102, 2.0794415, 2.1972246], dtype=float32)>"
            ]
          },
          "metadata": {},
          "execution_count": 38
        }
      ]
    },
    {
      "cell_type": "markdown",
      "metadata": {
        "id": "urq3bx3l_Y4K"
      },
      "source": [
        "### Thao tác `tf.Variable` tensor\n",
        "\n",
        "Những tensor được tạo với `tf.Variable()` có thể thay đối tại chỗ với các phương thức sau:\n",
        "\n",
        "* [`.assign()`](https://www.tensorflow.org/api_docs/python/tf/Variable#assign) - gán một giá trị khác cho một chỉ mục cụ thể của tensor variable.\n",
        "* [`.add_assign()`](https://www.tensorflow.org/api_docs/python/tf/Variable#assign_add) - thêm vào một giá trị hiện có và gán lại nó ở một chỉ mục cụ thể của tensor variable.\n"
      ]
    },
    {
      "cell_type": "code",
      "metadata": {
        "colab": {
          "base_uri": "https://localhost:8080/"
        },
        "id": "tV7_uzdR_F4c",
        "outputId": "05ff9e44-9aaa-41e5-d15f-ac96a84e9b1f"
      },
      "source": [
        "# Tạo tensor variable\n",
        "I = tf.Variable(np.arange(0, 5))\n",
        "I"
      ],
      "execution_count": null,
      "outputs": [
        {
          "output_type": "execute_result",
          "data": {
            "text/plain": [
              "<tf.Variable 'Variable:0' shape=(5,) dtype=int64, numpy=array([0, 1, 2, 3, 4])>"
            ]
          },
          "metadata": {},
          "execution_count": 76
        }
      ]
    },
    {
      "cell_type": "code",
      "metadata": {
        "colab": {
          "base_uri": "https://localhost:8080/"
        },
        "id": "ukatOuCG_4CY",
        "outputId": "c3f295bc-b82c-4af3-83c4-09ae331f9c6a"
      },
      "source": [
        "# Gán cho giá trị cuối cùng một giá trị mới là 50\n",
        "I.assign([0, 1, 2, 3, 50])"
      ],
      "execution_count": null,
      "outputs": [
        {
          "output_type": "execute_result",
          "data": {
            "text/plain": [
              "<tf.Variable 'UnreadVariable' shape=(5,) dtype=int64, numpy=array([ 0,  1,  2,  3, 50])>"
            ]
          },
          "metadata": {},
          "execution_count": 77
        }
      ]
    },
    {
      "cell_type": "code",
      "metadata": {
        "colab": {
          "base_uri": "https://localhost:8080/"
        },
        "id": "3r2Pya_vAnLz",
        "outputId": "230fcb54-4e68-4f01-905e-2f98dbb362cd"
      },
      "source": [
        "# Thay đổi diễn ra tại chỗ (giá trị cuối bây giờ là 50, không còn là 4 nữa)\n",
        "I"
      ],
      "execution_count": null,
      "outputs": [
        {
          "output_type": "execute_result",
          "data": {
            "text/plain": [
              "<tf.Variable 'Variable:0' shape=(5,) dtype=int64, numpy=array([ 0,  1,  2,  3, 50])>"
            ]
          },
          "metadata": {},
          "execution_count": 78
        }
      ]
    },
    {
      "cell_type": "code",
      "metadata": {
        "colab": {
          "base_uri": "https://localhost:8080/"
        },
        "id": "gZie_FduAo5O",
        "outputId": "136f6d4d-7bc7-4d88-c9ed-310e1f49306a"
      },
      "source": [
        "# Thêm 10 vào mỗi phần tử trong I\n",
        "I.assign_add([10, 10, 10, 10, 10])"
      ],
      "execution_count": null,
      "outputs": [
        {
          "output_type": "execute_result",
          "data": {
            "text/plain": [
              "<tf.Variable 'UnreadVariable' shape=(5,) dtype=int64, numpy=array([10, 11, 12, 13, 60])>"
            ]
          },
          "metadata": {},
          "execution_count": 79
        }
      ]
    },
    {
      "cell_type": "code",
      "metadata": {
        "colab": {
          "base_uri": "https://localhost:8080/"
        },
        "id": "2qXODgVOBDzC",
        "outputId": "65b18bbc-e61f-4a6d-d0cd-03adb8d60101"
      },
      "source": [
        "# Một lần nữa, thay đổi diễn ra tại chỗ\n",
        "I"
      ],
      "execution_count": null,
      "outputs": [
        {
          "output_type": "execute_result",
          "data": {
            "text/plain": [
              "<tf.Variable 'Variable:0' shape=(5,) dtype=int64, numpy=array([10, 11, 12, 13, 60])>"
            ]
          },
          "metadata": {},
          "execution_count": 80
        }
      ]
    },
    {
      "cell_type": "markdown",
      "metadata": {
        "id": "2L2IyQhl-Z73"
      },
      "source": [
        "## Tensor và NumPy\n",
        "\n",
        "Chúng ta đã thấy một số ví dụ về tensor với mảng NumPy như sử dụng mảng NumPy để tạo tensor.\n",
        "\n",
        "Có thể chuyển đổi tensor thành mảng NumPy bằng:\n",
        "\n",
        "* `np.array()` - chuyển một tensor để chuyển đổi thành một mảng n-chiều (kiểu dữ liệu chính của NumPy).\n",
        "* `tensor.numpy()` - gọi một tensor để chuyển thành một mảng n-chiều.\n",
        "\n",
        "Điều này hữu ích vì nó khiến các tensor lặp lại và cho phép chúng ta sử dụng bất kỳ phương thức NumPy nào trên đó."
      ]
    },
    {
      "cell_type": "code",
      "metadata": {
        "colab": {
          "base_uri": "https://localhost:8080/"
        },
        "id": "HLHrij0vBywD",
        "outputId": "a894935f-cf07-4848-eca0-ad8788d16cb2"
      },
      "source": [
        "# Tạo tensor từ mảng NumPy\n",
        "J = tf.constant(np.array([3., 7., 10.]))\n",
        "J"
      ],
      "execution_count": null,
      "outputs": [
        {
          "output_type": "execute_result",
          "data": {
            "text/plain": [
              "<tf.Tensor: shape=(3,), dtype=float64, numpy=array([ 3.,  7., 10.])>"
            ]
          },
          "metadata": {},
          "execution_count": 81
        }
      ]
    },
    {
      "cell_type": "code",
      "metadata": {
        "colab": {
          "base_uri": "https://localhost:8080/"
        },
        "id": "P0KBe_FqCKdU",
        "outputId": "60b15c41-d0c6-44da-bf4d-833a85233e04"
      },
      "source": [
        "# Chuyển đổi tensor J thành mảng NumPy với np.array()\n",
        "np.array(J), type(np.array(J))"
      ],
      "execution_count": null,
      "outputs": [
        {
          "output_type": "execute_result",
          "data": {
            "text/plain": [
              "(array([ 3.,  7., 10.]), numpy.ndarray)"
            ]
          },
          "metadata": {},
          "execution_count": 82
        }
      ]
    },
    {
      "cell_type": "code",
      "metadata": {
        "colab": {
          "base_uri": "https://localhost:8080/"
        },
        "id": "xxKsJPvSCUPI",
        "outputId": "a66c1cff-7a73-4e3a-f4a0-42e198e2f322"
      },
      "source": [
        "# Chuyển đổi tensor J thành mảng NumPy với .numpy()\n",
        "J.numpy(), type(J.numpy())"
      ],
      "execution_count": null,
      "outputs": [
        {
          "output_type": "execute_result",
          "data": {
            "text/plain": [
              "(array([ 3.,  7., 10.]), numpy.ndarray)"
            ]
          },
          "metadata": {},
          "execution_count": 83
        }
      ]
    },
    {
      "cell_type": "markdown",
      "metadata": {
        "id": "SL4xHtNWDIT5"
      },
      "source": [
        "Theo mặc định, tensor có `dtype=float32`, trong khi mảng NumPy có `dtype=float64`.\n",
        "\n",
        "Điều này là do mạng nơ-ron (thường được tạo với TensorFlow) có thể hoạt động tốt với độ chính xác thấp hơn (32 bit hơn là 64 bit)."
      ]
    },
    {
      "cell_type": "code",
      "metadata": {
        "colab": {
          "base_uri": "https://localhost:8080/"
        },
        "id": "HrQoUeyPCXU9",
        "outputId": "7d0abc64-7677-4434-a818-59bec098a4d4"
      },
      "source": [
        "# Tạo tensor từ NumPy và từ một mảng\n",
        "numpy_J = tf.constant(np.array([3., 7., 10.])) # sẽ là float64 (do NumPy)\n",
        "tensor_J = tf.constant([3., 7., 10.]) # sẽ là float32 (do mặc định là TensorFlow)\n",
        "numpy_J.dtype, tensor_J.dtype"
      ],
      "execution_count": null,
      "outputs": [
        {
          "output_type": "execute_result",
          "data": {
            "text/plain": [
              "(tf.float64, tf.float32)"
            ]
          },
          "metadata": {},
          "execution_count": 84
        }
      ]
    },
    {
      "cell_type": "markdown",
      "metadata": {
        "id": "_ytLPBWF1wxt"
      },
      "source": [
        "## Sử dụng `@tf.function`\n",
        "\n",
        "Trong quá trình tìm hiểu TensorFlow, chúng ta có thể gặp các hàm Python có decorator [`@tf.function`](https://www.tensorflow.org/api_docs/python/tf/function).\n",
        "\n",
        "Nếu chưa rõ về Python decorator, hãy đọc [hướng dẫn của RealPython về decorator](https://realpython.com/primer-on-python-decorators/).\n",
        "\n",
        "Tóm lại, decorator sửa đổi một hàm không bằng cách này thì bằng cách khác.\n",
        "\n",
        "Trong trường hợp sử dụng decorator `@tf.function`, nó biến hàm Python thành một đồ thị TensorFlow có thể gọi được. Đây là một cách nói hoa mỹ, nếu bạn viết hàm Python của riêng mình và trang bị nó với `@tf.function`, thì khi bạn xuất code (để chạy trên thiết bị khác), TensorFlow sẽ cố chuyển đổi nó thành một phiên bản nhanh (hơn) của chính nó (bằng cách biến nó thành một phần của đồ thị tính toán).\n",
        "\n",
        "Để biết thêm chi tiết, hãy đọc hướng dẫn [Better performance with tf.function](https://www.tensorflow.org/guide/function)."
      ]
    },
    {
      "cell_type": "code",
      "metadata": {
        "colab": {
          "base_uri": "https://localhost:8080/"
        },
        "id": "URzFiwPoFDI7",
        "outputId": "bef35e74-b18b-4a19-ab23-952e5c15f287"
      },
      "source": [
        "# Tạo một hàm đơn giản\n",
        "def function(x, y):\n",
        "  return x ** 2 + y\n",
        "\n",
        "x = tf.constant(np.arange(0, 10))\n",
        "y = tf.constant(np.arange(10, 20))\n",
        "function(x, y)"
      ],
      "execution_count": 39,
      "outputs": [
        {
          "output_type": "execute_result",
          "data": {
            "text/plain": [
              "<tf.Tensor: shape=(10,), dtype=int64, numpy=array([ 10,  12,  16,  22,  30,  40,  52,  66,  82, 100])>"
            ]
          },
          "metadata": {},
          "execution_count": 39
        }
      ]
    },
    {
      "cell_type": "code",
      "metadata": {
        "colab": {
          "base_uri": "https://localhost:8080/"
        },
        "id": "EHGbvlkXF7Gs",
        "outputId": "7caa2889-8ae1-4785-a786-e07640ab29ca"
      },
      "source": [
        "# Tạo một hàm tương tự và trang bị với tf.function\n",
        "@tf.function\n",
        "def tf_function(x, y):\n",
        "  return x ** 2 + y\n",
        "\n",
        "tf_function(x, y)"
      ],
      "execution_count": null,
      "outputs": [
        {
          "output_type": "execute_result",
          "data": {
            "text/plain": [
              "<tf.Tensor: shape=(10,), dtype=int64, numpy=array([ 10,  12,  16,  22,  30,  40,  52,  66,  82, 100])>"
            ]
          },
          "metadata": {},
          "execution_count": 86
        }
      ]
    },
    {
      "cell_type": "markdown",
      "metadata": {
        "id": "lsiapEnTGBbH"
      },
      "source": [
        "Nếu không thấy khác biệt giữa hai hàm trên (hàm được trang bị và hàm không được trang bị) tức là bạn đã đúng.\n",
        "\n",
        "Phần lớn sự khác biệt xảy ra ẩn sau. Một trong những khác biệt chính là tăng tốc độ code tiềm năng khi có thể."
      ]
    },
    {
      "cell_type": "markdown",
      "metadata": {
        "id": "y8AQmchkxKDn"
      },
      "source": [
        "## Tìm truy cập vào GPU\n",
        "\n",
        "Chúng ta đã đề cập GPU nhiều lần suốt trong notebook này.\n",
        "\n",
        " Vậy làm thế nào để kiểm tra xem chúng ta có sẵn cái nào không?\n",
        "\n",
        "Chúng ta có thể kiểm tra xem có truy cập vào GPU nào không bằng [`tf.config.list_physical_devices()`](https://www.tensorflow.org/guide/gpu)."
      ]
    },
    {
      "cell_type": "code",
      "metadata": {
        "colab": {
          "base_uri": "https://localhost:8080/"
        },
        "id": "3rFNSeODxi3L",
        "outputId": "63e8b142-911c-41fa-efff-77bcfa7ddff9"
      },
      "source": [
        "print(tf.config.list_physical_devices('GPU'))"
      ],
      "execution_count": 40,
      "outputs": [
        {
          "output_type": "stream",
          "name": "stdout",
          "text": [
            "[PhysicalDevice(name='/physical_device:GPU:0', device_type='GPU')]\n"
          ]
        }
      ]
    },
    {
      "cell_type": "markdown",
      "metadata": {
        "id": "8165PtH8xyq5"
      },
      "source": [
        "Nếu ở trên xuất ra một mảng trống (hoặc không có gì), điều này có nghĩa là chúng ta không có quyền truy cập vào GPU (hoặc ít nhất là TensorFlow không thể tìm thấy nó).\n",
        "\n",
        "Nếu chạy trong Google Colab, chúng ta có thể truy cập GPU bằng cách vào *Runtime -> Change Runtime Type -> Select GPU* (**lưu ý:** sau khi thực hiện điều này, notebook sẽ khởi động lại và bất kỳ biến nào mà chúng ta đã lưu sẽ bị mất).\n",
        "\n",
        "Sau khi thay đổi runtime type, chạy cell dưới đây."
      ]
    },
    {
      "cell_type": "code",
      "metadata": {
        "colab": {
          "base_uri": "https://localhost:8080/"
        },
        "id": "iAvMwRbZyULE",
        "outputId": "d351c693-41f2-4fd0-a1b9-05964192dae6"
      },
      "source": [
        "import tensorflow as tf\n",
        "print(tf.config.list_physical_devices('GPU'))"
      ],
      "execution_count": null,
      "outputs": [
        {
          "output_type": "stream",
          "name": "stdout",
          "text": [
            "[PhysicalDevice(name='/physical_device:GPU:0', device_type='GPU')]\n"
          ]
        }
      ]
    },
    {
      "cell_type": "markdown",
      "metadata": {
        "id": "J3yu0LKiyZlJ"
      },
      "source": [
        "Nếu truy cập được vào GPU, cell trên sẽ xuất ra như sau:\n",
        "\n",
        "`[PhysicalDevice(name='/physical_device:GPU:0', device_type='GPU')]`\n",
        "\n",
        "Chúng ta có thể tìm thông tin về GPU của mình bằng `!nvidia-smi`."
      ]
    },
    {
      "cell_type": "code",
      "metadata": {
        "colab": {
          "base_uri": "https://localhost:8080/"
        },
        "id": "yOuVvG5kyefS",
        "outputId": "ae80948c-9d17-457b-a244-830a893e36f0"
      },
      "source": [
        "!nvidia-smi"
      ],
      "execution_count": 41,
      "outputs": [
        {
          "output_type": "stream",
          "name": "stdout",
          "text": [
            "Wed Nov 20 09:19:25 2024       \n",
            "+---------------------------------------------------------------------------------------+\n",
            "| NVIDIA-SMI 535.104.05             Driver Version: 535.104.05   CUDA Version: 12.2     |\n",
            "|-----------------------------------------+----------------------+----------------------+\n",
            "| GPU  Name                 Persistence-M | Bus-Id        Disp.A | Volatile Uncorr. ECC |\n",
            "| Fan  Temp   Perf          Pwr:Usage/Cap |         Memory-Usage | GPU-Util  Compute M. |\n",
            "|                                         |                      |               MIG M. |\n",
            "|=========================================+======================+======================|\n",
            "|   0  Tesla T4                       Off | 00000000:00:04.0 Off |                    0 |\n",
            "| N/A   68C    P0              30W /  70W |    107MiB / 15360MiB |      0%      Default |\n",
            "|                                         |                      |                  N/A |\n",
            "+-----------------------------------------+----------------------+----------------------+\n",
            "                                                                                         \n",
            "+---------------------------------------------------------------------------------------+\n",
            "| Processes:                                                                            |\n",
            "|  GPU   GI   CI        PID   Type   Process name                            GPU Memory |\n",
            "|        ID   ID                                                             Usage      |\n",
            "|=======================================================================================|\n",
            "+---------------------------------------------------------------------------------------+\n"
          ]
        }
      ]
    },
    {
      "cell_type": "markdown",
      "metadata": {
        "id": "pER7mLFezV9u"
      },
      "source": [
        "> 🔑 **Lưu ý:** Nếu chúng ta có quyền truy cập vào GPU, TensorFlow sẽ tự động sử dụng nó bất cứ khi nào có thể."
      ]
    },
    {
      "cell_type": "markdown",
      "metadata": {
        "id": "HcCZxK61VIv0"
      },
      "source": [
        "## 🛠 Bài tập thực hành\n",
        "> **Lưu ý:** Các bạn cần làm phần bài tập này để chuẩn bị cho phiên review lab.\n",
        "\n",
        "1. Tạo một vector, scalar, matrix và tensor với các giá trị tùy chọn, sử dụng `tf.constant()`.\n",
        "2. Tìm shape, rank và size của tensor mà bạn vừa tạo ở 1.\n",
        "3. Tạo hai tensor chứa các giá trị ngẫu nhiên trong khoảng từ 0 đến 1 có shape `[5, 300]`.\n",
        "4. Nhân hai tensor mà bạn tạo ở 3, sử dụng phép nhân ma trận.\n",
        "5. Nhân hai tensor mà bạn tạo ở 3, sử dụng tích vô hướng.\n",
        "6. Tạo một tensor với giá trị ngẫu nhiên trong khoảng từ 0 đến 1 có shape `[224, 224, 3]`.\n",
        "7. Tìm min và max của tensor bạn đã tạo ở 6.\n",
        "8. Tạo một tensor với các giá trị tuyệt đối có shape `[1, 224, 224, 3]` rồi nén nó để thay đổi shape thành `[224, 224, 3]`.\n",
        "9. Tạo một tensor có shape `[10]` sử dụng các giá trị tùy chọn rồi tìm ra chỉ mục nào có giá trị lớn nhất.\n",
        "10. Mã hóa one-hot tensor bạn vừa tạo ở 9."
      ]
    },
    {
      "cell_type": "code",
      "source": [
        "import tensorflow as tf\n",
        "\n",
        "# Ex1\n",
        "vector = tf.constant([1, 2, 3])\n",
        "scalar = tf.constant(5)\n",
        "matrix = tf.constant([[1, 2, 3],\n",
        "                      [4, 5, 6]])\n",
        "# Ex2\n",
        "print(\"2.\")\n",
        "print(\"Shape:\", vector.shape, scalar.shape, matrix.shape)\n",
        "print(\"Rank/ndim:\", vector.ndim, scalar.ndim, matrix.ndim)\n",
        "print(\"Size:\", tf.size(vector), tf.size(scalar), tf.size(matrix))\n",
        "# Ex3\n",
        "tensor_1 = tf.random.uniform(shape=[5, 300])\n",
        "tensor_2 = tf.random.uniform(shape=[5, 300])\n",
        "# Ex4\n",
        "print(\"4.\")\n",
        "matmul_12 = tf.matmul(tensor_1, tf.transpose(tensor_2))\n",
        "print(matmul_12)\n",
        "# Ex5\n",
        "print(\"5.\")\n",
        "dot_12 = tf.tensordot(tf.transpose(tensor_1), tensor_2, axes=1)\n",
        "print(dot_12)\n",
        "# Ex6\n",
        "print(\"6.\")\n",
        "tensor_3 = tf.random.uniform(shape=[224, 224, 3])\n",
        "print(tensor_3)\n",
        "# Ex7\n",
        "print(\"7.\")\n",
        "print(tf.reduce_min(tensor_3), tf.reduce_max(tensor_3))\n",
        "# Ex8\n",
        "print(\"8.\")\n",
        "tensor_4 = tf.random.uniform(shape=[1, 224, 224, 3])\n",
        "print(tf.squeeze(tensor_4))\n",
        "# Ex9\n",
        "print(\"9.\")\n",
        "tensor_5 = tf.random.uniform(shape=[10])\n",
        "print(tensor_5)\n",
        "print(tf.argmax(tensor_5))\n",
        "# Ex10\n",
        "print(\"10.\")\n",
        "print(tf.one_hot(tf.argmax(tensor_5), depth=10))"
      ],
      "metadata": {
        "colab": {
          "base_uri": "https://localhost:8080/"
        },
        "id": "O7bqdknr3uhS",
        "outputId": "1adeaf52-16cb-4d9d-e840-708fdf459298"
      },
      "execution_count": 11,
      "outputs": [
        {
          "output_type": "stream",
          "name": "stdout",
          "text": [
            "2.\n",
            "Shape: (3,) () (2, 3)\n",
            "Rank/ndim: 1 0 2\n",
            "Size: tf.Tensor(3, shape=(), dtype=int32) tf.Tensor(1, shape=(), dtype=int32) tf.Tensor(6, shape=(), dtype=int32)\n",
            "4.\n",
            "tf.Tensor(\n",
            "[[73.5336   71.484474 70.55331  76.329056 76.317604]\n",
            " [69.73369  70.22075  71.25925  71.25724  71.530174]\n",
            " [75.62015  73.130936 77.55522  77.40071  76.439926]\n",
            " [70.15066  67.681404 70.69348  75.40105  74.682396]\n",
            " [74.4958   74.67212  76.55     78.23361  78.420494]], shape=(5, 5), dtype=float32)\n",
            "5.\n",
            "tf.Tensor(\n",
            "[[0.31207472 1.3607137  0.90397626 ... 0.2850745  1.2749408  1.1693866 ]\n",
            " [1.2250819  2.287491   2.048727   ... 0.82799023 2.4246721  2.7021503 ]\n",
            " [0.42477146 1.2859242  1.110932   ... 0.27774155 1.1843224  1.0535555 ]\n",
            " ...\n",
            " [0.43067333 1.1597167  1.0641298  ... 0.16326194 1.1503671  1.0649788 ]\n",
            " [0.4541836  1.599079   1.0443041  ... 0.7055065  1.4734222  1.3526297 ]\n",
            " [0.49775898 1.279276   1.1602384  ... 0.1680744  1.3208457  1.2692549 ]], shape=(300, 300), dtype=float32)\n",
            "6.\n",
            "tf.Tensor(\n",
            "[[[0.30662    0.78193414 0.74718356]\n",
            "  [0.04327774 0.32106185 0.136114  ]\n",
            "  [0.4674909  0.58173096 0.15055239]\n",
            "  ...\n",
            "  [0.94172454 0.9353862  0.9805975 ]\n",
            "  [0.62852955 0.36554754 0.36619866]\n",
            "  [0.45124876 0.3887509  0.7544788 ]]\n",
            "\n",
            " [[0.62739444 0.58045495 0.68280315]\n",
            "  [0.08130765 0.40791905 0.81628764]\n",
            "  [0.40922153 0.3138473  0.41747022]\n",
            "  ...\n",
            "  [0.15920687 0.5333266  0.45258403]\n",
            "  [0.17552781 0.2365104  0.19837332]\n",
            "  [0.10378754 0.17978978 0.39345813]]\n",
            "\n",
            " [[0.68436956 0.05015874 0.67184854]\n",
            "  [0.42395222 0.16888571 0.10086775]\n",
            "  [0.10181642 0.22390306 0.664186  ]\n",
            "  ...\n",
            "  [0.36626697 0.08441794 0.757869  ]\n",
            "  [0.45325887 0.24935603 0.9433572 ]\n",
            "  [0.3639648  0.8088993  0.8922422 ]]\n",
            "\n",
            " ...\n",
            "\n",
            " [[0.44551325 0.7537657  0.6923456 ]\n",
            "  [0.18962312 0.72995067 0.63163507]\n",
            "  [0.38771558 0.08750248 0.39509904]\n",
            "  ...\n",
            "  [0.1596669  0.02814996 0.5673528 ]\n",
            "  [0.92714703 0.06986189 0.781976  ]\n",
            "  [0.84864306 0.6908041  0.9899912 ]]\n",
            "\n",
            " [[0.09226859 0.81037676 0.05730176]\n",
            "  [0.27915776 0.25887263 0.12299478]\n",
            "  [0.16743255 0.761968   0.13267577]\n",
            "  ...\n",
            "  [0.8147588  0.31570947 0.964098  ]\n",
            "  [0.4874301  0.57083845 0.20219779]\n",
            "  [0.35430694 0.14945698 0.8868828 ]]\n",
            "\n",
            " [[0.3217814  0.13970661 0.06999767]\n",
            "  [0.9644673  0.2537068  0.24172664]\n",
            "  [0.43296468 0.49880826 0.67670226]\n",
            "  ...\n",
            "  [0.2899692  0.14047563 0.27368438]\n",
            "  [0.5204011  0.7330549  0.3009205 ]\n",
            "  [0.3214531  0.14752531 0.89398813]]], shape=(224, 224, 3), dtype=float32)\n",
            "7.\n",
            "tf.Tensor(3.5762787e-06, shape=(), dtype=float32) tf.Tensor(0.99999523, shape=(), dtype=float32)\n",
            "8.\n",
            "tf.Tensor(\n",
            "[[[0.6728476  0.30051315 0.92058456]\n",
            "  [0.24475896 0.03796101 0.63270235]\n",
            "  [0.58814645 0.6571462  0.5881467 ]\n",
            "  ...\n",
            "  [0.61427164 0.25233483 0.07998717]\n",
            "  [0.3628962  0.62335086 0.94738054]\n",
            "  [0.05614829 0.8602898  0.43322647]]\n",
            "\n",
            " [[0.5925485  0.41196728 0.14462256]\n",
            "  [0.41538882 0.4864242  0.16396582]\n",
            "  [0.7917073  0.4411887  0.4655267 ]\n",
            "  ...\n",
            "  [0.01303101 0.24555099 0.06228352]\n",
            "  [0.40708995 0.407673   0.36375356]\n",
            "  [0.30484974 0.6357461  0.22018778]]\n",
            "\n",
            " [[0.184847   0.09100735 0.7022364 ]\n",
            "  [0.969949   0.10917258 0.7238499 ]\n",
            "  [0.3737749  0.9667623  0.44482195]\n",
            "  ...\n",
            "  [0.07913828 0.86327076 0.94435525]\n",
            "  [0.32092202 0.81831217 0.10722089]\n",
            "  [0.759482   0.3515637  0.4360162 ]]\n",
            "\n",
            " ...\n",
            "\n",
            " [[0.33837366 0.04208636 0.13063824]\n",
            "  [0.21728146 0.16388714 0.40997398]\n",
            "  [0.5379976  0.63971436 0.89479923]\n",
            "  ...\n",
            "  [0.711658   0.95387924 0.31073308]\n",
            "  [0.9985335  0.33925414 0.50198233]\n",
            "  [0.26709616 0.34133184 0.78806853]]\n",
            "\n",
            " [[0.97782505 0.42998564 0.555668  ]\n",
            "  [0.90323853 0.38996077 0.4163636 ]\n",
            "  [0.61440635 0.8420044  0.8649707 ]\n",
            "  ...\n",
            "  [0.9976791  0.93888044 0.18230438]\n",
            "  [0.40208662 0.6134784  0.55145407]\n",
            "  [0.50811887 0.5507245  0.03404331]]\n",
            "\n",
            " [[0.08645511 0.84028924 0.19177163]\n",
            "  [0.9132185  0.12646174 0.92792606]\n",
            "  [0.6742716  0.85068595 0.11884511]\n",
            "  ...\n",
            "  [0.46857035 0.30383658 0.1930803 ]\n",
            "  [0.27736437 0.62658095 0.732283  ]\n",
            "  [0.20759118 0.9033723  0.2629546 ]]], shape=(224, 224, 3), dtype=float32)\n",
            "9.\n",
            "tf.Tensor(\n",
            "[0.67604315 0.57481754 0.30883348 0.9742509  0.68537855 0.4805857\n",
            " 0.88192415 0.51322484 0.5168562  0.07479966], shape=(10,), dtype=float32)\n",
            "tf.Tensor(3, shape=(), dtype=int64)\n",
            "10.\n",
            "tf.Tensor([0. 0. 0. 1. 0. 0. 0. 0. 0. 0.], shape=(10,), dtype=float32)\n"
          ]
        }
      ]
    },
    {
      "cell_type": "markdown",
      "metadata": {
        "id": "EgHK5CjY3oVX"
      },
      "source": [
        "## 📖 Tài liệu tham khảo\n",
        "\n",
        "* Đọc qua [danh sách TensorFlow Python API](https://www.tensorflow.org/api_docs/python/), chọn một cái mà chúng ta chưa tìm hiểu trong notebook này, thiết kế ngược (tự viết code tài liệu) và tìm hiểu xem nó có tác dụng gì.\n",
        "* Thử tạo một chuỗi các hàm tensor để tính toán các hóa đơn tạp hóa gần đây nhất (không cần tên các mặt hàng, chỉ cần giá cả ở dạng số).\n",
        "  * Chúng ta sẽ tính toán hóa đơn tạp hóa theo tháng và năm thế nào khi sử dụng tensor?\n",
        "* Xem qua hướng dẫn [TensorFlow 2.x quick start for beginners](https://www.tensorflow.org/tutorials/quickstart/beginner) (đảm bảo tự gõ toàn bộ code dù bạn không hiểu nó).\n",
        "  * Còn hàm nào mà chúng ta sử dụng ở đây khớp với những gì chúng ta sử dụng ở đó không? Những cái nào giống nhau? Những cái nào chúng ta chưa từng thấy trước đây?\n",
        "* Xem video [\"What's a tensor?\"](https://www.youtube.com/watch?v=f5liqUk0ZTw) - giới thiệu trực quan tuyệt vời về các khái niệm mà chúng ta đã đề cập trong notebook này."
      ]
    },
    {
      "cell_type": "code",
      "source": [],
      "metadata": {
        "id": "glULjjdmI3C1"
      },
      "execution_count": null,
      "outputs": []
    }
  ]
}